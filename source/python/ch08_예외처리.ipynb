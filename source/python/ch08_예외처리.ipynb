{
 "cells": [
  {
   "cell_type": "markdown",
   "id": "8f4f022e-5158-46c1-ac2b-6109f336df98",
   "metadata": {},
   "source": [
    "ch08 예외처리"
   ]
  },
  {
   "cell_type": "markdown",
   "id": "8a9ee0f6-799f-416f-9006-4e5198f7ea4b",
   "metadata": {},
   "source": [
    "에러 종류\n",
    "1. 논리에러 : 코드 문법 \n",
    "2. 시스템에러 : 시스템(OS)자체 에러\n",
    "3. 예외사항 : 프로그램 실행 중 발생하는 예기치 않은 사건   "
   ]
  },
  {
   "cell_type": "markdown",
   "id": "a9644875-8320-4fec-850a-a8fb6a081ff0",
   "metadata": {},
   "source": [
    "# 1. 예외처리\n",
    "-예외가 날 가능성이 있는 부분을 미리 예상하고 그에 대한 처리를 프로그래밍하는 것 -> 안정적으로 실행될 수 있도록 하기 위함)"
   ]
  },
  {
   "cell_type": "code",
   "execution_count": 29,
   "id": "fd17c680-e212-4ab1-b254-b586f0f5292c",
   "metadata": {},
   "outputs": [
    {
     "name": "stdin",
     "output_type": "stream",
     "text": [
      "파일명? ch08.txt\n"
     ]
    },
    {
     "data": {
      "text/plain": [
       "['This is Test File\\n', 'Hello, python\\n', '테스트 파일입니다.']"
      ]
     },
     "execution_count": 29,
     "metadata": {},
     "output_type": "execute_result"
    }
   ],
   "source": [
    "#있는 파일의 경우 예외 발생 안함\n",
    "filename = input('파일명?')\n",
    "f = open('data/ch08.txt','r',encoding='utf-8') #인코딩 디폴트값은 cp949\n",
    "f.readlines()"
   ]
  },
  {
   "cell_type": "code",
   "execution_count": 30,
   "id": "76b52d53-588f-4096-8fe9-95ad09a439a2",
   "metadata": {},
   "outputs": [],
   "source": [
    "f.close() #연 파일은 항상 close"
   ]
  },
  {
   "cell_type": "code",
   "execution_count": 31,
   "id": "7fde2b81-3eae-4dc2-b2f6-b01fc5e68251",
   "metadata": {},
   "outputs": [
    {
     "name": "stdin",
     "output_type": "stream",
     "text": [
      "나눌 숫자를 입력하세요 >> 4\n"
     ]
    },
    {
     "data": {
      "text/plain": [
       "25.0"
      ]
     },
     "execution_count": 31,
     "metadata": {},
     "output_type": "execute_result"
    }
   ],
   "source": [
    "#ValueError 예외 객체 : 숫자가 아닌 문자를 입력했을 경우\n",
    "#ZeroDivisionError 예외 객체 :\n",
    "num = int(input('나눌 숫자를 입력하세요 >>')) \n",
    "100/num"
   ]
  },
  {
   "cell_type": "code",
   "execution_count": 9,
   "id": "1b3214cb-7711-48e9-9308-303296c2eaa6",
   "metadata": {},
   "outputs": [
    {
     "ename": "IndexError",
     "evalue": "list index out of range",
     "output_type": "error",
     "traceback": [
      "\u001b[1;31m---------------------------------------------------------------------------\u001b[0m",
      "\u001b[1;31mIndexError\u001b[0m                                Traceback (most recent call last)",
      "Cell \u001b[1;32mIn[9], line 3\u001b[0m\n\u001b[0;32m      1\u001b[0m \u001b[38;5;66;03m#인덱스를 벗어났을 경우\u001b[39;00m\n\u001b[0;32m      2\u001b[0m a \u001b[38;5;241m=\u001b[39m [\u001b[38;5;241m1\u001b[39m,\u001b[38;5;241m2\u001b[39m,\u001b[38;5;241m3\u001b[39m]\n\u001b[1;32m----> 3\u001b[0m a[\u001b[38;5;241m3\u001b[39m]\n",
      "\u001b[1;31mIndexError\u001b[0m: list index out of range"
     ]
    }
   ],
   "source": [
    "#인덱스를 벗어났을 경우 -> IndexError\n",
    "a = [1,2,3]\n",
    "a[3]\n"
   ]
  },
  {
   "cell_type": "markdown",
   "id": "d4c05e3f-7b3c-4463-bbad-a5db7861b9d4",
   "metadata": {},
   "source": [
    "# 2. try ~ except로 예외 처리\n",
    "```\n",
    "try : 예외 발생할 가능성이 있는 명령어들\n",
    "명령어 ....\n",
    "\n",
    "except [예외 타입 [as예외객체변수명]]  : 예외가 발생했을 경우 실행\n",
    "[else :\n",
    "    예외가 발생되지 않을 경우 수행] -> 잘 사용하지는 않음\n",
    "[finally:\n",
    "    예외가 발생되든 안되는 반드시 실행할 명령어]\n",
    "```"
   ]
  },
  {
   "cell_type": "code",
   "execution_count": 16,
   "id": "794e7313-5bf3-4b39-af8e-3fdfd3423ccb",
   "metadata": {},
   "outputs": [
    {
     "name": "stdin",
     "output_type": "stream",
     "text": [
      "100을 나눈 정수를 입력하세요 >> 1\n"
     ]
    },
    {
     "name": "stdout",
     "output_type": "stream",
     "text": [
      "입력한 수는 1\n",
      "100을 입력한 정수로 나누면 100.00입니다\n"
     ]
    }
   ],
   "source": [
    "#100을 입력받은 정수값으로 나눠 출력하는 프로그램\n",
    "# ValueError\n",
    "# ZeroDivision\n",
    "try:    \n",
    "    x = int(input('100을 나눈 정수를 입력하세요 >>'))\n",
    "    print(\"입력한 수는 {}\".format(x))        \n",
    "    print(\"100을 입력한 정수로 나누면 {:.2f}입니다\".format(100/x))\n",
    "except:\n",
    "    print(\"유효한 정수가 아닙니다.\")"
   ]
  },
  {
   "cell_type": "code",
   "execution_count": 21,
   "id": "d5cb855c-4344-40b1-92b9-1991e6e08b26",
   "metadata": {},
   "outputs": [
    {
     "name": "stdin",
     "output_type": "stream",
     "text": [
      "100을 나눈 정수를 입력하세요 >> ㅁ\n"
     ]
    },
    {
     "name": "stdout",
     "output_type": "stream",
     "text": [
      "0으로는 나눌 수 없습니다\n"
     ]
    }
   ],
   "source": [
    "#100을 입력받은 정수값으로 나눠 출력하는 프로그램\n",
    "# ValueError\n",
    "# ZeroDivision\n",
    "try:    \n",
    "    x = int(input('100을 나눈 정수를 입력하세요 >>'))\n",
    "    print(\"입력한 수는 {}\".format(x))        \n",
    "    print(\"100을 입력한 정수로 나누면 {:.2f}입니다\".format(100/x))\n",
    "except Exception: # ZeroDivisionErro: 의 상위 클래스 느낌의 에러\n",
    "    print(\"0으로는 나눌 수 없습니다\")\n",
    "except ValueError: # Value 에러 또한 상위 Exception 이기 때문에 문자를 입력해서 '0으로는 나눌 수 없습니다'출력\n",
    "                    #-> 최대한 상위 예외를 아래에 놔야 다양한 에러처리가 가능함 \n",
    "    print(\"유효한 숫자를 입력하세요\")\n"
   ]
  },
  {
   "cell_type": "code",
   "execution_count": null,
   "id": "5e9466d3-6e52-4aef-9ddb-c777753d8bcf",
   "metadata": {},
   "outputs": [],
   "source": [
    "#100을 입력받은 정수값으로 나눠 출력하는 프로그램\n",
    "# ValueError\n",
    "# ZeroDivision\n",
    "try:    \n",
    "    x = int(input('100을 나눈 정수를 입력하세요 >>'))\n",
    "    print(\"입력한 수는 {}\".format(x))        \n",
    "    print(\"100을 입력한 정수로 나누면 {:.2f}입니다\".format(100/x))\n",
    "except ValueError: \n",
    "    print(\"유효한 숫자를 입력하세요\")    \n",
    "except ZeroDivisionError: \n",
    "    print(\"0으로는 나눌 수 없습니다\")\n",
    "except Exception: # except절이 많을 수록 상위 클래스를 아래에 명시 \n",
    "    print(\"유효한 숫자를 입력하세요\")"
   ]
  },
  {
   "cell_type": "code",
   "execution_count": 22,
   "id": "27774849-8f30-4957-9314-62a60a092796",
   "metadata": {},
   "outputs": [
    {
     "name": "stdin",
     "output_type": "stream",
     "text": [
      "100을 나눈 정수를 입력하세요 >> a\n"
     ]
    },
    {
     "name": "stdout",
     "output_type": "stream",
     "text": [
      "유효한 숫자를 입력하세요\n"
     ]
    },
    {
     "name": "stdin",
     "output_type": "stream",
     "text": [
      "100을 나눈 정수를 입력하세요 >> 0\n"
     ]
    },
    {
     "name": "stdout",
     "output_type": "stream",
     "text": [
      "입력한 수는 0\n",
      "0으로는 나눌 수 없습니다\n"
     ]
    },
    {
     "name": "stdin",
     "output_type": "stream",
     "text": [
      "100을 나눈 정수를 입력하세요 >> 10\n"
     ]
    },
    {
     "name": "stdout",
     "output_type": "stream",
     "text": [
      "입력한 수는 10\n",
      "100을 입력한 정수로 나누면 10.00입니다\n"
     ]
    }
   ],
   "source": [
    "#100을 입력받은 정수값으로 나눠 출력하는 프로그램 + 유효한 숫자를 입력할 때까지 수를 입력받음\n",
    "\n",
    "while True:\n",
    "    try:    \n",
    "        x = int(input('100을 나눈 정수를 입력하세요 >>'))\n",
    "        print(\"입력한 수는 {}\".format(x))        \n",
    "        print(\"100을 입력한 정수로 나누면 {:.2f}입니다\".format(100/x))\n",
    "        break\n",
    "    except ValueError: \n",
    "        print(\"유효한 숫자를 입력하세요\")    \n",
    "    except ZeroDivisionError: \n",
    "        print(\"0으로는 나눌 수 없습니다\")\n",
    "    except Exception: # except절이 많을 수록 상위 클래스를 아래에 명시 \n",
    "        print(\"유효한 숫자를 입력하세요\")\n"
   ]
  },
  {
   "cell_type": "code",
   "execution_count": 24,
   "id": "e5536340-a61f-4855-a5a9-f2492be29b5f",
   "metadata": {},
   "outputs": [
    {
     "name": "stdin",
     "output_type": "stream",
     "text": [
      "100을 나눈 정수를 입력하세요 >> 0\n"
     ]
    },
    {
     "name": "stdout",
     "output_type": "stream",
     "text": [
      "입력한 수는 0\n",
      "division by zero\n",
      "예외 객체의 타입 : <class 'ZeroDivisionError'>\n",
      "예외 메세지 e.args : ('division by zero',)\n"
     ]
    },
    {
     "name": "stdin",
     "output_type": "stream",
     "text": [
      "100을 나눈 정수를 입력하세요 >> 2\n"
     ]
    },
    {
     "name": "stdout",
     "output_type": "stream",
     "text": [
      "입력한 수는 2\n",
      "100을 입력한 정수로 나누면 50.00입니다\n"
     ]
    }
   ],
   "source": [
    "while True:\n",
    "    try:    \n",
    "        x = int(input('100을 나눈 정수를 입력하세요 >>'))\n",
    "        print(\"입력한 수는 {}\".format(x))        \n",
    "        print(\"100을 입력한 정수로 나누면 {:.2f}입니다\".format(100/x))\n",
    "        break\n",
    "    except (ValueError,ZeroDivisionError) as e: #객체 타입 나열도 가능하다.\n",
    "        print(e) #print(e.__str__()) #예외 메세지를 보고 싶으면 print(e)\n",
    "        print('예외 객체의 타입 :',type(e))\n",
    "        print('예외 메세지 e.args :',e.args)"
   ]
  },
  {
   "cell_type": "code",
   "execution_count": 32,
   "id": "9f9bfba3-ef86-4a3c-ab1c-c63fb1d5e93c",
   "metadata": {},
   "outputs": [
    {
     "name": "stdout",
     "output_type": "stream",
     "text": [
      "This is Test File\n",
      "Hello, python\n",
      "테스트 파일입니다.\n",
      "This is Test File\n",
      "Hello, python\n",
      "테스트 파일입니다.\n"
     ]
    }
   ],
   "source": [
    "try:\n",
    "    f = open('data/ch08.txt','r',encoding='utf-8')\n",
    "    data = f.read() #파일을 끝까지 텍스트 형태로 읽어서 반환하는 함수\n",
    "    print(data)\n",
    "except FileNoteFoundError as e :\n",
    "    print(e)\n",
    "else :\n",
    "    print(data)\n",
    "finally:\n",
    "    f.close()#중요"
   ]
  },
  {
   "cell_type": "markdown",
   "id": "8dbc9346-5235-4c9d-9635-a94f2332292a",
   "metadata": {},
   "source": [
    "# 3. 강제로 예외 발생시키기(raise)"
   ]
  },
  {
   "cell_type": "code",
   "execution_count": 40,
   "id": "2090b8d5-d290-4918-9f02-d7359aae3d4e",
   "metadata": {},
   "outputs": [
    {
     "ename": "Exception",
     "evalue": "예외 발생",
     "output_type": "error",
     "traceback": [
      "\u001b[1;31m---------------------------------------------------------------------------\u001b[0m",
      "\u001b[1;31mException\u001b[0m                                 Traceback (most recent call last)",
      "Cell \u001b[1;32mIn[40], line 1\u001b[0m\n\u001b[1;32m----> 1\u001b[0m \u001b[38;5;28;01mraise\u001b[39;00m \u001b[38;5;167;01mException\u001b[39;00m(\u001b[38;5;124m\"\u001b[39m\u001b[38;5;124m예외 발생\u001b[39m\u001b[38;5;124m\"\u001b[39m)\n",
      "\u001b[1;31mException\u001b[0m: 예외 발생"
     ]
    }
   ],
   "source": [
    "raise Exception(\"예외 발생\") #예외 메세지 출력 -> Exception: 예외 발생"
   ]
  },
  {
   "cell_type": "code",
   "execution_count": 38,
   "id": "f69564bf-2d9b-47f5-984d-e88fde54fdc0",
   "metadata": {},
   "outputs": [],
   "source": [
    "#사용자 정의 예외 타입 : 기존 파이썬에서 제공되는 Exception을 상속\n",
    "class LengthZeroError(Exception):\n",
    "    \"길이가 0일 때 발생하는 예외\"\n",
    "    def __init__(self):\n",
    "        super().__init__(\"매개 변수 길이가 0이면 예외\")"
   ]
  },
  {
   "cell_type": "code",
   "execution_count": 41,
   "id": "357bb38e-df32-4cc3-8e8b-4c9726ed5423",
   "metadata": {},
   "outputs": [
    {
     "ename": "TypeError",
     "evalue": "LengthZeroError.__init__() takes 1 positional argument but 2 were given",
     "output_type": "error",
     "traceback": [
      "\u001b[1;31m---------------------------------------------------------------------------\u001b[0m",
      "\u001b[1;31mTypeError\u001b[0m                                 Traceback (most recent call last)",
      "Cell \u001b[1;32mIn[41], line 1\u001b[0m\n\u001b[1;32m----> 1\u001b[0m \u001b[38;5;28;01mraise\u001b[39;00m LengthZeroError(\u001b[38;5;124m\"\u001b[39m\u001b[38;5;124m매개변수 길이가 0이면 예외\u001b[39m\u001b[38;5;124m\"\u001b[39m)\n",
      "\u001b[1;31mTypeError\u001b[0m: LengthZeroError.__init__() takes 1 positional argument but 2 were given"
     ]
    }
   ],
   "source": [
    "raise LengthZeroError(\"매개변수 길이가 0이면 예외\")"
   ]
  },
  {
   "cell_type": "code",
   "execution_count": 42,
   "id": "f7b28419-c8da-495c-aac8-21f8ae227a2f",
   "metadata": {},
   "outputs": [],
   "source": [
    "def insert(*data): #튜플 매개변수\n",
    "    if len(data)==0:\n",
    "        raise LengthZeroError()\n",
    "    for item in data:\n",
    "        print(item, end = '')\n",
    "    print(\"등을 입력하셨습니다\")"
   ]
  },
  {
   "cell_type": "code",
   "execution_count": 43,
   "id": "e23e2e49-1e7e-41f5-9cc7-581afc2e1f23",
   "metadata": {},
   "outputs": [
    {
     "name": "stdout",
     "output_type": "stream",
     "text": [
      "123등을 입력하셨습니다\n"
     ]
    }
   ],
   "source": [
    "insert(1,2,3)"
   ]
  },
  {
   "cell_type": "code",
   "execution_count": 44,
   "id": "27001da6-efda-4c65-966e-ec176415620e",
   "metadata": {},
   "outputs": [
    {
     "name": "stdout",
     "output_type": "stream",
     "text": [
      "1등을 입력하셨습니다\n"
     ]
    }
   ],
   "source": [
    "insert(1)"
   ]
  },
  {
   "cell_type": "code",
   "execution_count": 45,
   "id": "dbf3e028-97f7-4a96-959a-d19290b3b794",
   "metadata": {},
   "outputs": [
    {
     "ename": "LengthZeroError",
     "evalue": "매개 변수 길이가 0이면 예외",
     "output_type": "error",
     "traceback": [
      "\u001b[1;31m---------------------------------------------------------------------------\u001b[0m",
      "\u001b[1;31mLengthZeroError\u001b[0m                           Traceback (most recent call last)",
      "Cell \u001b[1;32mIn[45], line 1\u001b[0m\n\u001b[1;32m----> 1\u001b[0m insert()\n",
      "Cell \u001b[1;32mIn[42], line 3\u001b[0m, in \u001b[0;36minsert\u001b[1;34m(*data)\u001b[0m\n\u001b[0;32m      1\u001b[0m \u001b[38;5;28;01mdef\u001b[39;00m \u001b[38;5;21minsert\u001b[39m(\u001b[38;5;241m*\u001b[39mdata): \u001b[38;5;66;03m#튜플 매개변수\u001b[39;00m\n\u001b[0;32m      2\u001b[0m     \u001b[38;5;28;01mif\u001b[39;00m \u001b[38;5;28mlen\u001b[39m(data)\u001b[38;5;241m==\u001b[39m\u001b[38;5;241m0\u001b[39m:\n\u001b[1;32m----> 3\u001b[0m         \u001b[38;5;28;01mraise\u001b[39;00m LengthZeroError()\n\u001b[0;32m      4\u001b[0m     \u001b[38;5;28;01mfor\u001b[39;00m item \u001b[38;5;129;01min\u001b[39;00m data:\n\u001b[0;32m      5\u001b[0m         \u001b[38;5;28mprint\u001b[39m(item, end \u001b[38;5;241m=\u001b[39m \u001b[38;5;124m'\u001b[39m\u001b[38;5;124m'\u001b[39m)\n",
      "\u001b[1;31mLengthZeroError\u001b[0m: 매개 변수 길이가 0이면 예외"
     ]
    }
   ],
   "source": [
    "insert()"
   ]
  },
  {
   "cell_type": "code",
   "execution_count": 46,
   "id": "e5b35a47-2cd9-4165-b558-87816750e4af",
   "metadata": {},
   "outputs": [
    {
     "name": "stdout",
     "output_type": "stream",
     "text": [
      "123등을 입력하셨습니다\n"
     ]
    }
   ],
   "source": [
    "l = (1,2,3)\n",
    "insert(*l) #언패킹"
   ]
  },
  {
   "cell_type": "markdown",
   "id": "69b8b2e7-100f-4919-b469-e2774126dc8a",
   "metadata": {},
   "source": [
    "# 4. 파일 정리 작업(with)"
   ]
  },
  {
   "cell_type": "code",
   "execution_count": 48,
   "id": "06b55932-0d5c-41ab-8ac0-49cbc40604b8",
   "metadata": {},
   "outputs": [
    {
     "name": "stdout",
     "output_type": "stream",
     "text": [
      "['This is Test File\\n', 'Hello, python\\n', '테스트 파일입니다.']\n"
     ]
    }
   ],
   "source": [
    "# 파일 입출력시 자원 반납 필수(close)\n",
    "try : \n",
    "    f = open('data/ch08.txt','r',encoding='utf-8')\n",
    "    lines = f.readlines() #한줄한줄 모든 줄을 list형태로 반환\n",
    "    print(lines)\n",
    "except:\n",
    "    print('없는 파일이거나 encoding 확인 요망',e)\n",
    "finally:\n",
    "    f.close()\n",
    "    \n",
    "    "
   ]
  },
  {
   "cell_type": "code",
   "execution_count": 51,
   "id": "9771463a-5ce7-47a1-9853-8fa805d67acd",
   "metadata": {},
   "outputs": [
    {
     "name": "stdout",
     "output_type": "stream",
     "text": [
      "['This is Test File\\n', 'Hello, python\\n', '테스트 파일입니다.']\n"
     ]
    }
   ],
   "source": [
    "#with 절을 이용시 자동으로  close()진행\n",
    "with open('data/ch08.txt','r',encoding='utf-8') as f: #with절에서 만 쓸수 있는 지역번수 f\n",
    "    lines = f.readlines()\n",
    "print(lines)    "
   ]
  },
  {
   "cell_type": "markdown",
   "id": "480265ff-fe3c-4445-bfda-9dd1ef287245",
   "metadata": {},
   "source": [
    "# 연습문제"
   ]
  },
  {
   "cell_type": "code",
   "execution_count": null,
   "id": "63d55123-3a16-4a09-a238-843e2a0a0d8e",
   "metadata": {},
   "outputs": [],
   "source": []
  }
 ],
 "metadata": {
  "kernelspec": {
   "display_name": "Python 3 (ipykernel)",
   "language": "python",
   "name": "python3"
  },
  "language_info": {
   "codemirror_mode": {
    "name": "ipython",
    "version": 3
   },
   "file_extension": ".py",
   "mimetype": "text/x-python",
   "name": "python",
   "nbconvert_exporter": "python",
   "pygments_lexer": "ipython3",
   "version": "3.12.3"
  }
 },
 "nbformat": 4,
 "nbformat_minor": 5
}
