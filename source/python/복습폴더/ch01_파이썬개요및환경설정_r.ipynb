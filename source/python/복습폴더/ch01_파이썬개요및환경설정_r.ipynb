{
 "cells": [
  {
   "cell_type": "markdown",
   "id": "ad5367d9-03f4-4f4b-b99c-3234c478d531",
   "metadata": {},
   "source": [
    "# ch01. 파이썬 개요 및 환경설정"
   ]
  },
  {
   "cell_type": "markdown",
   "id": "7dde08cd-cbc6-4d1f-8292-e33633afffb5",
   "metadata": {},
   "source": [
    "## 1. 주피터 노트북 사용법\n",
    "- shift+Enter : 포커스된 셀이 실행되고 다음셀로 이동\r\n",
    "- alt+Enter : 포커스된 셀이 실행되고 다음셀이 생성된 후 이동\r\n",
    "- ctrl+Enter : 포커스된 셀이 실행되고 포커스 이동없음\r\n",
    "- Enter=클릭 : 셀이 포커스됨(편집 태)\n"
   ]
  },
  {
   "cell_type": "code",
   "execution_count": 5,
   "id": "78ae9a92-0dfc-4759-9e8e-856216769c22",
   "metadata": {},
   "outputs": [
    {
     "name": "stdout",
     "output_type": "stream",
     "text": [
      "hello\n"
     ]
    }
   ],
   "source": [
    "print('hello')"
   ]
  },
  {
   "cell_type": "code",
   "execution_count": 7,
   "id": "d71bcc5d-3457-40eb-9c3e-f45602fe8587",
   "metadata": {},
   "outputs": [
    {
     "data": {
      "text/plain": [
       "3"
      ]
     },
     "execution_count": 7,
     "metadata": {},
     "output_type": "execute_result"
    }
   ],
   "source": [
    "a=1\n",
    "b='2'\n",
    "a+int(b) # 문자 + 숫자 불가능"
   ]
  },
  {
   "cell_type": "markdown",
   "id": "0ff1b4fc-476e-48d6-ac0d-9172f2788fd7",
   "metadata": {},
   "source": [
    "## 2.ESC키 누르고 핫키"
   ]
  },
  {
   "cell_type": "markdown",
   "id": "002ac9af-4bf5-41e1-84d5-c8afd33af87b",
   "metadata": {},
   "source": [
    "```\n",
    "dd : 셀삭제\n",
    "a : 윗셀추가\n",
    "b : 아랫셀 추가\n",
    "m : 마크 다운셀로 전환\n",
    "y : 코드셀로 전환"
   ]
  },
  {
   "cell_type": "markdown",
   "id": "83caa120-9241-4397-9b53-93b5020b29e8",
   "metadata": {},
   "source": [
    "# 3. 마크다운이란?"
   ]
  },
  {
   "cell_type": "markdown",
   "id": "d6558bfc-56e5-494f-8927-109f08f5a543",
   "metadata": {},
   "source": [
    "```\n",
    "- 코드와 함께 문서화할 수 있다.\n",
    "여러줄 설명은 줄바꿈으로 할 수 있습니다.\n",
    "\n",
    "    여러줄 설명은\n",
    "    줄바꿈으로 할 수 있습니다"
   ]
  },
  {
   "cell_type": "markdown",
   "id": "3d4ce4e5-489f-4db3-96e1-a43e48776c8b",
   "metadata": {},
   "source": [
    "## 4. Table of contents"
   ]
  },
  {
   "cell_type": "markdown",
   "id": "06f7809b-f880-4baf-9da0-fdd1f94fcd8b",
   "metadata": {},
   "source": [
    "- view >  Table of contents"
   ]
  },
  {
   "cell_type": "markdown",
   "id": "ba64095f-3265-4914-92d4-f4eb7a6680de",
   "metadata": {},
   "source": [
    "!dir #주피터노트북에서는 !는 cmd명령어 수행 가능"
   ]
  },
  {
   "cell_type": "code",
   "execution_count": null,
   "id": "af5a18db-5da3-4edc-a86b-85788941e7ee",
   "metadata": {},
   "outputs": [],
   "source": []
  }
 ],
 "metadata": {
  "kernelspec": {
   "display_name": "Python 3 (ipykernel)",
   "language": "python",
   "name": "python3"
  },
  "language_info": {
   "codemirror_mode": {
    "name": "ipython",
    "version": 3
   },
   "file_extension": ".py",
   "mimetype": "text/x-python",
   "name": "python",
   "nbconvert_exporter": "python",
   "pygments_lexer": "ipython3",
   "version": "3.11.7"
  }
 },
 "nbformat": 4,
 "nbformat_minor": 5
}
