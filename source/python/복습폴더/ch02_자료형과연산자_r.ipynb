{
 "cells": [
  {
   "cell_type": "markdown",
   "id": "7ef2e7ee-e1e3-4866-b5f6-5a0c31fca97a",
   "metadata": {
    "jp-MarkdownHeadingCollapsed": true
   },
   "source": [
    "ch02. 자료형과 연산자"
   ]
  },
  {
   "cell_type": "markdown",
   "id": "cbfd9623-a0da-4d1b-8d02-eb14730bb9e6",
   "metadata": {},
   "source": [
    "# 1. 변수\n",
    "## 1.1 변수선언\n",
    "-별도의 변수 선언과정 없음"
   ]
  },
  {
   "cell_type": "markdown",
   "id": "2aefe515-b0e6-41e5-9a94-86d64a4ba8e8",
   "metadata": {},
   "source": [
    "## 1.2 변수 할당\n",
    "-대입 연산자(=) 사용"
   ]
  },
  {
   "cell_type": "code",
   "execution_count": 9,
   "id": "c486715e-e2de-4092-a62e-6c4d7382d7d9",
   "metadata": {},
   "outputs": [
    {
     "name": "stdout",
     "output_type": "stream",
     "text": [
      "제공되는 pi값은 3.141592653589793\n",
      "계산된 넓이는? 78.53981633974483\n",
      "area타입은? <class 'float'>\n",
      "area주소는? 1605939115824\n"
     ]
    }
   ],
   "source": [
    "import numpy as np\n",
    "print('제공되는 pi값은', np.pi)\n",
    "r=5\n",
    "area = np.pi*r*r\n",
    "#print(계산된 넓이는 %lf.area)\n",
    "print(\"계산된 넓이는?\",area)\n",
    "print(\"area타입은?\",type(area))\n",
    "print(\"area주소는?\",id(area))"
   ]
  },
  {
   "cell_type": "code",
   "execution_count": 11,
   "id": "5156acb9-237d-4220-81d5-a74e68a8000f",
   "metadata": {},
   "outputs": [
    {
     "name": "stdout",
     "output_type": "stream",
     "text": [
      "계산된 넓이는? 10\n",
      "area타입은? <class 'int'>\n",
      "area주소는? 140727451632712\n"
     ]
    }
   ],
   "source": [
    "area = 10\n",
    "print(\"계산된 넓이는?\",area)\n",
    "print(\"area타입은?\",type(area))\n",
    "print(\"area주소는?\",id(area))"
   ]
  },
  {
   "cell_type": "code",
   "execution_count": 13,
   "id": "b74e6232-0daa-45b5-8e2b-f01b33084766",
   "metadata": {},
   "outputs": [
    {
     "name": "stdout",
     "output_type": "stream",
     "text": [
      "area 값은 파이썬은 좋아요\n",
      "area타입은 <class 'str'>\n",
      "area 주소는 1605990793360\n"
     ]
    }
   ],
   "source": [
    "area = '파이썬은 좋아요'\n",
    "print(\"area 값은\", area)\n",
    "print('area타입은', type(area) )\n",
    "print('area 주소는', id(area))"
   ]
  },
  {
   "cell_type": "markdown",
   "id": "971bcea1-7ae1-49ca-887c-94b824b8b810",
   "metadata": {},
   "source": [
    "## 1.3 변수이름 규칙\n",
    "- 문자(특수문자는 _제외하고 안됨), 숫자, _로 명명.\n",
    "- 문자로 시작\n",
    "- 파이썬에서 제공되는 기본 함수명 피하자. 꼭 써야한다면 int_식으로 _를 붙임\n",
    "- 파이썬 예약어는 변수명 불가(ex. if)"
   ]
  },
  {
   "cell_type": "code",
   "execution_count": 16,
   "id": "6a1d55b5-e00b-4623-8bcf-83ee9876e916",
   "metadata": {},
   "outputs": [
    {
     "data": {
      "text/plain": [
       "'북한'"
      ]
     },
     "execution_count": 16,
     "metadata": {},
     "output_type": "execute_result"
    }
   ],
   "source": [
    "불용어 =  '북한'\n",
    "불용어"
   ]
  },
  {
   "cell_type": "code",
   "execution_count": 18,
   "id": "19d5f9b2-d085-49b6-ade7-bca27a2377f2",
   "metadata": {},
   "outputs": [
    {
     "ename": "SyntaxError",
     "evalue": "invalid syntax (3624191466.py, line 1)",
     "output_type": "error",
     "traceback": [
      "\u001b[1;36m  Cell \u001b[1;32mIn[18], line 1\u001b[1;36m\u001b[0m\n\u001b[1;33m    if =4\u001b[0m\n\u001b[1;37m       ^\u001b[0m\n\u001b[1;31mSyntaxError\u001b[0m\u001b[1;31m:\u001b[0m invalid syntax\n"
     ]
    }
   ],
   "source": [
    "if = 4 #if같은 문법에는 변수할당 불가"
   ]
  },
  {
   "cell_type": "code",
   "execution_count": 20,
   "id": "8404add9-12ff-417e-abf2-e604f2abcead",
   "metadata": {},
   "outputs": [
    {
     "name": "stdout",
     "output_type": "stream",
     "text": [
      "북한\n"
     ]
    }
   ],
   "source": [
    "print(불용어)"
   ]
  },
  {
   "cell_type": "code",
   "execution_count": 22,
   "id": "7a3f9f16-097c-4a13-ae65-08cdae4df05f",
   "metadata": {},
   "outputs": [],
   "source": [
    "# 파이썬 변수는 함수 할당\n",
    "print = 5"
   ]
  },
  {
   "cell_type": "code",
   "execution_count": 24,
   "id": "9ddc4b16-2c57-447a-b776-bb00d16d3745",
   "metadata": {},
   "outputs": [
    {
     "ename": "TypeError",
     "evalue": "'int' object is not callable",
     "output_type": "error",
     "traceback": [
      "\u001b[1;31m---------------------------------------------------------------------------\u001b[0m",
      "\u001b[1;31mTypeError\u001b[0m                                 Traceback (most recent call last)",
      "Cell \u001b[1;32mIn[24], line 1\u001b[0m\n\u001b[1;32m----> 1\u001b[0m \u001b[38;5;28mprint\u001b[39m(불용어)\n",
      "\u001b[1;31mTypeError\u001b[0m: 'int' object is not callable"
     ]
    }
   ],
   "source": [
    "print(불용어)"
   ]
  },
  {
   "cell_type": "code",
   "execution_count": 26,
   "id": "b41a0022-42c7-4725-8a82-b64a4c9b8a4b",
   "metadata": {},
   "outputs": [],
   "source": [
    "del print #변수 삭제"
   ]
  },
  {
   "cell_type": "code",
   "execution_count": 28,
   "id": "d71c4b69-9fca-4577-978b-6808cd6442d9",
   "metadata": {},
   "outputs": [
    {
     "name": "stdout",
     "output_type": "stream",
     "text": [
      "북한\n"
     ]
    }
   ],
   "source": [
    "print(불용어)"
   ]
  },
  {
   "cell_type": "code",
   "execution_count": 30,
   "id": "dc009c67-dd78-4e17-8e27-dff9ba330946",
   "metadata": {},
   "outputs": [
    {
     "data": {
      "text/plain": [
       "complex"
      ]
     },
     "execution_count": 30,
     "metadata": {},
     "output_type": "execute_result"
    }
   ],
   "source": [
    "i = 3 + 3j #복소수\n",
    "type(i)"
   ]
  },
  {
   "cell_type": "code",
   "execution_count": 32,
   "id": "060494d3-a22b-4b7f-b624-48a7deedf79f",
   "metadata": {},
   "outputs": [],
   "source": [
    "a = 10\n",
    "b= 20"
   ]
  },
  {
   "cell_type": "code",
   "execution_count": 34,
   "id": "338b21bd-cb8d-4c4a-abfa-6b7cd5811709",
   "metadata": {},
   "outputs": [],
   "source": [
    "a,b = 10,20 #다중 초기화 가능"
   ]
  },
  {
   "cell_type": "code",
   "execution_count": 36,
   "id": "fadfcba0-36bb-466e-8b35-ee05e62210f0",
   "metadata": {},
   "outputs": [
    {
     "data": {
      "text/plain": [
       "(10, 20)"
      ]
     },
     "execution_count": 36,
     "metadata": {},
     "output_type": "execute_result"
    }
   ],
   "source": [
    "a,b"
   ]
  },
  {
   "cell_type": "code",
   "execution_count": 40,
   "id": "e2791388-d377-428a-89b6-a441fe3df8de",
   "metadata": {},
   "outputs": [
    {
     "name": "stdout",
     "output_type": "stream",
     "text": [
      "a= 20 \tb= 30\n"
     ]
    }
   ],
   "source": [
    "a, b = b, a+b\n",
    "print(\"a=\",a,\"\\tb=\",b)"
   ]
  },
  {
   "cell_type": "markdown",
   "id": "13c635bd-e441-44db-9710-365196f09f18",
   "metadata": {},
   "source": [
    "## 1.4 도움말"
   ]
  },
  {
   "cell_type": "code",
   "execution_count": 43,
   "id": "6bb732f5-485f-42df-809b-bce2a6bd658c",
   "metadata": {},
   "outputs": [
    {
     "name": "stdout",
     "output_type": "stream",
     "text": [
      "Help on built-in function print in module builtins:\n",
      "\n",
      "print(*args, sep=' ', end='\\n', file=None, flush=False)\n",
      "    Prints the values to a stream, or to sys.stdout by default.\n",
      "    \n",
      "    sep\n",
      "      string inserted between values, default a space.\n",
      "    end\n",
      "      string appended after the last value, default a newline.\n",
      "    file\n",
      "      a file-like object (stream); defaults to the current sys.stdout.\n",
      "    flush\n",
      "      whether to forcibly flush the stream.\n",
      "\n"
     ]
    }
   ],
   "source": [
    "help(print)"
   ]
  },
  {
   "cell_type": "code",
   "execution_count": 45,
   "id": "fcab7a9e-4081-4761-99ed-e82a15d4b0b2",
   "metadata": {},
   "outputs": [
    {
     "data": {
      "text/plain": [
       "\u001b[1;31mSignature:\u001b[0m \u001b[0mprint\u001b[0m\u001b[1;33m(\u001b[0m\u001b[1;33m*\u001b[0m\u001b[0margs\u001b[0m\u001b[1;33m,\u001b[0m \u001b[0msep\u001b[0m\u001b[1;33m=\u001b[0m\u001b[1;34m' '\u001b[0m\u001b[1;33m,\u001b[0m \u001b[0mend\u001b[0m\u001b[1;33m=\u001b[0m\u001b[1;34m'\\n'\u001b[0m\u001b[1;33m,\u001b[0m \u001b[0mfile\u001b[0m\u001b[1;33m=\u001b[0m\u001b[1;32mNone\u001b[0m\u001b[1;33m,\u001b[0m \u001b[0mflush\u001b[0m\u001b[1;33m=\u001b[0m\u001b[1;32mFalse\u001b[0m\u001b[1;33m)\u001b[0m\u001b[1;33m\u001b[0m\u001b[1;33m\u001b[0m\u001b[0m\n",
       "\u001b[1;31mDocstring:\u001b[0m\n",
       "Prints the values to a stream, or to sys.stdout by default.\n",
       "\n",
       "sep\n",
       "  string inserted between values, default a space.\n",
       "end\n",
       "  string appended after the last value, default a newline.\n",
       "file\n",
       "  a file-like object (stream); defaults to the current sys.stdout.\n",
       "flush\n",
       "  whether to forcibly flush the stream.\n",
       "\u001b[1;31mType:\u001b[0m      builtin_function_or_method"
      ]
     },
     "metadata": {},
     "output_type": "display_data"
    }
   ],
   "source": [
    "print?"
   ]
  },
  {
   "cell_type": "code",
   "execution_count": 49,
   "id": "dc45dab7-88af-48c5-92e8-d0a7fce186b6",
   "metadata": {},
   "outputs": [
    {
     "name": "stdout",
     "output_type": "stream",
     "text": [
      "a~b\n"
     ]
    }
   ],
   "source": [
    "#도움말 기능 : 함수 내에서 shift+tab 키\n",
    "print('a','b',sep='~')#shit + enter"
   ]
  },
  {
   "cell_type": "code",
   "execution_count": 51,
   "id": "ee1058e0-4c30-41b5-abac-63c5d9a7e8d9",
   "metadata": {},
   "outputs": [],
   "source": [
    "def make_number(x,y=0):\n",
    "    \"\"\"\n",
    "    doc string(함수의 도움말)\n",
    "    매개변수 2개를 이용해서 2자리 정수를 만들어요\n",
    "    x = 10의 자리수\n",
    "    y = 1의 자리수 (default값 0)\n",
    "    \"\"\"\n",
    "    return x*10+y"
   ]
  },
  {
   "cell_type": "code",
   "execution_count": 53,
   "id": "889572b3-2ca5-4fb3-a32b-e55487bca1fa",
   "metadata": {},
   "outputs": [
    {
     "data": {
      "text/plain": [
       "32"
      ]
     },
     "execution_count": 53,
     "metadata": {},
     "output_type": "execute_result"
    }
   ],
   "source": [
    "make_number(3,2)"
   ]
  },
  {
   "cell_type": "code",
   "execution_count": 55,
   "id": "337e5443-354c-40d7-b63f-723919cc4285",
   "metadata": {},
   "outputs": [
    {
     "data": {
      "text/plain": [
       "50"
      ]
     },
     "execution_count": 55,
     "metadata": {},
     "output_type": "execute_result"
    }
   ],
   "source": [
    "make_number(5)# 생략시 설정한 디폴트 값 삽입됨"
   ]
  },
  {
   "cell_type": "code",
   "execution_count": 57,
   "id": "db63fc16-d998-47af-bb02-e81c918be8b9",
   "metadata": {},
   "outputs": [],
   "source": [
    "make = make_number #함수를 변수에 할당"
   ]
  },
  {
   "cell_type": "code",
   "execution_count": 59,
   "id": "0779c8be-bfd1-401e-a330-420214834ca5",
   "metadata": {},
   "outputs": [
    {
     "data": {
      "text/plain": [
       "60"
      ]
     },
     "execution_count": 59,
     "metadata": {},
     "output_type": "execute_result"
    }
   ],
   "source": [
    "make(6)"
   ]
  },
  {
   "cell_type": "markdown",
   "id": "c0763838-f792-4b66-8d94-449e5760bb17",
   "metadata": {},
   "source": [
    "## 1.5 변수 삭제"
   ]
  },
  {
   "cell_type": "code",
   "execution_count": 62,
   "id": "c11e007e-be4d-4b23-9589-78f5e38581bd",
   "metadata": {},
   "outputs": [],
   "source": [
    "del make"
   ]
  },
  {
   "cell_type": "code",
   "execution_count": 64,
   "id": "9fa476cf-c766-45ae-b3e6-8303b754203c",
   "metadata": {},
   "outputs": [
    {
     "ename": "NameError",
     "evalue": "name 'make' is not defined",
     "output_type": "error",
     "traceback": [
      "\u001b[1;31m---------------------------------------------------------------------------\u001b[0m",
      "\u001b[1;31mNameError\u001b[0m                                 Traceback (most recent call last)",
      "Cell \u001b[1;32mIn[64], line 1\u001b[0m\n\u001b[1;32m----> 1\u001b[0m make(\u001b[38;5;241m6\u001b[39m)\n",
      "\u001b[1;31mNameError\u001b[0m: name 'make' is not defined"
     ]
    }
   ],
   "source": [
    "make(6)"
   ]
  },
  {
   "cell_type": "markdown",
   "id": "cb8d6d53-e91d-42ff-b748-f88ef549a5be",
   "metadata": {},
   "source": [
    "# 2절 화면 I/O"
   ]
  },
  {
   "cell_type": "code",
   "execution_count": 69,
   "id": "02fc3a96-6c85-4f9f-b4f7-13f2d8aaa8b0",
   "metadata": {},
   "outputs": [
    {
     "name": "stdin",
     "output_type": "stream",
     "text": [
      "첫번째 숫자는? 1\n",
      "두번째 숫자는? 2\n"
     ]
    }
   ],
   "source": [
    "first = int(input(\"첫번째 숫자는?\")) #문자로 return\n",
    "second = int(input(\"두번째 숫자는?\")) "
   ]
  },
  {
   "cell_type": "code",
   "execution_count": 71,
   "id": "1ec3a7db-0b32-4262-9509-b91870339b74",
   "metadata": {},
   "outputs": [
    {
     "name": "stdout",
     "output_type": "stream",
     "text": [
      "두 수의 합은3\n"
     ]
    }
   ],
   "source": [
    "print('두 수의 합은{}'.format(first+second)) #문자 + 문자"
   ]
  },
  {
   "cell_type": "code",
   "execution_count": 73,
   "id": "324f77b6-fea4-40d4-9290-c016b4bf9d1b",
   "metadata": {},
   "outputs": [
    {
     "name": "stdout",
     "output_type": "stream",
     "text": [
      "hello~world!hello Python\n"
     ]
    }
   ],
   "source": [
    "print('hello','world',sep='~',end='!')\n",
    "print('hello','Python')"
   ]
  },
  {
   "cell_type": "markdown",
   "id": "7bb7a7ae-5be8-46fd-94af-0e1d1b3ff63f",
   "metadata": {},
   "source": [
    "# 3.기본 자료형\n",
    "- 숫자 : int, float, complex\r\n",
    "- 문자 : str\r\n",
    "- 논리 : bool\r\n",
    "파이썬은 타입을 지칭하는 키워드가 없고, 변수 할당시 타입이 정해져"
   ]
  },
  {
   "cell_type": "markdown",
   "id": "f4e2182e-4b36-4c40-8902-62029470641a",
   "metadata": {},
   "source": [
    "## 3.1 숫자형"
   ]
  },
  {
   "cell_type": "code",
   "execution_count": 77,
   "id": "385fba67-39fe-49b5-8ae1-d05054db9c07",
   "metadata": {},
   "outputs": [
    {
     "name": "stdout",
     "output_type": "stream",
     "text": [
      "9223372036854775807\n"
     ]
    }
   ],
   "source": [
    "import sys\n",
    "print(sys.maxsize) #모든 크기의 정수를 다 처리 가능"
   ]
  },
  {
   "cell_type": "code",
   "execution_count": 81,
   "id": "230697ee-4463-41dd-b876-08d1558b4971",
   "metadata": {},
   "outputs": [
    {
     "name": "stdout",
     "output_type": "stream",
     "text": [
      "값:9223372036854775817/주소:1605990380960\n",
      "<class 'int'>\n"
     ]
    }
   ],
   "source": [
    "a = sys.maxsize + 10\n",
    "print(\"값:{}/주소:{}\".format(a,id(a)))\n",
    "print(type(a))"
   ]
  },
  {
   "cell_type": "code",
   "execution_count": 83,
   "id": "cbad49b3-1de7-446b-95a7-5ba63b609f6a",
   "metadata": {},
   "outputs": [
    {
     "name": "stdout",
     "output_type": "stream",
     "text": [
      "값:1/주소:140727451632424\n",
      "<class 'int'>\n"
     ]
    }
   ],
   "source": [
    "a = 1\n",
    "print(\"값:{}/주소:{}\".format(a,id(a)))\n",
    "print(type(a))      "
   ]
  },
  {
   "cell_type": "code",
   "execution_count": 85,
   "id": "0baea6f0-40c3-422f-afa1-a1c9282c1ed9",
   "metadata": {},
   "outputs": [
    {
     "name": "stdout",
     "output_type": "stream",
     "text": [
      "값:1.5 / 주소:1605945488784\n",
      "<class 'float'>\n"
     ]
    }
   ],
   "source": [
    "a = 3/2 # 정수형/정수형 => 실수형(float)\n",
    "print(\"값:{} / 주소:{}\".format(a, id(a)))\n",
    "print(type(a))"
   ]
  },
  {
   "cell_type": "code",
   "execution_count": 87,
   "id": "83bcc520-6b07-4615-a33c-291ca076bdc0",
   "metadata": {},
   "outputs": [
    {
     "name": "stdout",
     "output_type": "stream",
     "text": [
      "값:1 / 주소:140727451632424\n",
      "<class 'int'>\n"
     ]
    }
   ],
   "source": [
    "a = int(3/2)# C언어 결과처럼하고자 하면 명시적 형변환\n",
    "a = 3 // 2 # C언어 결과처럼하고자 하면 몫연산자\n",
    "print(\"값:{} / 주소:{}\".format(a, id(a)))\n",
    "print(type(a))"
   ]
  },
  {
   "cell_type": "code",
   "execution_count": 89,
   "id": "5e88d334-dcca-4c69-9b1c-f945a6d1a3eb",
   "metadata": {},
   "outputs": [
    {
     "name": "stdout",
     "output_type": "stream",
     "text": [
      "1.12e+20\n",
      "1.12e-20\n"
     ]
    }
   ],
   "source": [
    "f = 1.12e20  # 1.12의 10의 20승\n",
    "print(f)\n",
    "f = 1.12e-20 # 1.12의 10의 -20\n",
    "print(f)"
   ]
  },
  {
   "cell_type": "markdown",
   "id": "7c60a6c5-6323-4bdf-9d2b-52597ec7155d",
   "metadata": {},
   "source": [
    "## 3.2 문자형"
   ]
  },
  {
   "cell_type": "code",
   "execution_count": 92,
   "id": "dddb55d9-a158-4310-9b0a-92d13f4721ec",
   "metadata": {},
   "outputs": [
    {
     "name": "stdout",
     "output_type": "stream",
     "text": [
      "홍길동\"님\" 서울시 \"금천구\"  가산디지털1로\n"
     ]
    }
   ],
   "source": [
    "name = \"홍길동'님'\"\n",
    "name = '홍길동\"님\"'#' \" 넣고 싶으면 ' \"교차해서 삽입\n",
    "address = \"서울시 \\\"금천구\\\"  \\\n",
    "가산디지털1로\"\n",
    "# \\ 다음줄로 계속\n",
    "print(name, address)"
   ]
  },
  {
   "cell_type": "code",
   "execution_count": 94,
   "id": "ef538f2f-ffbc-4326-af0e-fcaa963f90cb",
   "metadata": {},
   "outputs": [
    {
     "name": "stdout",
     "output_type": "stream",
     "text": [
      "안녕하세요\n",
      "홍길동입니다\n",
      "반갑습니다\n"
     ]
    }
   ],
   "source": [
    "text = \"안녕하세요\\n홍길동입니다\\n반갑습니다\"\n",
    "print(text)"
   ]
  },
  {
   "cell_type": "code",
   "execution_count": 98,
   "id": "302af9c8-424b-4bf4-90fc-666c625fb9ca",
   "metadata": {},
   "outputs": [
    {
     "name": "stdout",
     "output_type": "stream",
     "text": [
      "안녕하세요\n",
      "홍길동입니다\n",
      "반갑습니다\n",
      "\n"
     ]
    }
   ],
   "source": [
    "text = \"\"\"안녕하세요 \n",
    "홍길동입니다 \n",
    "반갑습니다\n",
    "\"\"\" #열에 주의해야함\n",
    "print(text)"
   ]
  },
  {
   "cell_type": "code",
   "execution_count": 100,
   "id": "4d6862ed-dfb5-4190-8c67-a611f382668d",
   "metadata": {},
   "outputs": [],
   "source": [
    "#문자열 슬라이싱"
   ]
  },
  {
   "cell_type": "code",
   "execution_count": 104,
   "id": "791ce1c3-df59-4115-8c11-639040271610",
   "metadata": {},
   "outputs": [
    {
     "data": {
      "text/plain": [
       "'0123456789'"
      ]
     },
     "execution_count": 104,
     "metadata": {},
     "output_type": "execute_result"
    }
   ],
   "source": [
    "str_ = \"0123456789\"\n",
    "str_"
   ]
  },
  {
   "cell_type": "code",
   "execution_count": 106,
   "id": "006bf740-5f10-48db-9147-2c4ed4525e8f",
   "metadata": {},
   "outputs": [
    {
     "data": {
      "text/plain": [
       "'012'"
      ]
     },
     "execution_count": 106,
     "metadata": {},
     "output_type": "execute_result"
    }
   ],
   "source": [
    "str_[0:3]"
   ]
  },
  {
   "cell_type": "code",
   "execution_count": 108,
   "id": "0ddf0350-8d4f-4169-849f-2988d7c710d2",
   "metadata": {},
   "outputs": [
    {
     "data": {
      "text/plain": [
       "'8'"
      ]
     },
     "execution_count": 108,
     "metadata": {},
     "output_type": "execute_result"
    }
   ],
   "source": [
    "str_[-2]"
   ]
  },
  {
   "cell_type": "code",
   "execution_count": 112,
   "id": "9968662f-2297-46ba-8fb3-76209c274466",
   "metadata": {},
   "outputs": [
    {
     "data": {
      "text/plain": [
       "'5678'"
      ]
     },
     "execution_count": 112,
     "metadata": {},
     "output_type": "execute_result"
    }
   ],
   "source": [
    "str_ = \"0123456789\"\n",
    "str_[-5:-1]"
   ]
  },
  {
   "cell_type": "code",
   "execution_count": 114,
   "id": "afa9c258-2f99-4836-a0b1-456924477397",
   "metadata": {},
   "outputs": [
    {
     "data": {
      "text/plain": [
       "'56789'"
      ]
     },
     "execution_count": 114,
     "metadata": {},
     "output_type": "execute_result"
    }
   ],
   "source": [
    "str_[5:] # 5번째인덱스부터 끝까지"
   ]
  },
  {
   "cell_type": "code",
   "execution_count": 116,
   "id": "57e02dc6-58ec-409b-8718-c1c1d715054e",
   "metadata": {},
   "outputs": [
    {
     "data": {
      "text/plain": [
       "'01234'"
      ]
     },
     "execution_count": 116,
     "metadata": {},
     "output_type": "execute_result"
    }
   ],
   "source": [
    "str_[:-5] # 처음부터 -5번째 앞까지"
   ]
  },
  {
   "cell_type": "code",
   "execution_count": 118,
   "id": "6c8f2637-ac32-4a4c-905f-ffab1e5dd73e",
   "metadata": {},
   "outputs": [
    {
     "data": {
      "text/plain": [
       "'56789'"
      ]
     },
     "execution_count": 118,
     "metadata": {},
     "output_type": "execute_result"
    }
   ],
   "source": [
    "# str_[19] #없는 인덱스는 에러남\n",
    "str_[5:19] # 슬라이싱에서는 인덱스를 벗어나면 끝까지"
   ]
  },
  {
   "cell_type": "code",
   "execution_count": 120,
   "id": "31c42db0-6007-4331-be84-09fdcb15810a",
   "metadata": {},
   "outputs": [
    {
     "name": "stdout",
     "output_type": "stream",
     "text": [
      "02468\n",
      "02468\n"
     ]
    }
   ],
   "source": [
    "# str_[from:to:step]\n",
    "print(str_[0:9:2]) # 0번째부터 9번째 앞까지 2씩 인덱스 증가해서 \n",
    "print(str_[::2])   # 처음부터 끝까지 2씩 인덱스 증가해서"
   ]
  },
  {
   "cell_type": "code",
   "execution_count": 122,
   "id": "830e1e81-4840-400c-aaba-54a9cbf7f9ee",
   "metadata": {},
   "outputs": [
    {
     "name": "stdout",
     "output_type": "stream",
     "text": [
      "9876543210\n",
      "9876543210\n"
     ]
    }
   ],
   "source": [
    "# 끝부터 처음까지(꺼꾸로)\n",
    "print(str_[9::-1])\n",
    "print(str_[::-1])"
   ]
  },
  {
   "cell_type": "markdown",
   "id": "c8fb92ce-551c-4921-bfc7-8444184bf1d7",
   "metadata": {},
   "source": [
    "## 논리형(True, False)"
   ]
  },
  {
   "cell_type": "code",
   "execution_count": 129,
   "id": "2ca2f106-37cf-4120-9186-f02486ca207c",
   "metadata": {},
   "outputs": [
    {
     "name": "stdout",
     "output_type": "stream",
     "text": [
      "True\n",
      "<class 'bool'>\n",
      "True\n",
      "False\n"
     ]
    }
   ],
   "source": [
    "a = True\n",
    "print(a)\n",
    "print(type(a))\n",
    "print(isinstance(a, bool)) # a가 bool형이냐?\n",
    "print(isinstance(b, bool))"
   ]
  },
  {
   "cell_type": "code",
   "execution_count": 131,
   "id": "de63e682-af26-4148-98b0-fb15a2dba51a",
   "metadata": {},
   "outputs": [],
   "source": [
    "# False로 간주하는 것 : 0, None, \"\"(빈스트링) ''(빈스트링), [], (), {}\n",
    "# True로 간주하는 것 : \" \", '\\0'(널문자)"
   ]
  },
  {
   "cell_type": "code",
   "execution_count": 133,
   "id": "d9837e68-08f8-4b3a-871e-7c5a3de30f55",
   "metadata": {},
   "outputs": [
    {
     "name": "stdout",
     "output_type": "stream",
     "text": [
      "False다\n"
     ]
    }
   ],
   "source": [
    "if 0+0j:\n",
    "    print('True다')\n",
    "else:\n",
    "    print('False다')"
   ]
  },
  {
   "cell_type": "markdown",
   "id": "077c21d2-a144-488c-b248-1bf164671c9e",
   "metadata": {},
   "source": [
    "## 3.4 자료형 확인 및 변환\n",
    "- type() : 자료형 확인\n",
    "- int() : 정수형 변환\n",
    "- float() : 실수형 변환\n",
    "- str() : 문자형 변환\n",
    "- bool() : 논리형 변환"
   ]
  },
  {
   "cell_type": "code",
   "execution_count": 136,
   "id": "dba704bf-f1b7-49a5-82d0-a256922ca447",
   "metadata": {},
   "outputs": [
    {
     "ename": "ValueError",
     "evalue": "invalid literal for int() with base 10: ''",
     "output_type": "error",
     "traceback": [
      "\u001b[1;31m---------------------------------------------------------------------------\u001b[0m",
      "\u001b[1;31mValueError\u001b[0m                                Traceback (most recent call last)",
      "Cell \u001b[1;32mIn[136], line 1\u001b[0m\n\u001b[1;32m----> 1\u001b[0m \u001b[38;5;28mint\u001b[39m(\u001b[38;5;124m'\u001b[39m\u001b[38;5;124m'\u001b[39m)\n",
      "\u001b[1;31mValueError\u001b[0m: invalid literal for int() with base 10: ''"
     ]
    }
   ],
   "source": [
    "int('')"
   ]
  },
  {
   "cell_type": "code",
   "execution_count": 138,
   "id": "59b9b9df-817f-4686-bde4-d0da029eaa28",
   "metadata": {},
   "outputs": [
    {
     "data": {
      "text/plain": [
       "2000"
      ]
     },
     "execution_count": 138,
     "metadata": {},
     "output_type": "execute_result"
    }
   ],
   "source": [
    "int('2000')"
   ]
  },
  {
   "cell_type": "code",
   "execution_count": 140,
   "id": "2ed1664c-fbb7-409d-9df8-5e9d641d9f61",
   "metadata": {},
   "outputs": [
    {
     "data": {
      "text/plain": [
       "1.0"
      ]
     },
     "execution_count": 140,
     "metadata": {},
     "output_type": "execute_result"
    }
   ],
   "source": [
    "float(True)"
   ]
  },
  {
   "cell_type": "markdown",
   "id": "9c607f21-22c5-4aff-990e-76b46c340428",
   "metadata": {},
   "source": [
    "# 4.포맷팅"
   ]
  },
  {
   "cell_type": "code",
   "execution_count": 145,
   "id": "aea96043-5f39-43d3-b9d1-4b0531ea616b",
   "metadata": {},
   "outputs": [
    {
     "name": "stdout",
     "output_type": "stream",
     "text": [
      "이름은 홍길동, 주소는 서울시 금천구\n",
      "이름은 서울시 금천구, 주소는 홍길동\n"
     ]
    }
   ],
   "source": [
    "name = \"홍길동\"\n",
    "add = '서울시 금천구'\n",
    "print(\"이름은 {}, 주소는 {}\".format(name, add))\n",
    "print(\"이름은 {1}, 주소는 {0}\".format(name, add))"
   ]
  },
  {
   "cell_type": "code",
   "execution_count": 147,
   "id": "7758326d-4996-4cdf-be43-33baa1c2bc7e",
   "metadata": {},
   "outputs": [
    {
     "name": "stdout",
     "output_type": "stream",
     "text": [
      "이름은 홍길동, 주소는 서울시 금천구\n"
     ]
    }
   ],
   "source": [
    "print(\"이름은 %s, 주소는 %s\"%(name, add))"
   ]
  },
  {
   "cell_type": "code",
   "execution_count": 149,
   "id": "39bb378c-2c4c-4353-9f21-71de1b3f6c60",
   "metadata": {},
   "outputs": [
    {
     "name": "stdout",
     "output_type": "stream",
     "text": [
      "이름은 홍길동, 주소는 서울시 금천구\n"
     ]
    }
   ],
   "source": [
    "print(f\"이름은 {name}, 주소는 {add}\")"
   ]
  },
  {
   "cell_type": "markdown",
   "id": "cd915d1a-f97f-4dff-a284-69e7aeb8bb81",
   "metadata": {},
   "source": [
    "format()함수\n",
    "```\n",
    "- \"{[인덱스]:[공백대체문자][정렬방법][자릿수][타입]}\".format(변수명,...)\n",
    "      - 정렬방법 : <(왼쪽정렬), >(오른쪽 정렬), ^(가운데정렬)\n",
    "      - 타입 : d(10진수), x(16진수), b(2진수), f(실수), s(문자)"
   ]
  },
  {
   "cell_type": "code",
   "execution_count": 155,
   "id": "0628af18-ec45-4d12-8fbb-d019e7ef745e",
   "metadata": {},
   "outputs": [
    {
     "name": "stdout",
     "output_type": "stream",
     "text": [
      " [$$$$$$$$10], [He******************]\n"
     ]
    }
   ],
   "source": [
    "a = 10\n",
    "s = 'Hello'\n",
    "print(\" [{0:$>10d}], [{1:*<20.2}]\".format(a, s) )"
   ]
  },
  {
   "cell_type": "markdown",
   "id": "d00ddd36-f342-4e7e-b7f8-5e404b9aac5e",
   "metadata": {},
   "source": [
    "# 5. 연산자\n",
    "\n",
    "## 5.1 산술연산자 : + - / * //(몫) %(나머지) **(제곱)\n",
    "## 5.2 할당연산자 : = += -= /= %= ..\n",
    "## 5.3 논리연산자 &, and, |, or, not (연산자 우선순위가 높음)\n",
    "## 5.4 비트연산자 &, |, ^(OR) (연산자 우선순위가 높음)"
   ]
  },
  {
   "cell_type": "code",
   "execution_count": 161,
   "id": "5cdc0cfe-89d5-4b6e-b313-f734bfb5bc28",
   "metadata": {},
   "outputs": [
    {
     "name": "stdout",
     "output_type": "stream",
     "text": [
      "True\n"
     ]
    }
   ],
   "source": [
    "print( (10>3) & (10>5) ) # 논리 연산자  True & True"
   ]
  },
  {
   "cell_type": "code",
   "execution_count": 163,
   "id": "1dac620e-1550-4f69-b1b5-8cd93dd5daa1",
   "metadata": {},
   "outputs": [
    {
     "name": "stdout",
     "output_type": "stream",
     "text": [
      "0\n",
      "13\n"
     ]
    }
   ],
   "source": [
    "print( 12 & 1 ) # 비트연산 12 : 1 1 0 0\n",
    "                #           1 : 0 0 0 1\n",
    "print( 12 | 1)"
   ]
  },
  {
   "cell_type": "markdown",
   "id": "57bac8ef-f5c6-4b97-a775-6a966ddb19c6",
   "metadata": {},
   "source": [
    "## 5.5 비교연산자 < > <= >= == != "
   ]
  },
  {
   "cell_type": "code",
   "execution_count": 169,
   "id": "e9b9c807-2337-476e-9d10-2ad38c84be20",
   "metadata": {},
   "outputs": [
    {
     "data": {
      "text/plain": [
       "True"
      ]
     },
     "execution_count": 169,
     "metadata": {},
     "output_type": "execute_result"
    }
   ],
   "source": [
    "'아'<'하'"
   ]
  },
  {
   "cell_type": "code",
   "execution_count": 171,
   "id": "0f070de3-2f72-447d-b74d-92d9e635ffee",
   "metadata": {},
   "outputs": [
    {
     "data": {
      "text/plain": [
       "True"
      ]
     },
     "execution_count": 171,
     "metadata": {},
     "output_type": "execute_result"
    }
   ],
   "source": [
    "'*' < '1' < 'A' < 'a' # 코드 순 : 특수문자<숫자<대문자<소문자"
   ]
  },
  {
   "cell_type": "code",
   "execution_count": 175,
   "id": "6552777d-e6d2-4512-bf4f-87683af94464",
   "metadata": {},
   "outputs": [
    {
     "data": {
      "text/plain": [
       "True"
      ]
     },
     "execution_count": 175,
     "metadata": {},
     "output_type": "execute_result"
    }
   ],
   "source": [
    "score = 85\n",
    "80<=score <90 < 100 #연립해서 이용도 가능하다"
   ]
  },
  {
   "cell_type": "markdown",
   "id": "70f2e2a6-42fe-45d0-81a0-e0fe9bc62c32",
   "metadata": {},
   "source": [
    "# 6. 문자열 다루기\n",
    "- 문자열 슬라이싱 : 문자변수[from:to:step]\n",
    "- len(문자열) : 문자갯수\n",
    "- upper() : 대문자로\n",
    "- lower() : 소문자로\n",
    "- title() : 각 단어의 앞글자만 대문자로\n",
    "- capitalize() : 첫문자만 대문자로. 그외는 소문자\n",
    "- count('찾을문자열') : 찾을 문자열이 몇개 들어있는지 갯수 반환\n",
    "- find('찾을문자열') : 찾을문자열을 왼쪽부터 시작하여 몇번째에 있는지 index반환\n",
    "                찾을문자열이 없으면 -1을 반환\n",
    "- rfind('찾을문자열') :찾을문자열을 오른쪽부터 시작하여 몇번째에 있는지 index반환\n",
    "- startswith('특정문자열') : 특정문자열로 시작하는지 여부 T/F 반환\n",
    "- endswith('특정문자열') : 특정문자열로 끝나는지 여부 T/F 반환\n",
    "- strip() : 좌우 공백제거\n",
    "- lstrip() : 왼쪽 공백제거\n",
    "- rstrip() : 오른쪽 공백제거\n",
    "- isdigit() : 문자열이 숫자 문자열인지 여부 T/F 반환\n",
    "- islower() : 문자열이 소문자인지 여부 T/F반환\n",
    "- isupper() : 문자열이 대문자인지 여부 T/F 반환\n",
    "- replace(oldStr, newStr) oldStr을 newStr 변경"
   ]
  },
  {
   "cell_type": "code",
   "execution_count": 178,
   "id": "31c54b92-bd17-44e0-9ffb-0756b8ad52f3",
   "metadata": {},
   "outputs": [
    {
     "data": {
      "text/plain": [
       "['__add__',\n",
       " '__class__',\n",
       " '__contains__',\n",
       " '__delattr__',\n",
       " '__dir__',\n",
       " '__doc__',\n",
       " '__eq__',\n",
       " '__format__',\n",
       " '__ge__',\n",
       " '__getattribute__',\n",
       " '__getitem__',\n",
       " '__getnewargs__',\n",
       " '__getstate__',\n",
       " '__gt__',\n",
       " '__hash__',\n",
       " '__init__',\n",
       " '__init_subclass__',\n",
       " '__iter__',\n",
       " '__le__',\n",
       " '__len__',\n",
       " '__lt__',\n",
       " '__mod__',\n",
       " '__mul__',\n",
       " '__ne__',\n",
       " '__new__',\n",
       " '__reduce__',\n",
       " '__reduce_ex__',\n",
       " '__repr__',\n",
       " '__rmod__',\n",
       " '__rmul__',\n",
       " '__setattr__',\n",
       " '__sizeof__',\n",
       " '__str__',\n",
       " '__subclasshook__',\n",
       " 'capitalize',\n",
       " 'casefold',\n",
       " 'center',\n",
       " 'count',\n",
       " 'encode',\n",
       " 'endswith',\n",
       " 'expandtabs',\n",
       " 'find',\n",
       " 'format',\n",
       " 'format_map',\n",
       " 'index',\n",
       " 'isalnum',\n",
       " 'isalpha',\n",
       " 'isascii',\n",
       " 'isdecimal',\n",
       " 'isdigit',\n",
       " 'isidentifier',\n",
       " 'islower',\n",
       " 'isnumeric',\n",
       " 'isprintable',\n",
       " 'isspace',\n",
       " 'istitle',\n",
       " 'isupper',\n",
       " 'join',\n",
       " 'ljust',\n",
       " 'lower',\n",
       " 'lstrip',\n",
       " 'maketrans',\n",
       " 'partition',\n",
       " 'removeprefix',\n",
       " 'removesuffix',\n",
       " 'replace',\n",
       " 'rfind',\n",
       " 'rindex',\n",
       " 'rjust',\n",
       " 'rpartition',\n",
       " 'rsplit',\n",
       " 'rstrip',\n",
       " 'split',\n",
       " 'splitlines',\n",
       " 'startswith',\n",
       " 'strip',\n",
       " 'swapcase',\n",
       " 'title',\n",
       " 'translate',\n",
       " 'upper',\n",
       " 'zfill']"
      ]
     },
     "execution_count": 178,
     "metadata": {},
     "output_type": "execute_result"
    }
   ],
   "source": [
    "# 문자열을 다룰수 있는 함수 목록\n",
    "dir(str)"
   ]
  },
  {
   "cell_type": "code",
   "execution_count": 180,
   "id": "fcd49d8d-743d-414c-8239-d97a2807f0de",
   "metadata": {},
   "outputs": [
    {
     "data": {
      "text/plain": [
       "('PYTHON IS EASY. PYTHON IS SMART.', 32)"
      ]
     },
     "execution_count": 180,
     "metadata": {},
     "output_type": "execute_result"
    }
   ],
   "source": [
    "temp = 'Python is easy. Python is smart.'\n",
    "#       01234567890123456789012345678901\n",
    "temp.upper(), len(temp)"
   ]
  },
  {
   "cell_type": "code",
   "execution_count": 188,
   "id": "9c270dd4-b3f7-45ab-8eda-20f148cedb06",
   "metadata": {},
   "outputs": [
    {
     "name": "stdout",
     "output_type": "stream",
     "text": [
      "첫번째 글자:P, 마지막글자:.\n"
     ]
    }
   ],
   "source": [
    "print(\"첫번째 글자:{}, 마지막글자:{}\".format(temp[0], temp[-1],temp[-0]))"
   ]
  },
  {
   "cell_type": "code",
   "execution_count": 190,
   "id": "f53844fa-7405-47bf-be04-e4d6cc955d2c",
   "metadata": {},
   "outputs": [
    {
     "name": "stdout",
     "output_type": "stream",
     "text": [
      "대문자로: PYTHON IS EASY. PYTHON IS SMART.\n",
      "첫글자만대문자: Python is easy. python is smart.\n",
      "title() : Python Is Easy. Python Is Smart.\n",
      "count() : 2\n",
      "find() : 0\n",
      "rfind() : 16\n",
      "replace('Python', ' ') :   is easy.   is smart.\n",
      "startswith() : True\n"
     ]
    }
   ],
   "source": [
    "temp = 'Python is easy. Python is smart.'\n",
    "#       01234567890123456789012345678901\n",
    "print('대문자로:', temp.upper() )\n",
    "print('첫글자만대문자:', temp.capitalize())\n",
    "print('title() :', temp.title())\n",
    "print('count() :', temp.count('Python'))\n",
    "print('find() :', temp.find('Python'))\n",
    "print('rfind() :', temp.rfind('Python'))\n",
    "print(\"replace('Python', ' ') :\", temp.replace(\"Python\",\" \"))\n",
    "print(\"startswith() :\", temp.startswith(\"Py\"))"
   ]
  },
  {
   "cell_type": "code",
   "execution_count": 192,
   "id": "87b2efc8-890d-4980-ae53-98baa4d8fa3b",
   "metadata": {},
   "outputs": [
    {
     "name": "stdout",
     "output_type": "stream",
     "text": [
      " temp : [      Python      ]\n",
      "strip : [Python]\n",
      "lstrip: [Python      ]\n",
      "rstrip: [      Python]\n"
     ]
    }
   ],
   "source": [
    "temp = \"      Python      \"\n",
    "print(\" temp : [{}]\".format(temp))\n",
    "print(\"strip : [{}]\".format(temp.strip()))\n",
    "print(\"lstrip: [{}]\".format(temp.lstrip()))\n",
    "print(\"rstrip: [{}]\".format(temp.rstrip()))"
   ]
  },
  {
   "cell_type": "code",
   "execution_count": 194,
   "id": "420da0e8-eb08-434c-a5d6-5a722258ef32",
   "metadata": {},
   "outputs": [
    {
     "name": "stdout",
     "output_type": "stream",
     "text": [
      "space단위로 분리하여 list로 반환 : ['Python', 'is', 'easy', 'Python', 'is', 'smart']\n"
     ]
    }
   ],
   "source": [
    "temp = 'Python is easy Python is smart'\n",
    "print('space단위로 분리하여 list로 반환 :', temp.split())"
   ]
  },
  {
   "cell_type": "code",
   "execution_count": 196,
   "id": "df8427ad-0061-44c9-b019-68723f442f6d",
   "metadata": {},
   "outputs": [
    {
     "name": "stdout",
     "output_type": "stream",
     "text": [
      "년월일 분리 : ['2024', '05', '30']\n",
      "연결된 temp : 2024~05~30\n"
     ]
    }
   ],
   "source": [
    "temp = \"2024-05-30\"\n",
    "temp_list = temp.split('-')\n",
    "temp_join = '~'.join(temp_list)\n",
    "print('년월일 분리 :', temp_list)\n",
    "print('연결된 temp :', temp_join)"
   ]
  },
  {
   "cell_type": "markdown",
   "id": "2a593388-0259-4a5e-a7a0-2231a5ac98e4",
   "metadata": {},
   "source": [
    "# 7. 날짜 다루기"
   ]
  },
  {
   "cell_type": "markdown",
   "id": "bef99b97-6c36-4a66-9e30-360c76b2f79f",
   "metadata": {},
   "source": [
    "## 7.1 날짜"
   ]
  },
  {
   "cell_type": "code",
   "execution_count": 200,
   "id": "b74f4ee0-9b61-43e8-aaa6-59042e26edeb",
   "metadata": {},
   "outputs": [
    {
     "data": {
      "text/plain": [
       "datetime.date(2024, 5, 30)"
      ]
     },
     "execution_count": 200,
     "metadata": {},
     "output_type": "execute_result"
    }
   ],
   "source": [
    "from datetime import date\n",
    "someday = date(2024, 5, 30)\n",
    "someday"
   ]
  },
  {
   "cell_type": "code",
   "execution_count": 202,
   "id": "7858cd11-4aca-4305-a209-75aff9e16984",
   "metadata": {},
   "outputs": [
    {
     "name": "stdout",
     "output_type": "stream",
     "text": [
      "2024년05월30일 00시 00분\n"
     ]
    }
   ],
   "source": [
    "print(\"{:%Y년%m월%d일 %H시 %M분}\".format(someday))"
   ]
  },
  {
   "cell_type": "code",
   "execution_count": 204,
   "id": "3406b10f-fe0b-4cf9-8978-94ce4ea338ab",
   "metadata": {},
   "outputs": [
    {
     "name": "stdout",
     "output_type": "stream",
     "text": [
      "2024년05월30일 00시 00분\n"
     ]
    }
   ],
   "source": [
    "today = date.today() # 오늘\n",
    "print(\"{:%Y년%m월%d일 %H시 %M분}\".format(someday))"
   ]
  },
  {
   "cell_type": "markdown",
   "id": "13bda5ad-3ba5-472b-9c95-60344f21ef22",
   "metadata": {},
   "source": [
    "## 7.2 시간\n"
   ]
  },
  {
   "cell_type": "code",
   "execution_count": 207,
   "id": "8be055d3-1d64-442b-b47a-493ab6a632e7",
   "metadata": {},
   "outputs": [
    {
     "name": "stdout",
     "output_type": "stream",
     "text": [
      "2024년05월31일 01시 24분\n"
     ]
    }
   ],
   "source": [
    "from datetime import datetime\n",
    "now = datetime.today()\n",
    "print(\"{:%Y년%m월%d일 %H시 %M분}\".format(now))"
   ]
  },
  {
   "cell_type": "markdown",
   "id": "de9156a6-2bf8-47cd-ae7d-c71b6df53b40",
   "metadata": {},
   "source": [
    "# 8. 연습문제"
   ]
  },
  {
   "cell_type": "code",
   "execution_count": 210,
   "id": "19fbe5f8-d101-4bd9-87fb-901da2084b1d",
   "metadata": {},
   "outputs": [
    {
     "name": "stdin",
     "output_type": "stream",
     "text": [
      "이름을 입력하세요>> 홍길동\n",
      "나이를 입력하세요>> 35\n"
     ]
    },
    {
     "name": "stdout",
     "output_type": "stream",
     "text": [
      "홍길동님의 나이는 35살입니다\n"
     ]
    }
   ],
   "source": [
    "# 1. [출력형식 : 홍길동님의 나이는 23살입니다]\n",
    "name = input('이름을 입력하세요>>')\n",
    "age = input('나이를 입력하세요>>')\n",
    "print('{}님의 나이는 {}살입니다'.format(name,age))"
   ]
  },
  {
   "cell_type": "code",
   "execution_count": 218,
   "id": "3610278f-f04e-4023-8b36-7f54cf93195b",
   "metadata": {},
   "outputs": [
    {
     "name": "stdin",
     "output_type": "stream",
     "text": [
      "첫번째 정수를 입력하세요>> 5\n",
      "두번째 정수를 입력하세요>> 3\n"
     ]
    },
    {
     "name": "stdout",
     "output_type": "stream",
     "text": [
      "a + b = 8\n",
      "a - b = 2\n",
      "a x b = 15\n",
      "a / b = 1.6666666666666667\n"
     ]
    }
   ],
   "source": [
    "# 2. 두 정수를 입력받아 두 수의 덧셈, 뺄셈, 곱셈, 나눗셈, 몫, 나머지를 출력하세요\n",
    "num1 = int(input(\"첫번째 정수를 입력하세요>>\"))\n",
    "num2 = int(input(\"두번째 정수를 입력하세요>>\"))\n",
    "print('a + b = {}\\na - b = {}\\na x b = {}\\na / b = {}'.format(num1+num2,num1-num2,num1*num2,num1/num2))"
   ]
  },
  {
   "cell_type": "code",
   "execution_count": 222,
   "id": "51896589-0c00-421d-a57e-713037daffda",
   "metadata": {},
   "outputs": [
    {
     "name": "stdout",
     "output_type": "stream",
     "text": [
      "World Hello\n"
     ]
    }
   ],
   "source": [
    "# 3.‘Hello World’를 ‘World Hello’로 출력\n",
    "str = \"Hello World\"\n",
    "print(str[6:],str[0:5])"
   ]
  },
  {
   "cell_type": "code",
   "execution_count": 244,
   "id": "c0532dac-a1e0-42b1-b0b5-5addde178734",
   "metadata": {},
   "outputs": [
    {
     "name": "stdout",
     "output_type": "stream",
     "text": [
      "bcdefa\n"
     ]
    }
   ],
   "source": [
    "# 4. x = 'abcdef＇를 이용하여 ‘bcdefa’로 출력하세요\n",
    "#         012345\n",
    "x= 'abcdef'\n",
    "print(x[1:6]+x[0])"
   ]
  },
  {
   "cell_type": "code",
   "execution_count": 246,
   "id": "fcd97b2d-1923-4a5d-bb49-af91a1921020",
   "metadata": {},
   "outputs": [
    {
     "name": "stdout",
     "output_type": "stream",
     "text": [
      "fedcba\n"
     ]
    }
   ],
   "source": [
    "# 5. x = ‘abcdef’를 이용하여 ‘fedcba’로 출력\n",
    "x= 'abcdef'\n",
    "print(x[::-1])"
   ]
  },
  {
   "cell_type": "code",
   "execution_count": 254,
   "id": "5e7b3b51-5d89-4fad-83b9-c02fb86df935",
   "metadata": {},
   "outputs": [
    {
     "name": "stdin",
     "output_type": "stream",
     "text": [
      "온도를 입력하세요 35.67\n"
     ]
    },
    {
     "name": "stdout",
     "output_type": "stream",
     "text": [
      "변환된 온도는 96.21 입니다\n"
     ]
    }
   ],
   "source": [
    "# 6.섭씨온도로 입력받아 화씨 온도로 변환\n",
    "cell = float(input(\"온도를 입력하세요\"))\n",
    "f = (cell*1.8)+32\n",
    "print(\"변환된 온도는 {:.2f} 입니다\".format(f))"
   ]
  },
  {
   "cell_type": "code",
   "execution_count": null,
   "id": "fd6b7b95-cdb5-48c3-b0d0-e5b7a57ed7e3",
   "metadata": {},
   "outputs": [],
   "source": []
  }
 ],
 "metadata": {
  "kernelspec": {
   "display_name": "Python 3 (ipykernel)",
   "language": "python",
   "name": "python3"
  },
  "language_info": {
   "codemirror_mode": {
    "name": "ipython",
    "version": 3
   },
   "file_extension": ".py",
   "mimetype": "text/x-python",
   "name": "python",
   "nbconvert_exporter": "python",
   "pygments_lexer": "ipython3",
   "version": "3.11.7"
  }
 },
 "nbformat": 4,
 "nbformat_minor": 5
}
