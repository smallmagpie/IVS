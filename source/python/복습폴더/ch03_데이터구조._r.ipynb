{
 "cells": [
  {
   "cell_type": "markdown",
   "id": "fa20e715-5d02-4ed3-b6a6-c7f0b0025228",
   "metadata": {},
   "source": [
    "ch03. 데이터 구조\n",
    "리스트 [], 튜플 (), 딕셔너리{구조체와 유사}, 셋(집합)"
   ]
  },
  {
   "cell_type": "markdown",
   "id": "5c0482d8-553f-4f68-a60a-3f3ac55b68de",
   "metadata": {},
   "source": [
    "# 1. 리스트\n",
    "## \n",
    "1.1 리스트 만들\n",
    "- [] 이용\r",
    "- \n",
    "인덱스 :0부터 시작. -1은 맨 마지막 인덱스- \r\n",
    "슬라이싱([from:to:Step])을 이용하여 추출기"
   ]
  },
  {
   "cell_type": "code",
   "execution_count": 4,
   "id": "5b66643a-2af9-4883-b7ec-8e7c71347d0b",
   "metadata": {},
   "outputs": [
    {
     "data": {
      "text/plain": [
       "list"
      ]
     },
     "execution_count": 4,
     "metadata": {},
     "output_type": "execute_result"
    }
   ],
   "source": [
    "fruits = ['banana', 'apple','orange','grape',0]\n",
    "type(fruits)"
   ]
  },
  {
   "cell_type": "code",
   "execution_count": 6,
   "id": "7962d811-d188-425d-b0fc-5bb8185dcea8",
   "metadata": {},
   "outputs": [
    {
     "name": "stdout",
     "output_type": "stream",
     "text": [
      "['banana', 'apple', 'orange', 'grape', 0]\n"
     ]
    }
   ],
   "source": [
    "print(fruits)"
   ]
  },
  {
   "cell_type": "code",
   "execution_count": 8,
   "id": "8bc9306b-a35a-4eb0-8be5-dbab80ec7595",
   "metadata": {},
   "outputs": [
    {
     "name": "stdout",
     "output_type": "stream",
     "text": [
      "banana\n"
     ]
    }
   ],
   "source": [
    "print(fruits[0])"
   ]
  },
  {
   "cell_type": "code",
   "execution_count": 10,
   "id": "bfcbbeba-8e09-41b3-a8a2-0b0a34c2ce5a",
   "metadata": {},
   "outputs": [
    {
     "name": "stdout",
     "output_type": "stream",
     "text": [
      "['mango', 'apple', 'orange', 'grape', 0]\n"
     ]
    }
   ],
   "source": [
    "fruits[0] = 'mango'\n",
    "print(fruits)"
   ]
  },
  {
   "cell_type": "code",
   "execution_count": 12,
   "id": "e6dce15b-2ddc-44cf-a868-0134f0e272b4",
   "metadata": {},
   "outputs": [
    {
     "name": "stdout",
     "output_type": "stream",
     "text": [
      "mango\n",
      "apple\n",
      "orange\n",
      "grape\n",
      "0\n"
     ]
    }
   ],
   "source": [
    "# ★\n",
    "for fruit in fruits:\n",
    "    print(fruit)"
   ]
  },
  {
   "cell_type": "code",
   "execution_count": 16,
   "id": "3665cd93-cee8-4fde-8cde-a76a6cb1eb62",
   "metadata": {},
   "outputs": [
    {
     "data": {
      "text/plain": [
       "range(0, 5)"
      ]
     },
     "execution_count": 16,
     "metadata": {},
     "output_type": "execute_result"
    }
   ],
   "source": [
    "range(5)"
   ]
  },
  {
   "cell_type": "code",
   "execution_count": 18,
   "id": "db1a182f-f383-4586-80a4-07b37a182652",
   "metadata": {},
   "outputs": [
    {
     "data": {
      "text/plain": [
       "5"
      ]
     },
     "execution_count": 18,
     "metadata": {},
     "output_type": "execute_result"
    }
   ],
   "source": [
    "len(fruits) # list fruits 요소의 갯수"
   ]
  },
  {
   "cell_type": "code",
   "execution_count": 20,
   "id": "2af40430-a993-4002-a851-4444ffcc0467",
   "metadata": {},
   "outputs": [
    {
     "data": {
      "text/plain": [
       "[0, 1, 2, 3, 4]"
      ]
     },
     "execution_count": 20,
     "metadata": {},
     "output_type": "execute_result"
    }
   ],
   "source": [
    "list(range(len(fruits)))"
   ]
  },
  {
   "cell_type": "code",
   "execution_count": 26,
   "id": "966ab5f9-ea85-41f2-bc35-87fabc2a1ad3",
   "metadata": {},
   "outputs": [
    {
     "name": "stdout",
     "output_type": "stream",
     "text": [
      "0번째 과일은 mango\n",
      "1번째 과일은 apple\n",
      "2번째 과일은 orange\n",
      "3번째 과일은 grape\n",
      "4번째 과일은 0\n"
     ]
    }
   ],
   "source": [
    "for fruit in range(len(fruits)):\n",
    "    print(\"{}번째 과일은 {}\".format(fruit, fruits[fruit]))"
   ]
  },
  {
   "cell_type": "code",
   "execution_count": 28,
   "id": "6627288a-52e3-40d4-8e32-81e82ad8ac26",
   "metadata": {},
   "outputs": [
    {
     "name": "stdout",
     "output_type": "stream",
     "text": [
      "0번째 과일은 mango\n",
      "1번째 과일은 apple\n",
      "2번째 과일은 orange\n",
      "3번째 과일은 grape\n",
      "4번째 과일은 0\n"
     ]
    }
   ],
   "source": [
    "# ★\n",
    "for idx, value in enumerate(fruits):\n",
    "    print(\"{}번째 과일은 {}\".format(idx, value))"
   ]
  },
  {
   "cell_type": "markdown",
   "id": "3aa6aa2c-1e8d-428a-bd36-708f3a075cf3",
   "metadata": {},
   "source": [
    "## 1.2 기본정보 조회"
   ]
  },
  {
   "cell_type": "code",
   "execution_count": 31,
   "id": "c385e867-2d3b-4ee2-8a66-6baf2b67e0c0",
   "metadata": {},
   "outputs": [
    {
     "name": "stdout",
     "output_type": "stream",
     "text": [
      "요소의 수 : 5\n",
      "최소값 : 1\n",
      "최대값 : 5\n"
     ]
    }
   ],
   "source": [
    "numbers = [1,2,3,4,5]\n",
    "print(\"요소의 수 :\", len(numbers))\n",
    "print(\"최소값 :\", min(numbers))\n",
    "print(\"최대값 :\", max(numbers))"
   ]
  },
  {
   "cell_type": "markdown",
   "id": "570b32ac-3f1b-48d9-a950-aa620fac7a44",
   "metadata": {},
   "source": [
    "## 1.3 요소 추가\n",
    "- + 두 리스트를 연결\r",
    "-  리스트*n : 리스트를 n만큼 반복- # append() : 요소 뒤에 \n",
    "- \n",
    "# extend() : 리스트의 요소별로 뒤에 추가"
   ]
  },
  {
   "cell_type": "code",
   "execution_count": 34,
   "id": "8f78d9dd-3647-440e-83c1-ab687407b82f",
   "metadata": {},
   "outputs": [
    {
     "data": {
      "text/plain": [
       "[1, 2, 3, 1, 2, 3]"
      ]
     },
     "execution_count": 34,
     "metadata": {},
     "output_type": "execute_result"
    }
   ],
   "source": [
    "numbers = [1,2,3]\n",
    "numbers = numbers + numbers\n",
    "numbers"
   ]
  },
  {
   "cell_type": "code",
   "execution_count": 36,
   "id": "8e939d0c-d6b1-42bb-beb3-c6d37f45c336",
   "metadata": {},
   "outputs": [
    {
     "name": "stdout",
     "output_type": "stream",
     "text": [
      "[1, 2, 3, 1, 2, 3, 1, 2, 3]\n"
     ]
    }
   ],
   "source": [
    "numbers = [1,2,3]\n",
    "print(numbers * 3)"
   ]
  },
  {
   "cell_type": "code",
   "execution_count": 38,
   "id": "7e58d85b-078e-498c-8957-f046b90099cd",
   "metadata": {},
   "outputs": [],
   "source": [
    "numbers.append(4)"
   ]
  },
  {
   "cell_type": "code",
   "execution_count": 40,
   "id": "9151f682-accc-4f4d-877e-081d94d7ec68",
   "metadata": {},
   "outputs": [
    {
     "data": {
      "text/plain": [
       "[1, 2, 3, 4]"
      ]
     },
     "execution_count": 40,
     "metadata": {},
     "output_type": "execute_result"
    }
   ],
   "source": [
    "numbers"
   ]
  },
  {
   "cell_type": "code",
   "execution_count": 42,
   "id": "8b70175d-8b37-4fef-9585-30eb3fc08971",
   "metadata": {},
   "outputs": [
    {
     "data": {
      "text/plain": [
       "[1, 2, 3, 4, [5, 6]]"
      ]
     },
     "execution_count": 42,
     "metadata": {},
     "output_type": "execute_result"
    }
   ],
   "source": [
    "numbers = [1,2,3,4]\n",
    "num = [5,6]\n",
    "# numbers를 [1,2,3,4,5,6] vs [1,2,3,4, [5,6]]\n",
    "numbers.append(num)\n",
    "numbers"
   ]
  },
  {
   "cell_type": "code",
   "execution_count": 44,
   "id": "4920bc00-886d-4e6a-af69-a543ffbfe54b",
   "metadata": {},
   "outputs": [
    {
     "data": {
      "text/plain": [
       "[1, 2, 3, 4, 5, 6]"
      ]
     },
     "execution_count": 44,
     "metadata": {},
     "output_type": "execute_result"
    }
   ],
   "source": [
    "numbers = [1,2,3,4]\n",
    "num = [5,6]\n",
    "# numbers를 [1,2,3,4,5,6] vs [1,2,3,4, [5,6]]\n",
    "numbers.extend(num)\n",
    "numbers"
   ]
  },
  {
   "cell_type": "code",
   "execution_count": 46,
   "id": "03e28e78-d71b-4d92-9e37-717c4b9a9a9d",
   "metadata": {},
   "outputs": [
    {
     "data": {
      "text/plain": [
       "[1, 2, 3, 4, 'hello']"
      ]
     },
     "execution_count": 46,
     "metadata": {},
     "output_type": "execute_result"
    }
   ],
   "source": [
    "numbers = [1,2,3,4]\n",
    "numbers.append(\"hello\")\n",
    "numbers"
   ]
  },
  {
   "cell_type": "code",
   "execution_count": 48,
   "id": "5132ce37-a5ad-44e4-a996-7ec32f417f86",
   "metadata": {},
   "outputs": [
    {
     "data": {
      "text/plain": [
       "[1, 2, 3, 4, 'h', 'e', 'l', 'l', 'o']"
      ]
     },
     "execution_count": 48,
     "metadata": {},
     "output_type": "execute_result"
    }
   ],
   "source": [
    "numbers = [1,2,3,4]\n",
    "numbers.extend(\"hello\")\n",
    "numbers"
   ]
  },
  {
   "cell_type": "markdown",
   "id": "40d6f9e4-74bc-425b-82fd-57c7bda4ee4c",
   "metadata": {},
   "source": [
    "## 1.4 인덱싱\n",
    "```\n",
    "index(찾고자하는 값, 1) : 찾고자하는 값이 1번인덱스부터 찾아 그 위치를 반환\r\n",
    "count(찾고자하는 값) : 찾고자하는 값이 몇번나오는지 counter"
   ]
  },
  {
   "cell_type": "code",
   "execution_count": 53,
   "id": "0b0b95b6-9d0e-4ca8-bb61-87da38272337",
   "metadata": {},
   "outputs": [
    {
     "name": "stdout",
     "output_type": "stream",
     "text": [
      "2가 몇개인지 : 2\n",
      "4가 몇개인지 : 0\n"
     ]
    }
   ],
   "source": [
    "numbers = [1,2,3, [1,2,3], 1,2,3]\n",
    "print(\"2가 몇개인지 : {}\".format(numbers.count(2)))\n",
    "print(\"4가 몇개인지 : {}\".format(numbers.count(4)))"
   ]
  },
  {
   "cell_type": "code",
   "execution_count": 55,
   "id": "0b1cb944-d6d5-45d3-b745-fba3a4fe0ef7",
   "metadata": {},
   "outputs": [
    {
     "data": {
      "text/plain": [
       "True"
      ]
     },
     "execution_count": 55,
     "metadata": {},
     "output_type": "execute_result"
    }
   ],
   "source": [
    "2 in numbers # numbers안에 2가 있는지 여부"
   ]
  },
  {
   "cell_type": "code",
   "execution_count": 59,
   "id": "44e21a56-71d3-4b87-9b8f-675839921286",
   "metadata": {},
   "outputs": [
    {
     "data": {
      "text/plain": [
       "1"
      ]
     },
     "execution_count": 59,
     "metadata": {},
     "output_type": "execute_result"
    }
   ],
   "source": [
    "numbers.index(2, ) #3번째인덱스부터 2가 처음 나오는 인덱스를 반환"
   ]
  },
  {
   "cell_type": "markdown",
   "id": "6519dcf3-4478-45ad-8a16-59a3aceedcdf",
   "metadata": {},
   "source": [
    "## 1.5 리스트의 원하는 내용만 추출\n",
    "```\r\n",
    "슬라이싱 [from:to:step]을 이용 ; 원하는 인덱스의 값 추출\r\n",
    "리스트 컴프리헨션을 이용 ; 원하는 데이터만 추출"
   ]
  },
  {
   "cell_type": "code",
   "execution_count": 65,
   "id": "8db6aef1-74f8-4fb4-a54e-023c23c165aa",
   "metadata": {},
   "outputs": [
    {
     "data": {
      "text/plain": [
       "[20, 19, 18, 13, 12, 10, 9, 5, 3, 1]"
      ]
     },
     "execution_count": 65,
     "metadata": {},
     "output_type": "execute_result"
    }
   ],
   "source": [
    "numbers  = [1,3,5,9,10,12,13,18,19,20]\n",
    "numbers[::-1]"
   ]
  },
  {
   "cell_type": "code",
   "execution_count": 67,
   "id": "003a9a07-aaf8-4040-b823-7bab16aeb524",
   "metadata": {},
   "outputs": [
    {
     "data": {
      "text/plain": [
       "[1, 5, 10, 13, 19]"
      ]
     },
     "execution_count": 67,
     "metadata": {},
     "output_type": "execute_result"
    }
   ],
   "source": [
    "numbers[::2] # 인덱스가 짝수인 값을 추출"
   ]
  },
  {
   "cell_type": "code",
   "execution_count": 69,
   "id": "583add59-91cd-4af1-8076-a7634915e5eb",
   "metadata": {},
   "outputs": [
    {
     "data": {
      "text/plain": [
       "[10, 12, 18, 20]"
      ]
     },
     "execution_count": 69,
     "metadata": {},
     "output_type": "execute_result"
    }
   ],
   "source": [
    "# 값이 짝수인 데이터만 추출\n",
    "result = []\n",
    "for num in numbers: #[1,3,5,9,10,12,13,18,19,20]\n",
    "    if num%2 == 0:\n",
    "        result.append(num)\n",
    "result"
   ]
  },
  {
   "cell_type": "code",
   "execution_count": 75,
   "id": "de3ef539-e62c-4530-ab00-9f6d9fb912a3",
   "metadata": {},
   "outputs": [
    {
     "data": {
      "text/plain": [
       "[20, 24, 36, 40]"
      ]
     },
     "execution_count": 75,
     "metadata": {},
     "output_type": "execute_result"
    }
   ],
   "source": [
    "#리스트 컴프리헨션\n",
    "result = [2*num for num in numbers if num%2==0]\n",
    "result"
   ]
  },
  {
   "cell_type": "code",
   "execution_count": 77,
   "id": "78c49775-e213-480e-8eb6-e186c61a448b",
   "metadata": {},
   "outputs": [
    {
     "data": {
      "text/plain": [
       "[1, 9, 25]"
      ]
     },
     "execution_count": 77,
     "metadata": {},
     "output_type": "execute_result"
    }
   ],
   "source": [
    "# numbers 리스트의 제곱값을 리스트로 생성하여라(컴프리헨션이용)\n",
    "numbers = [1,3,5]\n",
    "result = [num**2 for num in numbers]\n",
    "result"
   ]
  },
  {
   "cell_type": "code",
   "execution_count": 79,
   "id": "3946322b-4eda-42b4-ad5d-8df6a48ff98b",
   "metadata": {},
   "outputs": [
    {
     "data": {
      "text/plain": [
       "['orange', 'apple', 'mango']"
      ]
     },
     "execution_count": 79,
     "metadata": {},
     "output_type": "execute_result"
    }
   ],
   "source": [
    "# 과일의 글자가 5글자 이상인 과일 추출하세요\n",
    "fruits = [\"orange\",\"apple\", \"mango\",\"kiwi\"]\n",
    "[fruit for fruit in fruits if len(fruit)>=5]"
   ]
  },
  {
   "cell_type": "code",
   "execution_count": 81,
   "id": "964b7945-51ba-41e8-98f4-353a72a130ba",
   "metadata": {},
   "outputs": [
    {
     "data": {
      "text/plain": [
       "[6, 5, 5]"
      ]
     },
     "execution_count": 81,
     "metadata": {},
     "output_type": "execute_result"
    }
   ],
   "source": [
    "# 과일의 글자가 5글자 이상인 과일의 글자수를 출력하세요\n",
    "[len(f) for f in fruits if len(f)>=5]"
   ]
  },
  {
   "cell_type": "markdown",
   "id": "2f76581b-c5c0-4de4-9e9f-125fb1f5eeb7",
   "metadata": {},
   "source": [
    "## 1.6 삭제하기\n",
    "```\n",
    "remove(data) : 해당 data가 제거\n",
    "del 리스트변수[idx] : idx번째 요소 제거\n",
    "pop() : 가장 마지막 인덱스 요소가 return 되고 삭제"
   ]
  },
  {
   "cell_type": "code",
   "execution_count": 85,
   "id": "7f3fda8e-2240-475a-97e6-b8dd8b3798f1",
   "metadata": {},
   "outputs": [
    {
     "name": "stdout",
     "output_type": "stream",
     "text": [
      "4\n",
      "[1, 2, 3]\n"
     ]
    }
   ],
   "source": [
    "numbers = [1,2,3,4]\n",
    "print(numbers.pop())\n",
    "print(numbers)"
   ]
  },
  {
   "cell_type": "code",
   "execution_count": 87,
   "id": "1766550b-bf43-4301-b866-4db83260e2ef",
   "metadata": {},
   "outputs": [
    {
     "name": "stdout",
     "output_type": "stream",
     "text": [
      "[2, 3]\n"
     ]
    }
   ],
   "source": [
    "numbers.remove(1)\n",
    "print(numbers)"
   ]
  },
  {
   "cell_type": "code",
   "execution_count": 89,
   "id": "d7888301-5fc9-4923-b755-5254b66c82c6",
   "metadata": {},
   "outputs": [
    {
     "ename": "ValueError",
     "evalue": "list.remove(x): x not in list",
     "output_type": "error",
     "traceback": [
      "\u001b[1;31m---------------------------------------------------------------------------\u001b[0m",
      "\u001b[1;31mValueError\u001b[0m                                Traceback (most recent call last)",
      "Cell \u001b[1;32mIn[89], line 1\u001b[0m\n\u001b[1;32m----> 1\u001b[0m numbers\u001b[38;5;241m.\u001b[39mremove(\u001b[38;5;241m9\u001b[39m)\n",
      "\u001b[1;31mValueError\u001b[0m: list.remove(x): x not in list"
     ]
    }
   ],
   "source": [
    "numbers.remove(9) #없는 데이터 remove시 에러"
   ]
  },
  {
   "cell_type": "code",
   "execution_count": 91,
   "id": "6ea12d32-388b-40ae-a110-be11823c83b3",
   "metadata": {},
   "outputs": [
    {
     "name": "stdout",
     "output_type": "stream",
     "text": [
      "[3]\n"
     ]
    }
   ],
   "source": [
    "del numbers[0]\n",
    "print(numbers)"
   ]
  },
  {
   "cell_type": "code",
   "execution_count": 93,
   "id": "897a661d-e4c9-4a87-bc5f-9128c52eb648",
   "metadata": {},
   "outputs": [],
   "source": [
    "del numbers"
   ]
  },
  {
   "cell_type": "code",
   "execution_count": 95,
   "id": "e2a80587-6460-4d3c-856d-e5d5a7df1ae3",
   "metadata": {},
   "outputs": [
    {
     "ename": "NameError",
     "evalue": "name 'numbers' is not defined",
     "output_type": "error",
     "traceback": [
      "\u001b[1;31m---------------------------------------------------------------------------\u001b[0m",
      "\u001b[1;31mNameError\u001b[0m                                 Traceback (most recent call last)",
      "Cell \u001b[1;32mIn[95], line 1\u001b[0m\n\u001b[1;32m----> 1\u001b[0m numbers\n",
      "\u001b[1;31mNameError\u001b[0m: name 'numbers' is not defined"
     ]
    }
   ],
   "source": [
    "numbers"
   ]
  },
  {
   "cell_type": "markdown",
   "id": "a4091630-5431-4a84-a6e0-39695c451a84",
   "metadata": {},
   "source": [
    "## 1.7 정렬하기"
   ]
  },
  {
   "cell_type": "code",
   "execution_count": 98,
   "id": "7829eac4-7d9e-427f-b498-3bdd5e9f8b8f",
   "metadata": {},
   "outputs": [
    {
     "data": {
      "text/plain": [
       "[1, 5, 5, 9, 10]"
      ]
     },
     "execution_count": 98,
     "metadata": {},
     "output_type": "execute_result"
    }
   ],
   "source": [
    "numbers = [9,10,1,5,5]\n",
    "numbers.sort() #오름차순 정렬\n",
    "numbers"
   ]
  },
  {
   "cell_type": "code",
   "execution_count": 100,
   "id": "259b75f0-db96-4344-987b-43722fa169e0",
   "metadata": {},
   "outputs": [
    {
     "data": {
      "text/plain": [
       "[10, 9, 5, 5, 1]"
      ]
     },
     "execution_count": 100,
     "metadata": {},
     "output_type": "execute_result"
    }
   ],
   "source": [
    "numbers = [9,10,1,5,5]\n",
    "numbers.sort(reverse=True) #내림차순 정렬\n",
    "numbers"
   ]
  },
  {
   "cell_type": "markdown",
   "id": "6de3ce26-2901-4f3a-a482-29a079df247a",
   "metadata": {},
   "source": [
    "## 1.8 리스트 복제"
   ]
  },
  {
   "cell_type": "code",
   "execution_count": 103,
   "id": "7474d861-99c0-415a-94f8-17d3746a7cdd",
   "metadata": {},
   "outputs": [
    {
     "name": "stdout",
     "output_type": "stream",
     "text": [
      "정렬전 데이터 : [1, 2, 6]\n",
      "정렬후 데이터 : [1, 2, 6]\n"
     ]
    }
   ],
   "source": [
    "numbers = [6,1,2]\n",
    "new_numbers = numbers; # 얕은 복사\n",
    "numbers.sort()\n",
    "print('정렬전 데이터 :', new_numbers)\n",
    "print('정렬후 데이터 :', numbers)"
   ]
  },
  {
   "cell_type": "code",
   "execution_count": 106,
   "id": "719161e6-5df7-48cd-8e26-31e6a613e89f",
   "metadata": {},
   "outputs": [
    {
     "name": "stdout",
     "output_type": "stream",
     "text": [
      "정렬전 데이터 : [6, 1, 2]\n",
      "정렬후 데이터 : [1, 2, 6]\n"
     ]
    }
   ],
   "source": [
    "\n",
    "numbers = [6,1,2]\n",
    "new_numbers = numbers.copy(); # 깊은 복사\n",
    "numbers.sort()\n",
    "print('정렬전 데이터 :', new_numbers)\n",
    "print('정렬후 데이터 :', numbers)"
   ]
  },
  {
   "cell_type": "markdown",
   "id": "a27ab4db-ff6b-4165-86cc-386da4bbc0a8",
   "metadata": {},
   "source": [
    "## 2. 튜플\n",
    "- 리스트와 유사하지만 읽기전용\r",
    "- \n",
    "() 이용해서 생성\n"
   ]
  },
  {
   "cell_type": "code",
   "execution_count": 109,
   "id": "a343b700-374f-4d64-b826-75fef97cd69b",
   "metadata": {},
   "outputs": [
    {
     "name": "stdout",
     "output_type": "stream",
     "text": [
      "<class 'tuple'>\n",
      "('서울', '부산', '광주', '대전')\n"
     ]
    }
   ],
   "source": [
    "city = ('서울','부산','광주','대전')\n",
    "print(type(city))\n",
    "print(city)"
   ]
  },
  {
   "cell_type": "code",
   "execution_count": 111,
   "id": "25179505-ef99-4889-ad5d-3ae8b5b2a74b",
   "metadata": {},
   "outputs": [
    {
     "data": {
      "text/plain": [
       "'서울~부산~광주~대전'"
      ]
     },
     "execution_count": 111,
     "metadata": {},
     "output_type": "execute_result"
    }
   ],
   "source": [
    "'~'.join(city)"
   ]
  },
  {
   "cell_type": "code",
   "execution_count": 113,
   "id": "b066c1c0-9709-4c11-b81f-52647da45bec",
   "metadata": {},
   "outputs": [
    {
     "data": {
      "text/plain": [
       "list"
      ]
     },
     "execution_count": 113,
     "metadata": {},
     "output_type": "execute_result"
    }
   ],
   "source": [
    "list_ = ['서울']\n",
    "type(list_)"
   ]
  },
  {
   "cell_type": "code",
   "execution_count": 115,
   "id": "aca9fa2c-10bd-439e-a9a4-14f43b693e6b",
   "metadata": {},
   "outputs": [
    {
     "data": {
      "text/plain": [
       "tuple"
      ]
     },
     "execution_count": 115,
     "metadata": {},
     "output_type": "execute_result"
    }
   ],
   "source": [
    "t = ('서울', ) #요소가 하나인 튜플은 뒤에 컴마(,) 필수\n",
    "type(t)"
   ]
  },
  {
   "cell_type": "markdown",
   "id": "3b85c49b-c636-4777-9004-390aa957230b",
   "metadata": {},
   "source": [
    "## 3절 딕셔너리\r",
    "```\n",
    "구조체와 유사사- \r\n",
    "{}를 이용해서 생성. key-value쌍으로 구- 성\r\n",
    "value(값)은 중복 가능하나 key는 중복 - 불가\r\n",
    "index를 이용한 참조 불가"
   ]
  },
  {
   "cell_type": "code",
   "execution_count": 125,
   "id": "a80abfc6-1fee-4a1f-9bc3-5bdca60e2f70",
   "metadata": {},
   "outputs": [
    {
     "name": "stdout",
     "output_type": "stream",
     "text": [
      "<class 'dict'>\n",
      "{'name': '홍길동', 'address': '서울시 금천구'}\n"
     ]
    }
   ],
   "source": [
    "dic = {'name':'홍길동', 'address':'서울시 금천구'}\n",
    "print(type(dic))\n",
    "print(dic)"
   ]
  },
  {
   "cell_type": "code",
   "execution_count": 127,
   "id": "7922cd1a-da7f-4e22-8742-142fa2e330e7",
   "metadata": {},
   "outputs": [
    {
     "data": {
      "text/plain": [
       "('홍길동', '서울시 금천구')"
      ]
     },
     "execution_count": 127,
     "metadata": {},
     "output_type": "execute_result"
    }
   ],
   "source": [
    "dic['name'], dic['address']"
   ]
  },
  {
   "cell_type": "code",
   "execution_count": 129,
   "id": "e8b5bf91-57dc-4fde-8d3d-51a50f7ce1ba",
   "metadata": {},
   "outputs": [
    {
     "ename": "KeyError",
     "evalue": "'score'",
     "output_type": "error",
     "traceback": [
      "\u001b[1;31m---------------------------------------------------------------------------\u001b[0m",
      "\u001b[1;31mKeyError\u001b[0m                                  Traceback (most recent call last)",
      "Cell \u001b[1;32mIn[129], line 1\u001b[0m\n\u001b[1;32m----> 1\u001b[0m dic[\u001b[38;5;124m'\u001b[39m\u001b[38;5;124mscore\u001b[39m\u001b[38;5;124m'\u001b[39m]\n",
      "\u001b[1;31mKeyError\u001b[0m: 'score'"
     ]
    }
   ],
   "source": [
    "dic['score']"
   ]
  },
  {
   "cell_type": "code",
   "execution_count": 133,
   "id": "fce7e297-6e14-47db-b187-085d131dd587",
   "metadata": {},
   "outputs": [
    {
     "data": {
      "text/plain": [
       "('홍길동', '서울시 금천구', None)"
      ]
     },
     "execution_count": 133,
     "metadata": {},
     "output_type": "execute_result"
    }
   ],
   "source": [
    "dic.get('name'), dic.get('address'), dic.get('score')"
   ]
  },
  {
   "cell_type": "code",
   "execution_count": 137,
   "id": "7b45b1fb-cd88-4e99-bdb0-28c9e360b236",
   "metadata": {},
   "outputs": [
    {
     "name": "stdout",
     "output_type": "stream",
     "text": [
      "{'name': '홍길동', 'address': '서울시 금천구', 'score': 100, 'sport': 'sleep'}\n"
     ]
    }
   ],
   "source": [
    "# 수정\n",
    "dic['score'] = 100\n",
    "dic['sport'] = 'sleep'\n",
    "print(dic)"
   ]
  },
  {
   "cell_type": "code",
   "execution_count": 139,
   "id": "86344c72-47bb-4308-9d2a-4d07cf9b1276",
   "metadata": {},
   "outputs": [
    {
     "data": {
      "text/plain": [
       "'sleep'"
      ]
     },
     "execution_count": 139,
     "metadata": {},
     "output_type": "execute_result"
    }
   ],
   "source": [
    "dic.pop('sport')"
   ]
  },
  {
   "cell_type": "code",
   "execution_count": 141,
   "id": "52c64abd-e3db-497f-913f-4113f081a215",
   "metadata": {},
   "outputs": [
    {
     "data": {
      "text/plain": [
       "{'name': '홍길동', 'address': '서울시 금천구', 'score': 100}"
      ]
     },
     "execution_count": 141,
     "metadata": {},
     "output_type": "execute_result"
    }
   ],
   "source": [
    "dic"
   ]
  },
  {
   "cell_type": "code",
   "execution_count": 143,
   "id": "504b5c52-f243-4fc3-be1c-e3868c15dc7a",
   "metadata": {},
   "outputs": [
    {
     "name": "stdout",
     "output_type": "stream",
     "text": [
      "name\n",
      "address\n",
      "score\n",
      "0 name\n",
      "1 address\n",
      "2 score\n"
     ]
    }
   ],
   "source": [
    "# 리스트(튜플, 셋)방식으로 for문 사용하면 key만 출력\n",
    "for key in dic:\n",
    "    print(key)\n",
    "for idx, value in enumerate(dic):\n",
    "    print(idx, value)"
   ]
  },
  {
   "cell_type": "code",
   "execution_count": 145,
   "id": "f7b55866-9f6f-4768-9704-c0f64619b461",
   "metadata": {},
   "outputs": [
    {
     "data": {
      "text/plain": [
       "dict_keys(['name', 'address', 'score'])"
      ]
     },
     "execution_count": 145,
     "metadata": {},
     "output_type": "execute_result"
    }
   ],
   "source": [
    "dic.keys()"
   ]
  },
  {
   "cell_type": "code",
   "execution_count": 149,
   "id": "696eba15-ff17-401b-9f27-c32f05026b99",
   "metadata": {},
   "outputs": [
    {
     "data": {
      "text/plain": [
       "dict_values(['홍길동', '서울시 금천구', 100])"
      ]
     },
     "execution_count": 149,
     "metadata": {},
     "output_type": "execute_result"
    }
   ],
   "source": [
    "dic.values()"
   ]
  },
  {
   "cell_type": "code",
   "execution_count": 151,
   "id": "188023ab-5b72-479b-9a81-a28301ae7ed4",
   "metadata": {},
   "outputs": [
    {
     "data": {
      "text/plain": [
       "dict_items([('name', '홍길동'), ('address', '서울시 금천구'), ('score', 100)])"
      ]
     },
     "execution_count": 151,
     "metadata": {},
     "output_type": "execute_result"
    }
   ],
   "source": [
    "dic.items() # ★★★★★"
   ]
  },
  {
   "cell_type": "code",
   "execution_count": 153,
   "id": "af1b943e-ecbf-47b7-81c3-833d5b88e30f",
   "metadata": {},
   "outputs": [
    {
     "name": "stdout",
     "output_type": "stream",
     "text": [
      "홍길동\n",
      "서울시 금천구\n",
      "100\n"
     ]
    }
   ],
   "source": [
    "for data in dic.values():\n",
    "    print(data)"
   ]
  },
  {
   "cell_type": "code",
   "execution_count": 155,
   "id": "a4e2cf57-71e0-4aed-8844-a0ead1a09216",
   "metadata": {},
   "outputs": [
    {
     "name": "stdout",
     "output_type": "stream",
     "text": [
      "name : 홍길동\n",
      "address : 서울시 금천구\n",
      "score : 100\n"
     ]
    }
   ],
   "source": [
    "for key, value in dic.items():\n",
    "    print(\"{} : {}\".format(key, value))"
   ]
  },
  {
   "cell_type": "code",
   "execution_count": 157,
   "id": "d6404e58-b89c-4c78-bacb-1a4c526d56a7",
   "metadata": {},
   "outputs": [
    {
     "data": {
      "text/plain": [
       "True"
      ]
     },
     "execution_count": 157,
     "metadata": {},
     "output_type": "execute_result"
    }
   ],
   "source": [
    "l = ['a','b','c']\n",
    "'c' in l"
   ]
  },
  {
   "cell_type": "code",
   "execution_count": 159,
   "id": "3386d1a4-a3d7-4fc3-853b-cd2cfb3c4662",
   "metadata": {},
   "outputs": [
    {
     "data": {
      "text/plain": [
       "True"
      ]
     },
     "execution_count": 159,
     "metadata": {},
     "output_type": "execute_result"
    }
   ],
   "source": [
    "dic = {'name':'홍길동', 'score':100}\n",
    "'name' in dic"
   ]
  },
  {
   "cell_type": "code",
   "execution_count": 161,
   "id": "3ec1a6cf-bfc1-41b7-8a63-c10299f56c66",
   "metadata": {},
   "outputs": [
    {
     "data": {
      "text/plain": [
       "False"
      ]
     },
     "execution_count": 161,
     "metadata": {},
     "output_type": "execute_result"
    }
   ],
   "source": [
    "'홍길동' in dic"
   ]
  },
  {
   "cell_type": "code",
   "execution_count": 163,
   "id": "2773e2de-d9de-4a75-bf79-dd165a17ff49",
   "metadata": {},
   "outputs": [
    {
     "data": {
      "text/plain": [
       "2"
      ]
     },
     "execution_count": 163,
     "metadata": {},
     "output_type": "execute_result"
    }
   ],
   "source": [
    "len(dic) #데이터 갯수"
   ]
  },
  {
   "cell_type": "markdown",
   "id": "5eab38d8-8151-4b31-90bb-3877dae61a9d",
   "metadata": {},
   "source": [
    "## 4. 셋\n",
    "- 중복을 허용하지 않는 집합(순서x = 인덱스x)"
   ]
  },
  {
   "cell_type": "code",
   "execution_count": 166,
   "id": "1cde56ee-f31d-4ead-8185-c75c5d0bc7c0",
   "metadata": {},
   "outputs": [
    {
     "name": "stdout",
     "output_type": "stream",
     "text": [
      "{'orange', 'banana', 'apple', 0}\n",
      "<class 'set'>\n"
     ]
    }
   ],
   "source": [
    "fruits = {'apple', 'orange', 'banana', 'banana', 0, 0}\n",
    "print(fruits)\n",
    "print(type(fruits))"
   ]
  },
  {
   "cell_type": "code",
   "execution_count": 168,
   "id": "77d8b6fc-4f5c-4805-bdbb-58a6d830dfcb",
   "metadata": {},
   "outputs": [
    {
     "name": "stdout",
     "output_type": "stream",
     "text": [
      "{'orange', 'banana', 0, 'kiwi', 'apple'}\n"
     ]
    }
   ],
   "source": [
    "fruits.add('kiwi')\n",
    "print(fruits)"
   ]
  },
  {
   "cell_type": "code",
   "execution_count": 170,
   "id": "bb2e6f66-9b3e-4cd4-8599-179ff7b74187",
   "metadata": {},
   "outputs": [
    {
     "name": "stdout",
     "output_type": "stream",
     "text": [
      "{'orange', 'banana', 0, 'kiwi', 'apple'}\n"
     ]
    }
   ],
   "source": [
    "fruits.add('banana')\n",
    "print(fruits)"
   ]
  },
  {
   "cell_type": "code",
   "execution_count": 172,
   "id": "9dfadef7-fc19-45c1-ab95-412c999e5ec4",
   "metadata": {},
   "outputs": [
    {
     "name": "stdout",
     "output_type": "stream",
     "text": [
      "0:orange\n",
      "1:banana\n",
      "2:0\n",
      "3:kiwi\n",
      "4:apple\n"
     ]
    }
   ],
   "source": [
    "for i, value in enumerate(fruits):\n",
    "    print(\"{}:{}\".format(i, value))"
   ]
  },
  {
   "cell_type": "code",
   "execution_count": 174,
   "id": "5332f93a-affa-4443-91bc-124df3db6a95",
   "metadata": {},
   "outputs": [
    {
     "name": "stdout",
     "output_type": "stream",
     "text": [
      "orange\n",
      "banana\n",
      "0\n",
      "kiwi\n",
      "apple\n"
     ]
    }
   ],
   "source": [
    "for data in fruits:\n",
    "    print(data)"
   ]
  },
  {
   "cell_type": "code",
   "execution_count": 252,
   "id": "07dd3952-6c1a-4c7a-a175-9d8bab397893",
   "metadata": {},
   "outputs": [
    {
     "name": "stdout",
     "output_type": "stream",
     "text": [
      "1번 결과 : [1, 2, 3, 4, 5, 6, 7, 8, 9, 10, 100]\n",
      "2번 결과 : [1, 2, 3, 4, 5, 6, 7, 8, 9, 10, 100, 200, 300, 400, 500]\n",
      "3번 결과 : [1, 2, 3, 4, 5]\n",
      "3번 결과 : [1, 3, 5, 7, 9, 100, 300, 500]\n",
      "5번 결과: [0, 2, 0, 4, 0, 6, 0, 8, 0, 10, 0, 200, 0, 400, 0]\n",
      "6번 결과: [0, 400, 0, 200, 0, 10, 0, 8, 0, 6, 0, 4, 0, 2, 0]\n"
     ]
    }
   ],
   "source": [
    "numbers = [1,2,3,4,5,6,7,8,9,10]\n",
    "# 1. 숫자 100을 맨 뒤에 추가하세요\n",
    "numbers.append(100)\n",
    "print(\"1번 결과 :\",numbers)\n",
    "\n",
    "# 2. 다음 리스트를 numbers리스트 맨 뒤에 추가하세요\n",
    "data = [200, 300, 400, 500]\n",
    "numbers = numbers+data\n",
    "print(\"2번 결과 :\",numbers)\n",
    "\n",
    "# 3. 처음 다섯 개 숫자만 출력하세요\n",
    "print(\"3번 결과 :\", numbers[0:5])\n",
    "\n",
    "# 4. 리스트에서 짝수 번째 데이터만 출력하세요\n",
    "print(\"3번 결과 :\", numbers[::2])\n",
    "\n",
    "# 5 짝수번째 데이터를 모두 0으로 바꿔\n",
    "numbers[::2] = len(numbers[::2])*[0]\n",
    "print(\"5번 결과:\",numbers)\n",
    "\n",
    "# 6. 데이터를 역순으로 나열\n",
    "print(\"6번 결과:\",numbers[::-1])\n",
    "\n"
   ]
  },
  {
   "cell_type": "code",
   "execution_count": 294,
   "id": "e6b59b92-72a6-47d5-9379-8d1c99f2b376",
   "metadata": {},
   "outputs": [
    {
     "name": "stdout",
     "output_type": "stream",
     "text": [
      "7번 결과: 서울시 금천구\n",
      "score 삭제 및 출력=> 90\n",
      "확인=> {'name': '홍길동', 'age': 20, 'address': '서울시 금천구'}\n",
      "9번 결과: {'name': '홍길동', 'age': 20, 'address': '경기도 군포시'}\n",
      "10번 결과 ['홍길동', 20, '경기도 군포시']\n",
      "10번 결과 ['name', 'age', 'address']\n"
     ]
    }
   ],
   "source": [
    "member = {'name':\"홍길동\",\"age\":20,\"address\":\"서울시 금천구\", 'score':90}\n",
    "# 7번 address값 출력\n",
    "print(\"7번 결과:\",member.get('address'))\n",
    "\n",
    "# 8 score를 출력하고 딕셔너리에서 삭제 방법1\n",
    "print(\"score 삭제 및 출력=>\",member.pop('score'))\n",
    "print(\"확인=>\",member)\n",
    "\n",
    "#9. address변경\n",
    "member['address']='경기도 군포시'\n",
    "print(\"9번 결과:\",member)\n",
    "\n",
    "#10. 데이터 값만 리스트로 출력\n",
    "print(\"10번 결과\",list(member.values()))\n",
    "\n",
    "#10. 데이터 값만 리스트로 출력\n",
    "print(\"10번 결과\",list(member.keys()))\n"
   ]
  },
  {
   "cell_type": "code",
   "execution_count": null,
   "id": "79741ddb-2f0f-4d3f-8a72-bf45b90c24f7",
   "metadata": {},
   "outputs": [],
   "source": []
  }
 ],
 "metadata": {
  "kernelspec": {
   "display_name": "Python 3 (ipykernel)",
   "language": "python",
   "name": "python3"
  },
  "language_info": {
   "codemirror_mode": {
    "name": "ipython",
    "version": 3
   },
   "file_extension": ".py",
   "mimetype": "text/x-python",
   "name": "python",
   "nbconvert_exporter": "python",
   "pygments_lexer": "ipython3",
   "version": "3.11.7"
  }
 },
 "nbformat": 4,
 "nbformat_minor": 5
}
