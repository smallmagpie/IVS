{
 "cells": [
  {
   "cell_type": "markdown",
   "id": "79ef6da4-f93a-4853-852e-e12d1e0a388e",
   "metadata": {},
   "source": [
    "ch06. 모듈과 패키지"
   ]
  },
  {
   "cell_type": "markdown",
   "id": "31436aca-aa0d-4103-ba57-76e25e0e1469",
   "metadata": {},
   "source": [
    "# 1. 모듈 사용하기\n",
    "- 모듈은 함수, 변수, 클래스가 담긴 파일(*.py)\n",
    "- 파이썬 표준 모듈 200여개\n",
    "- 표준 모듈 외의 모듈 사용하려면 라이브러리를 설치 : \"pip install 라이브러리명\"\n",
    "                                                  \"conda install 라이브러리명:"
   ]
  },
  {
   "cell_type": "code",
   "execution_count": 2,
   "id": "8b676980-163d-4959-b7b0-53ca57b4d3ea",
   "metadata": {},
   "outputs": [
    {
     "ename": "ModuleNotFoundError",
     "evalue": "No module named 'pandas'",
     "output_type": "error",
     "traceback": [
      "\u001b[1;31m---------------------------------------------------------------------------\u001b[0m",
      "\u001b[1;31mModuleNotFoundError\u001b[0m                       Traceback (most recent call last)",
      "Cell \u001b[1;32mIn[2], line 1\u001b[0m\n\u001b[1;32m----> 1\u001b[0m \u001b[38;5;28;01mimport\u001b[39;00m \u001b[38;5;21;01mpandas\u001b[39;00m \u001b[38;5;28;01mas\u001b[39;00m \u001b[38;5;21;01mpd\u001b[39;00m\n\u001b[0;32m      2\u001b[0m \u001b[38;5;28mdir\u001b[39m(pd)\n",
      "\u001b[1;31mModuleNotFoundError\u001b[0m: No module named 'pandas'"
     ]
    }
   ],
   "source": [
    "import pandas as pd\n",
    "dir(pd)"
   ]
  },
  {
   "cell_type": "markdown",
   "id": "2605153e-6a80-4779-9c96-501ddeea08c5",
   "metadata": {},
   "source": [
    "# 2. 사용자 정의 모듈\n",
    "- 모듈을 가져오는 순서(1)표준모듈 (2)sys.path 변수에 저장된 경로"
   ]
  },
  {
   "cell_type": "code",
   "execution_count": 8,
   "id": "eb839a04-e876-4666-a00c-9fc502cc4753",
   "metadata": {},
   "outputs": [
    {
     "data": {
      "text/plain": [
       "['C:\\\\240527_C\\\\source\\\\python',\n",
       " 'C:\\\\Users\\\\USER\\\\anaconda3\\\\envs\\\\notebook\\\\python312.zip',\n",
       " 'C:\\\\Users\\\\USER\\\\anaconda3\\\\envs\\\\notebook\\\\DLLs',\n",
       " 'C:\\\\Users\\\\USER\\\\anaconda3\\\\envs\\\\notebook\\\\Lib',\n",
       " 'C:\\\\Users\\\\USER\\\\anaconda3\\\\envs\\\\notebook',\n",
       " '',\n",
       " 'C:\\\\Users\\\\USER\\\\anaconda3\\\\envs\\\\notebook\\\\Lib\\\\site-packages',\n",
       " 'C:\\\\Users\\\\USER\\\\anaconda3\\\\envs\\\\notebook\\\\Lib\\\\site-packages\\\\win32',\n",
       " 'C:\\\\Users\\\\USER\\\\anaconda3\\\\envs\\\\notebook\\\\Lib\\\\site-packages\\\\win32\\\\lib',\n",
       " 'C:\\\\Users\\\\USER\\\\anaconda3\\\\envs\\\\notebook\\\\Lib\\\\site-packages\\\\Pythonwin',\n",
       " 'C:\\xa0527_C\\\\source\\\\pylib',\n",
       " 'C:\\xa0527_C\\\\source\\\\pylib',\n",
       " 'C:/240527_C/source/pylib']"
      ]
     },
     "execution_count": 8,
     "metadata": {},
     "output_type": "execute_result"
    }
   ],
   "source": [
    "import sys\n",
    "sys.path.append('C:/240527_C/source/pylib')\n",
    "sys.path"
   ]
  },
  {
   "cell_type": "markdown",
   "id": "1e389225-2310-4dbc-be48-1fef8789cdd4",
   "metadata": {},
   "source": [
    "```\n",
    "1. import A : A모듈 가져옴\n",
    "2. import A as B : A 모듈을 B이름으로 가져옴\n",
    "3. from A import B : A모듈안의 B함수를 가져옴\n",
    "4. from A import B as C : A모듈안의 B함수를 C이름으로 가져옴\n",
    "5. from A.B import C : A패키지(폴더)안의 B모듈(*.py)의 C함수를 가져옴\n",
    "6. from A.B import C as D : A패키지(폴더)안의 B모듈(*.py)의 C함수를 D이름으로 가져옴\n",
    "```"
   ]
  },
  {
   "cell_type": "code",
   "execution_count": 9,
   "id": "f9a13f77-11a5-400e-9f9e-f9d77cbbbdf5",
   "metadata": {},
   "outputs": [],
   "source": [
    "#1. import A : A모듈 가져옴\n",
    "import fibonacci\n"
   ]
  },
  {
   "cell_type": "code",
   "execution_count": 10,
   "id": "4134c70a-10e3-4204-830a-5120766cc8be",
   "metadata": {},
   "outputs": [
    {
     "name": "stdout",
     "output_type": "stream",
     "text": [
      "0.1.1.2.3.5.8.13.21.34.55.89.\n"
     ]
    }
   ],
   "source": [
    "fibonacci.fibonacci(100)"
   ]
  },
  {
   "cell_type": "code",
   "execution_count": 11,
   "id": "3409439b-01ab-4003-af4f-39b0fcbb548a",
   "metadata": {},
   "outputs": [],
   "source": [
    "del fibonacci"
   ]
  },
  {
   "cell_type": "code",
   "execution_count": 12,
   "id": "2f91a3db-9c42-4c9f-a38d-0b050909cae1",
   "metadata": {},
   "outputs": [],
   "source": [
    "#2. import A as B : A모듈을 B이름으로 가져옴\n",
    "import fibonacci as fibo"
   ]
  },
  {
   "cell_type": "code",
   "execution_count": 13,
   "id": "021f1e23-11b8-40c9-a524-0d9eaff6b947",
   "metadata": {},
   "outputs": [
    {
     "name": "stdout",
     "output_type": "stream",
     "text": [
      "0.1.1.2.3.5.8.13.21.34.\n"
     ]
    }
   ],
   "source": [
    "fibo.fibonacci(50)"
   ]
  },
  {
   "cell_type": "code",
   "execution_count": 14,
   "id": "711a4f39-1495-41f5-b9b7-c03205b8393c",
   "metadata": {},
   "outputs": [],
   "source": [
    "del fibo"
   ]
  },
  {
   "cell_type": "code",
   "execution_count": 15,
   "id": "02093fe5-cf94-4fd7-8cf2-854480da08ed",
   "metadata": {},
   "outputs": [],
   "source": [
    "# 3. from A import B : A모듈안의 B함수를 가져옴\n",
    "from fibonacci import fibonacci"
   ]
  },
  {
   "cell_type": "code",
   "execution_count": 16,
   "id": "8fec83b5-c903-4fa3-bf18-e3b6f5f7b635",
   "metadata": {},
   "outputs": [
    {
     "name": "stdout",
     "output_type": "stream",
     "text": [
      "0.1.1.2.3.5.8.13.21.34.55.89.\n"
     ]
    }
   ],
   "source": [
    "fibonacci(100)"
   ]
  },
  {
   "cell_type": "code",
   "execution_count": 17,
   "id": "acb593f3-a5d5-4c11-90e7-7b579989bcaf",
   "metadata": {},
   "outputs": [],
   "source": [
    "del fibonacci"
   ]
  },
  {
   "cell_type": "code",
   "execution_count": 18,
   "id": "4c5a1829-4e93-4a9a-aad9-a3d5350a308f",
   "metadata": {},
   "outputs": [],
   "source": [
    "# 4. from A import B as C : A모듈안의 B함수를 C이름으로 가져옴\n",
    "from fibonacci import fibonacci as fibo"
   ]
  },
  {
   "cell_type": "code",
   "execution_count": 20,
   "id": "ce0c83ce-6bb0-4ec7-acae-4a501797d5b5",
   "metadata": {},
   "outputs": [
    {
     "name": "stdout",
     "output_type": "stream",
     "text": [
      "0.1.1.2.3.5.8.13.21.34.55.89.\n"
     ]
    }
   ],
   "source": [
    "fibo(100)"
   ]
  },
  {
   "cell_type": "code",
   "execution_count": 23,
   "id": "1650b7d6-1085-4f49-baf7-b23baed7cdb0",
   "metadata": {},
   "outputs": [
    {
     "data": {
      "text/plain": [
       "['__annotations__',\n",
       " '__builtins__',\n",
       " '__call__',\n",
       " '__class__',\n",
       " '__closure__',\n",
       " '__code__',\n",
       " '__defaults__',\n",
       " '__delattr__',\n",
       " '__dict__',\n",
       " '__dir__',\n",
       " '__doc__',\n",
       " '__eq__',\n",
       " '__format__',\n",
       " '__ge__',\n",
       " '__get__',\n",
       " '__getattribute__',\n",
       " '__getstate__',\n",
       " '__globals__',\n",
       " '__gt__',\n",
       " '__hash__',\n",
       " '__init__',\n",
       " '__init_subclass__',\n",
       " '__kwdefaults__',\n",
       " '__le__',\n",
       " '__lt__',\n",
       " '__module__',\n",
       " '__name__',\n",
       " '__ne__',\n",
       " '__new__',\n",
       " '__qualname__',\n",
       " '__reduce__',\n",
       " '__reduce_ex__',\n",
       " '__repr__',\n",
       " '__setattr__',\n",
       " '__sizeof__',\n",
       " '__str__',\n",
       " '__subclasshook__',\n",
       " '__type_params__']"
      ]
     },
     "execution_count": 23,
     "metadata": {},
     "output_type": "execute_result"
    }
   ],
   "source": [
    "dir(fibo)"
   ]
  },
  {
   "cell_type": "code",
   "execution_count": null,
   "id": "c78a9f76-6c37-49d4-82ac-c745eaa085db",
   "metadata": {},
   "outputs": [],
   "source": []
  }
 ],
 "metadata": {
  "kernelspec": {
   "display_name": "Python 3 (ipykernel)",
   "language": "python",
   "name": "python3"
  },
  "language_info": {
   "codemirror_mode": {
    "name": "ipython",
    "version": 3
   },
   "file_extension": ".py",
   "mimetype": "text/x-python",
   "name": "python",
   "nbconvert_exporter": "python",
   "pygments_lexer": "ipython3",
   "version": "3.12.3"
  }
 },
 "nbformat": 4,
 "nbformat_minor": 5
}
