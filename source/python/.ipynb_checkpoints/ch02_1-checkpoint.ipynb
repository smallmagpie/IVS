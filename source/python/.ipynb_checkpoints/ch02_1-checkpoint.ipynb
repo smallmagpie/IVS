{
 "cells": [
  {
   "cell_type": "markdown",
   "id": "1a53ec2d-7c09-41c2-a2b6-d97247cf93cf",
   "metadata": {},
   "source": [
    "# 1절 변수\n",
    "## 1.1 변수 선언\n",
    "    -별도의 변수 선언과정 없음\n",
    "## 1.2 변수 할당\n",
    "    -대입연산자(=) 사용"
   ]
  },
  {
   "cell_type": "code",
   "execution_count": null,
   "id": "171f8986-d289-4cea-8b7c-db74796fac2c",
   "metadata": {},
   "outputs": [],
   "source": [
    "import numpy as np #라이브러리를 불러오 때  as로서 불러와야하는데 사용할 때마다 라이브러리 명을 붙여줘야하므로 as를 통해 줄일 수 있음.\n",
    "print(np.pi)\n",
    "r = 5\n",
    "area = np.pi*r*r\n",
    "print(\"계산된 넓이는\",area)\n",
    "print(\"area타입은\",type(area))\n",
    "print('area 주소는', id(area))"
   ]
  },
  {
   "cell_type": "code",
   "execution_count": null,
   "id": "bf9258da-b9d2-40e4-9253-14ef5f89dfd3",
   "metadata": {},
   "outputs": [],
   "source": [
    "area = 10\n",
    "print(\"area 값은\", area)\n",
    "print('area타입은', type(area) )\n",
    "print('area 주소는', id(area))"
   ]
  },
  {
   "cell_type": "code",
   "execution_count": null,
   "id": "3c008cd3-8071-41f2-8531-de076eb9f586",
   "metadata": {},
   "outputs": [],
   "source": [
    "area = '파이썬은 좋아요'\n",
    "print(\"area 값은\", area)\n",
    "print('area타입은', type(area) )\n",
    "print('area 주소는', id(area))"
   ]
  },
  {
   "cell_type": "markdown",
   "id": "f6453076-c39b-4e57-b4c3-6e27113ade40",
   "metadata": {},
   "source": [
    "## 1.3 변수 이름규칙"
   ]
  },
  {
   "cell_type": "code",
   "execution_count": null,
   "id": "6f7f6aff-5b86-4fe1-b3cc-f47584fcae5c",
   "metadata": {},
   "outputs": [],
   "source": [
    "불용어 = '북한'\n",
    "불용어"
   ]
  },
  {
   "cell_type": "code",
   "execution_count": null,
   "id": "f9fba07e-2546-4294-beeb-cb7e48589455",
   "metadata": {},
   "outputs": [],
   "source": [
    "if = 4"
   ]
  },
  {
   "cell_type": "code",
   "execution_count": null,
   "id": "9664aecf-9094-425b-a57f-d87447f83e1d",
   "metadata": {},
   "outputs": [],
   "source": [
    "print(불용어)"
   ]
  },
  {
   "cell_type": "code",
   "execution_count": null,
   "id": "7faee452-baff-427e-a884-3b8b173541ef",
   "metadata": {},
   "outputs": [],
   "source": [
    "#파이썬 변수는 함수 할당\n",
    "print = 5"
   ]
  },
  {
   "cell_type": "code",
   "execution_count": null,
   "id": "c6d2f670-ac24-41a3-aabb-b69ee90016f0",
   "metadata": {},
   "outputs": [],
   "source": [
    "print(불용어)"
   ]
  },
  {
   "cell_type": "code",
   "execution_count": null,
   "id": "0322c458-e315-46f8-8c66-9816118126d9",
   "metadata": {},
   "outputs": [],
   "source": [
    "del print #print 변수 삭제"
   ]
  },
  {
   "cell_type": "code",
   "execution_count": null,
   "id": "d7423a48-374f-4692-accc-5fcd15c845fb",
   "metadata": {},
   "outputs": [],
   "source": [
    "print(불용어)"
   ]
  },
  {
   "cell_type": "code",
   "execution_count": null,
   "id": "2c15e73d-3698-44bd-9923-cc8226864d98",
   "metadata": {},
   "outputs": [],
   "source": [
    "i = 3 + 3j #복소수\n",
    "type(i)\n"
   ]
  },
  {
   "cell_type": "code",
   "execution_count": null,
   "id": "e6c2e137-183d-45f6-af4f-8deff24bc162",
   "metadata": {},
   "outputs": [],
   "source": [
    "a = 10\n",
    "b = 20"
   ]
  },
  {
   "cell_type": "code",
   "execution_count": null,
   "id": "b5f943a0-8130-41b1-9b68-a69f7356a4bf",
   "metadata": {},
   "outputs": [],
   "source": [
    "a, b = 10, 20"
   ]
  },
  {
   "cell_type": "code",
   "execution_count": null,
   "id": "e51f7ada-9080-41cb-8171-7fc69299f4d3",
   "metadata": {},
   "outputs": [],
   "source": [
    "a, b"
   ]
  },
  {
   "cell_type": "code",
   "execution_count": null,
   "id": "80eeb9d9-a700-4334-8706-aef9ba6d7258",
   "metadata": {},
   "outputs": [],
   "source": [
    "a,b = b, a+b #다중 선언 #20 + 20이 아닌 10 + 20 이 병렬로 같이 들어가기 때문에 b = 30\n",
    "\n",
    "print(\"a=\",a,\"\\t b=\",b)"
   ]
  },
  {
   "cell_type": "markdown",
   "id": "12d06e0e-6c96-4bd8-a626-2f4c43ccef68",
   "metadata": {},
   "source": [
    "## 1.4도움말"
   ]
  },
  {
   "cell_type": "code",
   "execution_count": null,
   "id": "244da132-315b-4d3d-8a92-8068ced8b6f3",
   "metadata": {},
   "outputs": [],
   "source": [
    "help(print)"
   ]
  },
  {
   "cell_type": "code",
   "execution_count": null,
   "id": "ec9c9667-b5d8-43fd-8760-266c13fb2d95",
   "metadata": {},
   "outputs": [],
   "source": [
    "print?"
   ]
  },
  {
   "cell_type": "code",
   "execution_count": null,
   "id": "123e4ccb-428b-4051-b35a-38f6bb46b862",
   "metadata": {},
   "outputs": [],
   "source": [
    "print('a','b', sep = '~') #shitf + tab을 통해 도움말을 볼수 있음"
   ]
  },
  {
   "cell_type": "code",
   "execution_count": null,
   "id": "20a6a0d0-29f6-4c29-9e3e-c5b8ab2a474d",
   "metadata": {},
   "outputs": [],
   "source": [
    "def make_number(x,y=0):\n",
    "    \n",
    "    #함수만들기 # 변수 타입과 리턴 타입을 정해줄 필요가 없다. dafault 값도 써줄 수 \n",
    "    \n",
    "    \"\"\"doc string(함수의 도움말) # 함수를 치고 shitf + tab을 누르면 이 텍스트가 출력됨\n",
    "    매개변수 2개를 이용해서 2자리 정수를 만듬\n",
    "    x = 10의 자리수\n",
    "    y = 1의 자리수(default값 0)\n",
    "    \"\"\"\n",
    "\n",
    "    return x*10 + y"
   ]
  },
  {
   "cell_type": "code",
   "execution_count": null,
   "id": "eefab0f6-b598-449a-a2a3-ccecffba7ab7",
   "metadata": {},
   "outputs": [],
   "source": [
    "make_number(3, 2)"
   ]
  },
  {
   "cell_type": "code",
   "execution_count": null,
   "id": "f696074e-722c-43db-b8cd-bd2864dda707",
   "metadata": {},
   "outputs": [],
   "source": [
    "make_number(5) #default로 y = 0이기 때문에 50출력"
   ]
  },
  {
   "cell_type": "code",
   "execution_count": null,
   "id": "d81e9816-9b8d-418d-8e08-1ae3cf53d395",
   "metadata": {},
   "outputs": [],
   "source": [
    "make = make_number # 함수를 변수에 할당 가능"
   ]
  },
  {
   "cell_type": "code",
   "execution_count": null,
   "id": "dfd8a747-222b-4a84-b0bc-79df2549f1ca",
   "metadata": {},
   "outputs": [],
   "source": [
    "make(6)"
   ]
  },
  {
   "cell_type": "markdown",
   "id": "16d3c7ad-faa7-4f2e-808a-845c88ba29ae",
   "metadata": {},
   "source": [
    "## 1.5 변수 삭제"
   ]
  },
  {
   "cell_type": "code",
   "execution_count": null,
   "id": "456112b3-0c0b-4a24-92a4-1bd26f3b08a1",
   "metadata": {},
   "outputs": [],
   "source": [
    "del make "
   ]
  },
  {
   "cell_type": "code",
   "execution_count": null,
   "id": "effa151e-6611-4773-b581-a070dd7ed436",
   "metadata": {},
   "outputs": [],
   "source": [
    "make(6)"
   ]
  },
  {
   "cell_type": "markdown",
   "id": "85c641a9-e75d-442b-8df9-a08302a14a48",
   "metadata": {},
   "source": [
    "# 2절 화면 I/O\n"
   ]
  },
  {
   "cell_type": "code",
   "execution_count": null,
   "id": "b8a6d41c-1295-4100-a9dc-2bd233263c10",
   "metadata": {},
   "outputs": [],
   "source": [
    "first = input('첫번째 숫자는?') #문자로 return scanf와 유사\n",
    "second = input('두번째 숫자는?') "
   ]
  },
  {
   "cell_type": "code",
   "execution_count": null,
   "id": "f376d1dc-b8fc-43a2-84b0-4600a1f2f569",
   "metadata": {},
   "outputs": [],
   "source": [
    "print('두 수의 합은',first+second,'입니다')\n",
    "print('두 수의 합은{}'.format(first+second))# 문자로return하기 때문에 문자를 그냥 붙여버림"
   ]
  },
  {
   "cell_type": "code",
   "execution_count": null,
   "id": "c356c298-7a00-4c26-b522-43a815e3d288",
   "metadata": {},
   "outputs": [],
   "source": [
    "first = int(input('첫번째 숫자는?')) #int를 붙여서 숫자로 받음\n",
    "second = int(input('두번째 숫자는?')) "
   ]
  },
  {
   "cell_type": "code",
   "execution_count": null,
   "id": "c33eb350-c0dd-402a-90f9-fdf7a14f497b",
   "metadata": {},
   "outputs": [],
   "source": [
    "print('두 수의 합은{}'.format(first+second))"
   ]
  },
  {
   "cell_type": "code",
   "execution_count": null,
   "id": "cd6533ec-35f3-4d31-8b04-98b8aa37d385",
   "metadata": {},
   "outputs": [],
   "source": [
    "print('hello','world',sep = '~', end = '\\t') #end는 마지막에 붙여줌\n",
    "print('hello','python')"
   ]
  },
  {
   "cell_type": "markdown",
   "id": "a2e770bf-2608-4dd4-bdf9-365c06a8980a",
   "metadata": {},
   "source": [
    "# 3절 기본 자료형\n",
    "    - 숫자 -int, float, complex\n",
    "    - 문자 : str\n",
    "    - 논리 : bool (true or false 로 저장)\n",
    "    파이썬은 타입을 지칭하는 키워드가 없고, 변수 할당시 타입이 정해져ㅑ"
   ]
  },
  {
   "cell_type": "markdown",
   "id": "798ddf25-e18e-4115-b3f2-8942d8e48d52",
   "metadata": {},
   "source": [
    "## 3.1 숫자형"
   ]
  },
  {
   "cell_type": "code",
   "execution_count": null,
   "id": "0f93c4e0-e360-4c61-9f07-0952e519f870",
   "metadata": {},
   "outputs": [],
   "source": [
    "import sys\n",
    "print(sys.maxsize) #윈도우가 다루는 정수형 최대 수"
   ]
  },
  {
   "cell_type": "code",
   "execution_count": null,
   "id": "b89fd50d-5539-467b-8ebc-f5fbaff4a287",
   "metadata": {},
   "outputs": [],
   "source": [
    "a = sys.maxsize + 10\n",
    "print(\"값:{}/ 주소{}\".format(a,id(a)))\n",
    "print(type(a))"
   ]
  },
  {
   "cell_type": "code",
   "execution_count": null,
   "id": "5528a7d3-0779-4415-b3e8-4d0e6c995b76",
   "metadata": {},
   "outputs": [],
   "source": [
    "a = 1\n",
    "print(\"값:{}/ 주소{}\".format(a,id(a)))\n",
    "print(type(a))"
   ]
  },
  {
   "cell_type": "code",
   "execution_count": null,
   "id": "33fe9215-22d5-460b-a36d-33a250e5c992",
   "metadata": {},
   "outputs": [],
   "source": [
    "a = 3/2 #정수형/정수형 => 실수형(float)\n",
    "print(\"값:{}/ 주소{}\".format(a,id(a)))\n",
    "print(type(a))"
   ]
  },
  {
   "cell_type": "code",
   "execution_count": null,
   "id": "56c67688-3af8-451f-bbf4-1d1334bcf523",
   "metadata": {},
   "outputs": [],
   "source": [
    "a = int(3/2) #c언어 처럼 사용하고 싶으면 명시적 형변환\n",
    "print(\"값:{}/ 주소{}\".format(a,id(a)))\n",
    "print(type(a))"
   ]
  },
  {
   "cell_type": "code",
   "execution_count": null,
   "id": "4e37e096-4c14-4d2b-86f8-a8222d383e4f",
   "metadata": {},
   "outputs": [],
   "source": [
    "a = 3//2 #혹은 몫연산자\n",
    "print(\"값:{}/ 주소{}\".format(a,id(a)))\n",
    "print(type(a))"
   ]
  },
  {
   "cell_type": "code",
   "execution_count": null,
   "id": "1530e235-ac97-492e-b27a-3e0a1d3b5406",
   "metadata": {},
   "outputs": [],
   "source": [
    "f = 1.12e20 #1.12의 10의 20승\n",
    "print(f)\n",
    "f = 1.12e-20 # 1.12의 10의 -20승\n",
    "print(f)"
   ]
  },
  {
   "cell_type": "markdown",
   "id": "df2847a1-ff4c-413e-81b1-86e08c48f4cb",
   "metadata": {},
   "source": [
    "## 3.2 문자형"
   ]
  },
  {
   "cell_type": "code",
   "execution_count": null,
   "id": "6afc486d-4be4-477a-ae8b-da87e98af126",
   "metadata": {},
   "outputs": [],
   "source": [
    "name = \"홍길동'남'\"\n",
    "name = '홍길동\"님\"' #문자에 \" '를 넣고 싶을 때\n",
    "address = \"서울시 \\'금천구\\' \\\n",
    "가산디지털1로\"  #\\는 다음줄에 계속\n",
    "\n",
    "print(name,address)\n",
    "#\\는 다음줄에 계속"
   ]
  },
  {
   "cell_type": "code",
   "execution_count": null,
   "id": "80361989-c910-4292-bdd4-271d31700ae7",
   "metadata": {},
   "outputs": [],
   "source": [
    "text = \"안녕하세요\\n홍길동입니다\\n반갑습니다\"\n",
    "print(text)"
   ]
  },
  {
   "cell_type": "code",
   "execution_count": null,
   "id": "2f1175bc-68a3-4797-ab2f-1ee1aa8fbc5d",
   "metadata": {},
   "outputs": [],
   "source": [
    "text = \"\"\"안녕하세요\n",
    "홍길동입니다\n",
    "반갑습니다\n",
    "\"\"\"\n",
    "print(text)"
   ]
  },
  {
   "cell_type": "code",
   "execution_count": null,
   "id": "beb56324-bf22-4995-963c-0f1a25395a13",
   "metadata": {},
   "outputs": [],
   "source": [
    "#문자열 슬라이싱"
   ]
  },
  {
   "cell_type": "code",
   "execution_count": null,
   "id": "2002265b-091d-49be-bb60-620c0df09c18",
   "metadata": {},
   "outputs": [],
   "source": [
    "str_ = \"0123456789\"\n",
    "str_"
   ]
  },
  {
   "cell_type": "code",
   "execution_count": null,
   "id": "8b4e9950-0b65-4856-885f-f8b1688c96b9",
   "metadata": {},
   "outputs": [],
   "source": [
    "str_[0:3] #0번째부터 3번째 앞까지"
   ]
  },
  {
   "cell_type": "code",
   "execution_count": null,
   "id": "40052aeb-efaf-4791-8a22-6902d9c1d690",
   "metadata": {},
   "outputs": [],
   "source": [
    "str_[-1] #음수인덱스는 뒤에서 부터 첫번째 글짜"
   ]
  },
  {
   "cell_type": "code",
   "execution_count": null,
   "id": "04485153-cf13-45f9-aa53-4ebf8a80b0d4",
   "metadata": {},
   "outputs": [],
   "source": [
    "str_[-5:-1] #음수는 뒤에서 부터"
   ]
  },
  {
   "cell_type": "code",
   "execution_count": null,
   "id": "33ac791b-5355-44f8-ab8d-4ddae6231631",
   "metadata": {},
   "outputs": [],
   "source": [
    "str_[4:] #4번째부터 끝까지"
   ]
  },
  {
   "cell_type": "code",
   "execution_count": null,
   "id": "3c74df76-708b-4426-82d0-31451591fde8",
   "metadata": {},
   "outputs": [],
   "source": [
    "str_[:9]"
   ]
  },
  {
   "cell_type": "code",
   "execution_count": null,
   "id": "59d4e708-1c50-4e9f-b3df-2fcd28ccd679",
   "metadata": {},
   "outputs": [],
   "source": [
    "str_[:-3]"
   ]
  },
  {
   "cell_type": "code",
   "execution_count": null,
   "id": "6fd35aed-c184-43ed-b677-547cf6cc87a7",
   "metadata": {},
   "outputs": [],
   "source": [
    "str_[19]"
   ]
  },
  {
   "cell_type": "code",
   "execution_count": null,
   "id": "9e85fafa-45c1-49d1-a052-21ef0be9af9e",
   "metadata": {},
   "outputs": [],
   "source": [
    "str_[5:19] #슬라이싱 시에는 없는 인덱스도 끝까지 출력함"
   ]
  },
  {
   "cell_type": "code",
   "execution_count": null,
   "id": "a344d9df-b218-4984-9ec3-4ce96a56daf1",
   "metadata": {},
   "outputs": [],
   "source": [
    "# str_[from:to]\n",
    "print(str_[0:9:2])#0번째 부터 9번째 까지 2씩 인덱스 증가해서 출력해라\n",
    "print(str_[::2]) #처음부터 끝까지 2씩 인덱스증가해서 출력해라\n"
   ]
  },
  {
   "cell_type": "code",
   "execution_count": null,
   "id": "9a40439a-fb38-4229-8e45-7ccef2ed3822",
   "metadata": {},
   "outputs": [],
   "source": [
    "#끝부터 처음까지 거꾸로 뿌려라\n",
    "str_[::-1]"
   ]
  },
  {
   "cell_type": "code",
   "execution_count": null,
   "id": "4782b264-eb49-4166-9a2e-ce85eeb3d1d3",
   "metadata": {},
   "outputs": [],
   "source": [
    "str_[9:1:-2]"
   ]
  },
  {
   "cell_type": "markdown",
   "id": "beeb0aee-1c76-4007-b6a1-81f56595ba53",
   "metadata": {},
   "source": [
    "## 3.3 논리형(True, False) 대문자에 유의"
   ]
  },
  {
   "cell_type": "code",
   "execution_count": null,
   "id": "1cd2e8be-b041-40e1-8d5c-5f70add762da",
   "metadata": {},
   "outputs": [],
   "source": [
    "a = True\n",
    "print(a)\n",
    "print(type(a))\n",
    "print(isinstance(a,bool)) #a가 bool형이냐?"
   ]
  },
  {
   "cell_type": "code",
   "execution_count": null,
   "id": "d9fcf77e-d20b-4f9c-a44e-b141c222c375",
   "metadata": {},
   "outputs": [],
   "source": [
    "#False로 간주하는 것 : 0, None, \"\",''(빈스트링), [], (), {}, \n",
    "#True로 간주하는 것 : 위를 제외한 나머지와 ,\" \"(space), '\\0' "
   ]
  },
  {
   "cell_type": "code",
   "execution_count": null,
   "id": "c67f541b-d453-4b4e-a3b0-9399f59034e5",
   "metadata": {},
   "outputs": [],
   "source": [
    "if 0+0j:\n",
    "    print('True')\n",
    "else:\n",
    "    print('Flase')"
   ]
  },
  {
   "cell_type": "code",
   "execution_count": null,
   "id": "80108b17-81e9-4369-997b-4d41b34a58ff",
   "metadata": {},
   "outputs": [],
   "source": [
    "if \"\":\n",
    "    print('True')\n",
    "else:\n",
    "    print('Flase')"
   ]
  },
  {
   "cell_type": "code",
   "execution_count": null,
   "id": "fc7f6b75-fd4a-4fa4-9c51-a23763e377a8",
   "metadata": {},
   "outputs": [],
   "source": [
    "if ' ':\n",
    "    print('True')\n",
    "else:\n",
    "    print('Flase')"
   ]
  },
  {
   "cell_type": "markdown",
   "id": "43f60f65-a326-4029-b754-b29771488588",
   "metadata": {},
   "source": [
    "## 3.4 자료형 확인 및 반환\n",
    "    - type() : 자료형 확인\r",
    "    \n",
    "- int() : 정수형 변환    \r\n",
    "- float() : 실수형 변    환\r\n",
    "- str() : 문자형     변환\r\n",
    "- bool() : 논리형 변환"
   ]
  },
  {
   "cell_type": "code",
   "execution_count": null,
   "id": "a6afb6d3-329b-4be5-9fa5-66f617575da6",
   "metadata": {},
   "outputs": [],
   "source": [
    "int(' ')"
   ]
  },
  {
   "cell_type": "code",
   "execution_count": null,
   "id": "08d4d98e-5d34-4797-9c57-38ecd0b674fd",
   "metadata": {},
   "outputs": [],
   "source": [
    "int ('2,000')"
   ]
  },
  {
   "cell_type": "code",
   "execution_count": null,
   "id": "7475066f-2ec8-404b-98b5-0ab9ee3e5c08",
   "metadata": {},
   "outputs": [],
   "source": [
    "float(True)"
   ]
  },
  {
   "cell_type": "markdown",
   "id": "6e5e4ce7-168b-4fc1-b618-42dd0d83251b",
   "metadata": {},
   "source": [
    "# 4절 포맷팅"
   ]
  },
  {
   "cell_type": "code",
   "execution_count": null,
   "id": "e35626ca-5219-48d7-95d0-642644e8eac4",
   "metadata": {},
   "outputs": [],
   "source": [
    "name = \"홍길동\"\n",
    "add = \"서울시 금천구\"\n",
    "print(\"이름은 {0}, 주소는 {1}\" .format(name,add))#인덱스와 순서결정에 따라 출력 순서를 바꿀 수 있음"
   ]
  },
  {
   "cell_type": "code",
   "execution_count": null,
   "id": "e918a3e9-693a-436f-b575-f0c1c10fdf87",
   "metadata": {},
   "outputs": [],
   "source": [
    "print(\"이름은 %s, 주소는 %s\"%(name,add))#옛날방식"
   ]
  },
  {
   "cell_type": "code",
   "execution_count": null,
   "id": "e7f33c76-be0a-40e8-9a49-bf0c40a55d11",
   "metadata": {},
   "outputs": [],
   "source": [
    "print(f\"이름은 {name},주소는 {add}\")"
   ]
  },
  {
   "cell_type": "markdown",
   "id": "0f1ea3eb-bb08-42e8-b87e-96953f1c7460",
   "metadata": {},
   "source": [
    "format()함수\n",
    "```\n",
    "- \"{[인덱스]:[공백대체문자][정렬방법][자릿수][타입]}\".format(변수명,...)\n",
    "-정렬방법 : <(왼쪽정렬), >(오른쪽 정렬), ^(가운데 정렬)\n",
    "\n",
    "- 타입 : d(10진수), x(16진수), b(2진수), f(실수), s(문자)\n"
   ]
  },
  {
   "cell_type": "code",
   "execution_count": null,
   "id": "3f343930-947e-409d-ba2f-51d4cc900809",
   "metadata": {
    "scrolled": true
   },
   "outputs": [],
   "source": [
    "a = 10\n",
    "s = \"hello\"\n",
    "print(\"[{0:$>10d}],[{1:*<20}])\".format(a,s))"
   ]
  },
  {
   "cell_type": "markdown",
   "id": "7c20386e-86a5-44c6-af76-bdb777a8d8bf",
   "metadata": {},
   "source": [
    "# 5절 연산자\n",
    "## 5.1 산술연산자 : + - / * //(몫) %나머지 **(제곱)\n",
    "## 5.2 할당연산자 : = += -= /= *= %= ...\n",
    "## 5.3 논리연산자 : & | and or not ```(우선순위가 매우 높음)``` \n",
    "## 5.4 비트연산자 : & | ^(OR) ```(우선순위가 매우 높음)```"
   ]
  },
  {
   "cell_type": "code",
   "execution_count": null,
   "id": "963f63d7-989c-4228-889b-82d26bb6d22d",
   "metadata": {},
   "outputs": [],
   "source": [
    "print( (10>3) & (10>5) ) #연산자 앞 뒤에 True or False 다 싶으면 논리 연산"
   ]
  },
  {
   "cell_type": "code",
   "execution_count": null,
   "id": "02d12645-51d8-46e8-bf86-9646b8c3b8a4",
   "metadata": {},
   "outputs": [],
   "source": [
    "print(12 & 1) #비트연산 12: 1 1 0 0\n",
    "                    #   1: 0 0 0 1\n",
    "print(12 | 1)"
   ]
  },
  {
   "cell_type": "markdown",
   "id": "1b459c33-903a-465c-b121-6b319603f845",
   "metadata": {},
   "source": [
    "## 5.5  비교연산자 : > >= < <= == !="
   ]
  },
  {
   "cell_type": "code",
   "execution_count": null,
   "id": "b1f74359-6cf2-4a78-9db9-44047cf18730",
   "metadata": {},
   "outputs": [],
   "source": [
    "'아'<'하'"
   ]
  },
  {
   "cell_type": "code",
   "execution_count": null,
   "id": "616f8c22-ae42-4065-9ad3-588807fe1fc4",
   "metadata": {},
   "outputs": [],
   "source": [
    "'*'<'1' < 'A'< 'a' #특수문자<숫자<대문자<소문자 "
   ]
  },
  {
   "cell_type": "code",
   "execution_count": null,
   "id": "e6b0d084-bec5-44f1-969e-a94eb0343ae3",
   "metadata": {},
   "outputs": [],
   "source": [
    "score = 85\n",
    "80 <= score < 90 < 100 #C와 달리 연립해서 가능하다"
   ]
  },
  {
   "cell_type": "markdown",
   "id": "55809a37-1bd0-453a-a99e-e6d7f4a7c40f",
   "metadata": {},
   "source": [
    "\n",
    "# 6 문자열 다루기\n",
    "    -문자열 슬라이싱 : 문자변수에[from : to : step]\n",
    "    -len(문자열) : 문자갯수\n",
    "    -upper() : 대문자\n",
    "    -lower() : 소문자\n",
    "    -title() : 각 단어의 앞 글자만 대문자로\n",
    "    -capitalize() : 첫문자만 대문자로, 그외는 소문자\n",
    "    -count('찾을문자열') : 찾을 문자열이 몇개 들어있는지 갯수 반환\n",
    "    -find('찾을문자열') : 찾을 문자열을 왼쪽부터 시작하여 몇번째 인덱스에 있는지 index반환\n",
    "            ->찾을 문자열이 없을 시 0을 반환한다.\n",
    "    -rfind('찾을문자열') : 찾을 문자열을 오른쪽부터 시작하여 몇번째 인덱스에 있는지 index반환\n",
    "            ->찾을 문자열이 없을 시 0을 반환한다.\n",
    "    -starswitch(\"특정문자열\") : 특정문자열로 시작하는지 여부 T/F 변환\n",
    "    -endswitch('특정문자열') : 특정문자열로 끝나는지 여부 T/F 변환\n",
    "    -strip() : 좌우 공백제거\n",
    "    -lstrip() : 왼쪽 공백제거\n",
    "    -rstrip() : 오른쪽 공백제거\n",
    "    -isdigit() : 문자열 숫자 문자열인지 여부  T/F 반환\n",
    "    -islower() : 문자열 소문자인지 여부  T/F 반환\n",
    "    -isupper() : 문자열 대문자인지 여부  T/F 반환\n",
    "    -replace(oldStr, newStr) : oldStr을 newStr로 변경\n",
    "    "
   ]
  },
  {
   "cell_type": "code",
   "execution_count": null,
   "id": "01a9ad97-ea91-4870-8e5d-46bd9ad75c76",
   "metadata": {},
   "outputs": [],
   "source": [
    "# 문자열을 다룰수 있는 함수 목록\n",
    "dir(str)"
   ]
  },
  {
   "cell_type": "code",
   "execution_count": null,
   "id": "3b54a5f2-8774-4b0e-ad89-3f8b3f0ada0c",
   "metadata": {},
   "outputs": [],
   "source": [
    "temp = \"python is easy. Python is smart.\"\n",
    "#       1234567890123456789012345678901\n",
    "temp.upper(), len(temp) #문자를 쓰면 함수로 이용가능 -> 객체\n",
    "#주소를 따라접근하면 문자만 있는 것이 아니라 함수가 존재한다.\n"
   ]
  },
  {
   "cell_type": "code",
   "execution_count": null,
   "id": "6fdf0e93-51c4-4a59-a205-0f4940f98826",
   "metadata": {},
   "outputs": [],
   "source": [
    "temp.title()"
   ]
  },
  {
   "cell_type": "code",
   "execution_count": null,
   "id": "a9e64032-9dce-43d8-b392-c0bf76e5123f",
   "metadata": {},
   "outputs": [],
   "source": [
    "temp.capitalize()"
   ]
  },
  {
   "cell_type": "code",
   "execution_count": null,
   "id": "0a3f0411-4f5f-4b2b-867c-f8d1ca50f27e",
   "metadata": {},
   "outputs": [],
   "source": [
    "\n",
    "print(\"첫번째 글자 : {}, 마지막 글자: {}\" .format(temp[0],temp[]))"
   ]
  },
  {
   "cell_type": "code",
   "execution_count": null,
   "id": "d3b84508-9dcb-47bf-85ed-155bdba7dfb2",
   "metadata": {},
   "outputs": [],
   "source": [
    "temp.count(\"Python\")"
   ]
  },
  {
   "cell_type": "code",
   "execution_count": null,
   "id": "55aa3432-bb9d-4e63-8f82-91822abfd3ee",
   "metadata": {},
   "outputs": [],
   "source": [
    "temp.find(\"Python\")"
   ]
  },
  {
   "cell_type": "code",
   "execution_count": null,
   "id": "8b62d3f3-85e7-436a-8320-123a2a000d3b",
   "metadata": {},
   "outputs": [],
   "source": [
    "temp.rfind(\"Python\")"
   ]
  },
  {
   "cell_type": "code",
   "execution_count": null,
   "id": "e0bc47be-19ba-4c34-aa85-881189bb8951",
   "metadata": {},
   "outputs": [],
   "source": [
    "print(temp.replace(\"Python\",\" \"))"
   ]
  },
  {
   "cell_type": "code",
   "execution_count": null,
   "id": "7f53a426-8d93-4151-9d03-8fbb2c0c3fed",
   "metadata": {},
   "outputs": [],
   "source": [
    "temp = \"python is easy. Python is smart.\"\n",
    "print(\"startswith() :\", temp.startswith(\"py\"))\n"
   ]
  },
  {
   "cell_type": "code",
   "execution_count": null,
   "id": "1b1e53c4-20c6-4f5b-b6d4-54c88dd906c7",
   "metadata": {},
   "outputs": [],
   "source": [
    "temp = \"              Python            \"\n",
    "print(\"temp : [{}]\".format(temp))\n",
    "print(\"strip : [{}]\".format(temp.strip()))\n",
    "print(\"lstrip: [{}]\".format(temp.lstrip()))\n",
    "print(\"rstrip : [{}]\".format(temp.rstrip()))\n"
   ]
  },
  {
   "cell_type": "code",
   "execution_count": null,
   "id": "610cd195-6167-41ee-9fb0-aee4c78036df",
   "metadata": {},
   "outputs": [],
   "source": [
    "temp = \"python is easy. Python is smart.\"\n",
    "print('space단위로 분리하여 list로 반환 :', temp.split())"
   ]
  },
  {
   "cell_type": "code",
   "execution_count": null,
   "id": "9d1af388-d887-4642-9e09-fe6e9c625bae",
   "metadata": {},
   "outputs": [],
   "source": [
    "temp = \"2024-05-30\"\n",
    "print('년월일 분리 : ', temp.split(\"-\"))"
   ]
  },
  {
   "cell_type": "code",
   "execution_count": null,
   "id": "7a85259b-f485-4f3d-adfb-a3221003b48f",
   "metadata": {},
   "outputs": [],
   "source": [
    "temp_list = temp.split('-')\n",
    "temp_join = '~'.join(temp_list)\n",
    "print('년월일 분리 : ', temp_list)\n",
    "print('년월일 분리 : ', temp_join)"
   ]
  },
  {
   "cell_type": "markdown",
   "id": "88583635-ab99-4728-9658-2bac039bd4c0",
   "metadata": {},
   "source": [
    "# 7절 날짜 다루기\n",
    "## 7.1 날짜\n"
   ]
  },
  {
   "cell_type": "code",
   "execution_count": null,
   "id": "99dea859-1c29-4090-b58e-202acf910573",
   "metadata": {},
   "outputs": [],
   "source": [
    "from datetime import date # datetime 파일 안에 date라는 함수만 가져와라\n",
    "someday = date(2024, 5, 30)\n",
    "someday\n",
    "\n"
   ]
  },
  {
   "cell_type": "code",
   "execution_count": null,
   "id": "369735e1-afa3-43e5-bbe2-a05d24ccb4ff",
   "metadata": {},
   "outputs": [],
   "source": [
    "print(\"{}\".format(someday))"
   ]
  },
  {
   "cell_type": "code",
   "execution_count": null,
   "id": "205b3882-2f79-4393-88ec-2ef0889c8881",
   "metadata": {},
   "outputs": [],
   "source": [
    "print(\"{:%Y년%m월%d일 %H시 %M분}\".format(someday))"
   ]
  },
  {
   "cell_type": "markdown",
   "id": "46478575-2613-4bca-9ed0-6be0e0b534fa",
   "metadata": {},
   "source": [
    "## 7.2 시간\n"
   ]
  },
  {
   "cell_type": "code",
   "execution_count": null,
   "id": "382f8491-0831-4c13-ab93-7cf05fcac8eb",
   "metadata": {},
   "outputs": [],
   "source": [
    "from datetime import datetime\n",
    "now = datetime.today()\n",
    "print(\"{:%Y년%m월%d일 %H시 %M분}\".format(now))"
   ]
  },
  {
   "cell_type": "markdown",
   "id": "698a5082-8527-4dd7-81e9-9eff06f74c32",
   "metadata": {},
   "source": [
    "# 8 연습문제"
   ]
  },
  {
   "cell_type": "code",
   "execution_count": 5,
   "id": "30f770b4-206c-4439-8f3d-11f96f76540d",
   "metadata": {},
   "outputs": [
    {
     "ename": "SyntaxError",
     "evalue": "unterminated string literal (detected at line 3) (282630700.py, line 3)",
     "output_type": "error",
     "traceback": [
      "\u001b[1;36m  Cell \u001b[1;32mIn[5], line 3\u001b[1;36m\u001b[0m\n\u001b[1;33m    print(\"{0}님의 나이는 {1}살 입니다\".foramt(first, second))\"\u001b[0m\n\u001b[1;37m                                                     ^\u001b[0m\n\u001b[1;31mSyntaxError\u001b[0m\u001b[1;31m:\u001b[0m unterminated string literal (detected at line 3)\n"
     ]
    }
   ],
   "source": [
    "\n",
    "first = input(\"나이를 입력하시오\")\n",
    "second = input(\"두번째 나이를 입력하시오\")\n",
    "print(\"{0}님의 나이는 {1}살 입니다\".foramt(first, second))\"\n"
   ]
  },
  {
   "cell_type": "code",
   "execution_count": 11,
   "id": "b124ae73-584c-4df9-82c6-a9c9e1b902d2",
   "metadata": {},
   "outputs": [
    {
     "name": "stdin",
     "output_type": "stream",
     "text": [
      "첫번째 정수를 입력하시오 1\n",
      "두번째 정수를 입력하시오 2\n"
     ]
    },
    {
     "ename": "TypeError",
     "evalue": "unsupported operand type(s) for +: 'int' and 'str'",
     "output_type": "error",
     "traceback": [
      "\u001b[1;31m---------------------------------------------------------------------------\u001b[0m",
      "\u001b[1;31mTypeError\u001b[0m                                 Traceback (most recent call last)",
      "Cell \u001b[1;32mIn[11], line 3\u001b[0m\n\u001b[0;32m      1\u001b[0m i \u001b[38;5;241m=\u001b[39m \u001b[38;5;28mint\u001b[39m (\u001b[38;5;28minput\u001b[39m(\u001b[38;5;124m\"\u001b[39m\u001b[38;5;124m첫번째 정수를 입력하시오\u001b[39m\u001b[38;5;124m\"\u001b[39m))\n\u001b[0;32m      2\u001b[0m j \u001b[38;5;241m=\u001b[39m \u001b[38;5;28minput\u001b[39m((\u001b[38;5;124m\"\u001b[39m\u001b[38;5;124m두번째 정수를 입력하시오\u001b[39m\u001b[38;5;124m\"\u001b[39m))\n\u001b[1;32m----> 3\u001b[0m \u001b[38;5;28mprint\u001b[39m(\u001b[38;5;124m\"\u001b[39m\u001b[38;5;132;01m{}\u001b[39;00m\u001b[38;5;130;01m\\t\u001b[39;00m\u001b[38;5;132;01m{}\u001b[39;00m\u001b[38;5;130;01m\\t\u001b[39;00m\u001b[38;5;132;01m{}\u001b[39;00m\u001b[38;5;130;01m\\t\u001b[39;00m\u001b[38;5;132;01m{}\u001b[39;00m\u001b[38;5;130;01m\\t\u001b[39;00m\u001b[38;5;124m\"\u001b[39m\u001b[38;5;241m.\u001b[39mformat(i\u001b[38;5;241m+\u001b[39mj))\n",
      "\u001b[1;31mTypeError\u001b[0m: unsupported operand type(s) for +: 'int' and 'str'"
     ]
    }
   ],
   "source": [
    " i = int (input(\"첫번째 정수를 입력하시오\"))\n",
    " j = int (input(\"두번째 정수를 입력하시오\"))\n",
    "print(\"{}\\t{}\\t{}\\t{}\\t\".format(i+j))\n"
   ]
  },
  {
   "cell_type": "code",
   "execution_count": null,
   "id": "dd8d72ba-a82e-4c79-afb6-d1c39723e327",
   "metadata": {},
   "outputs": [],
   "source": []
  },
  {
   "cell_type": "code",
   "execution_count": null,
   "id": "1b080268-d103-41ee-bbb1-0787cf3a2c99",
   "metadata": {},
   "outputs": [],
   "source": []
  }
 ],
 "metadata": {
  "kernelspec": {
   "display_name": "Python 3 (ipykernel)",
   "language": "python",
   "name": "python3"
  },
  "language_info": {
   "codemirror_mode": {
    "name": "ipython",
    "version": 3
   },
   "file_extension": ".py",
   "mimetype": "text/x-python",
   "name": "python",
   "nbconvert_exporter": "python",
   "pygments_lexer": "ipython3",
   "version": "3.12.3"
  }
 },
 "nbformat": 4,
 "nbformat_minor": 5
}
