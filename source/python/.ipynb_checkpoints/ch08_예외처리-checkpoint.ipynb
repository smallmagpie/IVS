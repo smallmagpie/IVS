{
 "cells": [
  {
   "cell_type": "markdown",
   "id": "8f4f022e-5158-46c1-ac2b-6109f336df98",
   "metadata": {},
   "source": [
    "ch08 예외처리"
   ]
  },
  {
   "cell_type": "markdown",
   "id": "8a9ee0f6-799f-416f-9006-4e5198f7ea4b",
   "metadata": {},
   "source": [
    "에러 종류\n",
    "1. 논리에러 : 코드 문법 \n",
    "2. 시스템에러 : 시스템(OS)자체 에러\n",
    "3. 예외사항 : 프로그램 실행 중 발생하는 예기치 않은 사건   "
   ]
  },
  {
   "cell_type": "markdown",
   "id": "a9644875-8320-4fec-850a-a8fb6a081ff0",
   "metadata": {},
   "source": [
    "# 1. 예외처리\n",
    "-예외가 날 가능성이 있는 부분을 미리 예상하고 그에 대한 처리를 프로그래밍하는 것 -> 안정적으로 실행될 수 있도록 하기 위함)"
   ]
  },
  {
   "cell_type": "code",
   "execution_count": 6,
   "id": "fd17c680-e212-4ab1-b254-b586f0f5292c",
   "metadata": {},
   "outputs": [
    {
     "name": "stdin",
     "output_type": "stream",
     "text": [
      "파일명? ch08.txt\n"
     ]
    },
    {
     "ename": "TypeError",
     "evalue": "bad operand type for unary +: 'str'",
     "output_type": "error",
     "traceback": [
      "\u001b[1;31m---------------------------------------------------------------------------\u001b[0m",
      "\u001b[1;31mTypeError\u001b[0m                                 Traceback (most recent call last)",
      "Cell \u001b[1;32mIn[6], line 3\u001b[0m\n\u001b[0;32m      1\u001b[0m \u001b[38;5;66;03m#있는 파일의 경우 예외 발생 안함\u001b[39;00m\n\u001b[0;32m      2\u001b[0m filename \u001b[38;5;241m=\u001b[39m \u001b[38;5;28minput\u001b[39m(\u001b[38;5;124m'\u001b[39m\u001b[38;5;124m파일명?\u001b[39m\u001b[38;5;124m'\u001b[39m)\n\u001b[1;32m----> 3\u001b[0m f \u001b[38;5;241m=\u001b[39m \u001b[38;5;28mopen\u001b[39m(\u001b[38;5;124m'\u001b[39m\u001b[38;5;124mdata\u001b[39m\u001b[38;5;124m'\u001b[39m\u001b[38;5;241m/\u001b[39m\u001b[38;5;241m+\u001b[39mfilename,\u001b[38;5;124m'\u001b[39m\u001b[38;5;124mr\u001b[39m\u001b[38;5;124m'\u001b[39m,encoding\u001b[38;5;241m=\u001b[39m\u001b[38;5;124m'\u001b[39m\u001b[38;5;124mutf08\u001b[39m\u001b[38;5;124m'\u001b[39m) \u001b[38;5;66;03m#인코딩 디폴트값은 cp949\u001b[39;00m\n\u001b[0;32m      4\u001b[0m f\u001b[38;5;241m.\u001b[39mreadlines()\n",
      "\u001b[1;31mTypeError\u001b[0m: bad operand type for unary +: 'str'"
     ]
    }
   ],
   "source": [
    "#있는 파일의 경우 예외 발생 안함\n",
    "filename = input('파일명?')\n",
    "f = open('data'/ +filename,'r',encoding='utf08') #인코딩 디폴트값은 cp949\n",
    "f.readlines()"
   ]
  },
  {
   "cell_type": "code",
   "execution_count": 5,
   "id": "76b52d53-588f-4096-8fe9-95ad09a439a2",
   "metadata": {},
   "outputs": [
    {
     "ename": "NameError",
     "evalue": "name 'f' is not defined",
     "output_type": "error",
     "traceback": [
      "\u001b[1;31m---------------------------------------------------------------------------\u001b[0m",
      "\u001b[1;31mNameError\u001b[0m                                 Traceback (most recent call last)",
      "Cell \u001b[1;32mIn[5], line 1\u001b[0m\n\u001b[1;32m----> 1\u001b[0m f\u001b[38;5;241m.\u001b[39mclose()\n",
      "\u001b[1;31mNameError\u001b[0m: name 'f' is not defined"
     ]
    }
   ],
   "source": [
    "f.close() #연 파일은 항상 close"
   ]
  },
  {
   "cell_type": "code",
   "execution_count": 8,
   "id": "7fde2b81-3eae-4dc2-b2f6-b01fc5e68251",
   "metadata": {},
   "outputs": [
    {
     "name": "stdin",
     "output_type": "stream",
     "text": [
      "나눌 숫자를 입력하세요 >> 0\n"
     ]
    },
    {
     "ename": "ZeroDivisionError",
     "evalue": "division by zero",
     "output_type": "error",
     "traceback": [
      "\u001b[1;31m---------------------------------------------------------------------------\u001b[0m",
      "\u001b[1;31mZeroDivisionError\u001b[0m                         Traceback (most recent call last)",
      "Cell \u001b[1;32mIn[8], line 4\u001b[0m\n\u001b[0;32m      1\u001b[0m \u001b[38;5;66;03m#ValueError 예외 객체 : 숫자가 아닌 문자를 입력했을 경우\u001b[39;00m\n\u001b[0;32m      2\u001b[0m \u001b[38;5;66;03m#ZeroDivisionError 예외 객체 :\u001b[39;00m\n\u001b[0;32m      3\u001b[0m num \u001b[38;5;241m=\u001b[39m \u001b[38;5;28mint\u001b[39m(\u001b[38;5;28minput\u001b[39m(\u001b[38;5;124m'\u001b[39m\u001b[38;5;124m나눌 숫자를 입력하세요 >>\u001b[39m\u001b[38;5;124m'\u001b[39m)) \n\u001b[1;32m----> 4\u001b[0m \u001b[38;5;241m100\u001b[39m\u001b[38;5;241m/\u001b[39mnum\n",
      "\u001b[1;31mZeroDivisionError\u001b[0m: division by zero"
     ]
    }
   ],
   "source": [
    "#ValueError 예외 객체 : 숫자가 아닌 문자를 입력했을 경우\n",
    "#ZeroDivisionError 예외 객체 :\n",
    "num = int(input('나눌 숫자를 입력하세요 >>')) \n",
    "100/num"
   ]
  },
  {
   "cell_type": "code",
   "execution_count": 9,
   "id": "1b3214cb-7711-48e9-9308-303296c2eaa6",
   "metadata": {},
   "outputs": [
    {
     "ename": "IndexError",
     "evalue": "list index out of range",
     "output_type": "error",
     "traceback": [
      "\u001b[1;31m---------------------------------------------------------------------------\u001b[0m",
      "\u001b[1;31mIndexError\u001b[0m                                Traceback (most recent call last)",
      "Cell \u001b[1;32mIn[9], line 3\u001b[0m\n\u001b[0;32m      1\u001b[0m \u001b[38;5;66;03m#인덱스를 벗어났을 경우\u001b[39;00m\n\u001b[0;32m      2\u001b[0m a \u001b[38;5;241m=\u001b[39m [\u001b[38;5;241m1\u001b[39m,\u001b[38;5;241m2\u001b[39m,\u001b[38;5;241m3\u001b[39m]\n\u001b[1;32m----> 3\u001b[0m a[\u001b[38;5;241m3\u001b[39m]\n",
      "\u001b[1;31mIndexError\u001b[0m: list index out of range"
     ]
    }
   ],
   "source": [
    "#인덱스를 벗어났을 경우 -> IndexError\n",
    "a = [1,2,3]\n",
    "a[3]\n"
   ]
  },
  {
   "cell_type": "markdown",
   "id": "d4c05e3f-7b3c-4463-bbad-a5db7861b9d4",
   "metadata": {},
   "source": [
    "# 2. try ~ except로 예외 처리\n",
    "```\n",
    "try : 예외 발생할 가능성이 있는 명령어들\n",
    "명령어 ....\n",
    "\n",
    "except [예외 타입 [as예외객체변수명]]  : 예외가 발생했을 경우 실행\n",
    "[else :\n",
    "    예외가 발생되지 않을 경우 수행] -> 잘 사용하지는 않음\n",
    "[finally:\n",
    "    예외가 발생되든 안되는 반드시 실행할 명령어]\n",
    "```"
   ]
  },
  {
   "cell_type": "code",
   "execution_count": 16,
   "id": "794e7313-5bf3-4b39-af8e-3fdfd3423ccb",
   "metadata": {},
   "outputs": [
    {
     "name": "stdin",
     "output_type": "stream",
     "text": [
      "100을 나눈 정수를 입력하세요 >> 1\n"
     ]
    },
    {
     "name": "stdout",
     "output_type": "stream",
     "text": [
      "입력한 수는 1\n",
      "100을 입력한 정수로 나누면 100.00입니다\n"
     ]
    }
   ],
   "source": [
    "#100을 입력받은 정수값으로 나눠 출력하는 프로그램\n",
    "# ValueError\n",
    "# ZeroDivision\n",
    "try:    \n",
    "    x = int(input('100을 나눈 정수를 입력하세요 >>'))\n",
    "    print(\"입력한 수는 {}\".format(x))        \n",
    "    print(\"100을 입력한 정수로 나누면 {:.2f}입니다\".format(100/x))\n",
    "except:\n",
    "    print(\"유효한 정수가 아닙니다.\")"
   ]
  },
  {
   "cell_type": "code",
   "execution_count": 21,
   "id": "d5cb855c-4344-40b1-92b9-1991e6e08b26",
   "metadata": {},
   "outputs": [
    {
     "name": "stdin",
     "output_type": "stream",
     "text": [
      "100을 나눈 정수를 입력하세요 >> ㅁ\n"
     ]
    },
    {
     "name": "stdout",
     "output_type": "stream",
     "text": [
      "0으로는 나눌 수 없습니다\n"
     ]
    }
   ],
   "source": [
    "#100을 입력받은 정수값으로 나눠 출력하는 프로그램\n",
    "# ValueError\n",
    "# ZeroDivision\n",
    "try:    \n",
    "    x = int(input('100을 나눈 정수를 입력하세요 >>'))\n",
    "    print(\"입력한 수는 {}\".format(x))        \n",
    "    print(\"100을 입력한 정수로 나누면 {:.2f}입니다\".format(100/x))\n",
    "except Exception: # ZeroDivisionErro: 의 상위 클래스 느낌의 에러\n",
    "    print(\"0으로는 나눌 수 없습니다\")\n",
    "except ValueError: # Value 에러 또한 상위 Exception 이기 때문에 문자를 입력해서 '0으로는 나눌 수 없습니다'출력\n",
    "                    #-> 최대한 상위 예외를 아래에 놔야 다양한 에러처리가 가능함 \n",
    "    print(\"유효한 숫자를 입력하세요\")\n"
   ]
  },
  {
   "cell_type": "code",
   "execution_count": null,
   "id": "5e9466d3-6e52-4aef-9ddb-c777753d8bcf",
   "metadata": {},
   "outputs": [],
   "source": [
    "#100을 입력받은 정수값으로 나눠 출력하는 프로그램\n",
    "# ValueError\n",
    "# ZeroDivision\n",
    "try:    \n",
    "    x = int(input('100을 나눈 정수를 입력하세요 >>'))\n",
    "    print(\"입력한 수는 {}\".format(x))        \n",
    "    print(\"100을 입력한 정수로 나누면 {:.2f}입니다\".format(100/x))\n",
    "except ValueError: \n",
    "    print(\"유효한 숫자를 입력하세요\")    \n",
    "except ZeroDivisionError: \n",
    "    print(\"0으로는 나눌 수 없습니다\")\n",
    "except Exception: # except절이 많을 수록 상위 클래스를 아래에 명시 \n",
    "    print(\"유효한 숫자를 입력하세요\")"
   ]
  },
  {
   "cell_type": "code",
   "execution_count": 22,
   "id": "27774849-8f30-4957-9314-62a60a092796",
   "metadata": {},
   "outputs": [
    {
     "name": "stdin",
     "output_type": "stream",
     "text": [
      "100을 나눈 정수를 입력하세요 >> a\n"
     ]
    },
    {
     "name": "stdout",
     "output_type": "stream",
     "text": [
      "유효한 숫자를 입력하세요\n"
     ]
    },
    {
     "name": "stdin",
     "output_type": "stream",
     "text": [
      "100을 나눈 정수를 입력하세요 >> 0\n"
     ]
    },
    {
     "name": "stdout",
     "output_type": "stream",
     "text": [
      "입력한 수는 0\n",
      "0으로는 나눌 수 없습니다\n"
     ]
    },
    {
     "name": "stdin",
     "output_type": "stream",
     "text": [
      "100을 나눈 정수를 입력하세요 >> 10\n"
     ]
    },
    {
     "name": "stdout",
     "output_type": "stream",
     "text": [
      "입력한 수는 10\n",
      "100을 입력한 정수로 나누면 10.00입니다\n"
     ]
    }
   ],
   "source": [
    "#100을 입력받은 정수값으로 나눠 출력하는 프로그램 + 유효한 숫자를 입력할 때까지 수를 입력받음\n",
    "\n",
    "while True:\n",
    "    try:    \n",
    "        x = int(input('100을 나눈 정수를 입력하세요 >>'))\n",
    "        print(\"입력한 수는 {}\".format(x))        \n",
    "        print(\"100을 입력한 정수로 나누면 {:.2f}입니다\".format(100/x))\n",
    "        break\n",
    "    except ValueError: \n",
    "        print(\"유효한 숫자를 입력하세요\")    \n",
    "    except ZeroDivisionError: \n",
    "        print(\"0으로는 나눌 수 없습니다\")\n",
    "    except Exception: # except절이 많을 수록 상위 클래스를 아래에 명시 \n",
    "        print(\"유효한 숫자를 입력하세요\")\n"
   ]
  },
  {
   "cell_type": "code",
   "execution_count": 24,
   "id": "e5536340-a61f-4855-a5a9-f2492be29b5f",
   "metadata": {},
   "outputs": [
    {
     "name": "stdin",
     "output_type": "stream",
     "text": [
      "100을 나눈 정수를 입력하세요 >> 0\n"
     ]
    },
    {
     "name": "stdout",
     "output_type": "stream",
     "text": [
      "입력한 수는 0\n",
      "division by zero\n",
      "예외 객체의 타입 : <class 'ZeroDivisionError'>\n",
      "예외 메세지 e.args : ('division by zero',)\n"
     ]
    },
    {
     "name": "stdin",
     "output_type": "stream",
     "text": [
      "100을 나눈 정수를 입력하세요 >> 2\n"
     ]
    },
    {
     "name": "stdout",
     "output_type": "stream",
     "text": [
      "입력한 수는 2\n",
      "100을 입력한 정수로 나누면 50.00입니다\n"
     ]
    }
   ],
   "source": [
    "while True:\n",
    "    try:    \n",
    "        x = int(input('100을 나눈 정수를 입력하세요 >>'))\n",
    "        print(\"입력한 수는 {}\".format(x))        \n",
    "        print(\"100을 입력한 정수로 나누면 {:.2f}입니다\".format(100/x))\n",
    "        break\n",
    "    except (ValueError,ZeroDivisionError) as e: #객체 타입 나열도 가능하다.\n",
    "        print(e) #print(e.__str__()) #예외 메세지를 보고 싶으면 print(e)\n",
    "        print('예외 객체의 타입 :',type(e))\n",
    "        print('예외 메세지 e.args :',e.args)"
   ]
  },
  {
   "cell_type": "code",
   "execution_count": null,
   "id": "9f9bfba3-ef86-4a3c-ab1c-c63fb1d5e93c",
   "metadata": {},
   "outputs": [],
   "source": [
    "try:\n",
    "    f = open('data/ch08.txt','r',encoding='utf-8')\n",
    "    data = f.read() #파일을 끝까지 텍스트 형태로 읽어서 반환하는 함수"
   ]
  }
 ],
 "metadata": {
  "kernelspec": {
   "display_name": "Python 3 (ipykernel)",
   "language": "python",
   "name": "python3"
  },
  "language_info": {
   "codemirror_mode": {
    "name": "ipython",
    "version": 3
   },
   "file_extension": ".py",
   "mimetype": "text/x-python",
   "name": "python",
   "nbconvert_exporter": "python",
   "pygments_lexer": "ipython3",
   "version": "3.12.3"
  }
 },
 "nbformat": 4,
 "nbformat_minor": 5
}
