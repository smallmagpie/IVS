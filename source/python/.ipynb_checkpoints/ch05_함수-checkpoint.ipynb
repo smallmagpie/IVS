{
 "cells": [
  {
   "cell_type": "markdown",
   "id": "4fbd9d80-753a-4f1b-8c53-ea2a0450fc6b",
   "metadata": {},
   "source": [
    "ch 5 함수\n",
    "- 반복해서 사용할 코드를 묶어서 구현해 놓은 것\n",
    "- 같은 이름의 함수는 덮어씀(오버로딩 불가능)\n",
    "- 함수 정의(구현)\n",
    "- ```\n",
    "    def 함수명([매개변수1,매개변수2,...]):\n",
    "        명령어1\n",
    "        명령어2\n",
    "        ...\n",
    "  ```"
   ]
  },
  {
   "cell_type": "markdown",
   "id": "b6decec6-d4e1-4049-b35a-036e51128ef4",
   "metadata": {},
   "source": [
    "# 1. 함수의 정의 및 사용 (호출)\n",
    "## 1.1 함수 정의"
   ]
  },
  {
   "cell_type": "code",
   "execution_count": 1,
   "id": "a8c9ef85-2673-432e-88c1-4d6e2c1c898d",
   "metadata": {},
   "outputs": [],
   "source": [
    "def my_hello(x,msg): #함수 정의\n",
    "    for i in range(x):\n",
    "        print(i,msg)"
   ]
  },
  {
   "cell_type": "code",
   "execution_count": 3,
   "id": "952911a2-4830-42bd-acd3-56cfee353129",
   "metadata": {},
   "outputs": [
    {
     "name": "stdout",
     "output_type": "stream",
     "text": [
      "0 쉬는시간입니다\n",
      "1 쉬는시간입니다\n",
      "2 쉬는시간입니다\n",
      "3 쉬는시간입니다\n"
     ]
    }
   ],
   "source": [
    "my_hello(4,\"쉬는시간입니다\")"
   ]
  },
  {
   "cell_type": "code",
   "execution_count": 4,
   "id": "082ee75e-93f4-4d7d-9ce7-8db264c70faa",
   "metadata": {},
   "outputs": [
    {
     "data": {
      "text/plain": [
       "function"
      ]
     },
     "execution_count": 4,
     "metadata": {},
     "output_type": "execute_result"
    }
   ],
   "source": [
    "type(my_hello)"
   ]
  },
  {
   "cell_type": "code",
   "execution_count": 5,
   "id": "7fbced18-1633-4b28-8ba1-7afc42f69bff",
   "metadata": {},
   "outputs": [
    {
     "data": {
      "text/plain": [
       "int"
      ]
     },
     "execution_count": 5,
     "metadata": {},
     "output_type": "execute_result"
    }
   ],
   "source": [
    "my_hello = 10\n",
    "type(my_hello)"
   ]
  },
  {
   "cell_type": "code",
   "execution_count": 7,
   "id": "a15980b3-e766-4f75-814d-68c37e11944e",
   "metadata": {},
   "outputs": [
    {
     "ename": "TypeError",
     "evalue": "'int' object is not callable",
     "output_type": "error",
     "traceback": [
      "\u001b[1;31m---------------------------------------------------------------------------\u001b[0m",
      "\u001b[1;31mTypeError\u001b[0m                                 Traceback (most recent call last)",
      "Cell \u001b[1;32mIn[7], line 1\u001b[0m\n\u001b[1;32m----> 1\u001b[0m my_hello(\u001b[38;5;241m4\u001b[39m,\u001b[38;5;124m\"\u001b[39m\u001b[38;5;124m\"\u001b[39m)\n",
      "\u001b[1;31mTypeError\u001b[0m: 'int' object is not callable"
     ]
    }
   ],
   "source": [
    "my_hello(4,\"\") #python에서 함수는 변수다."
   ]
  },
  {
   "cell_type": "code",
   "execution_count": 8,
   "id": "72794638-70fd-4b2e-9b75-2c3e2d1fae48",
   "metadata": {},
   "outputs": [],
   "source": [
    "def my_hello(x):\n",
    "    for i in range(x):\n",
    "        print(i,\"함수는 복습 필수\")"
   ]
  },
  {
   "cell_type": "code",
   "execution_count": 10,
   "id": "ed6bf0cf-a112-4dd7-8f32-474dfdd31aa0",
   "metadata": {},
   "outputs": [
    {
     "name": "stdout",
     "output_type": "stream",
     "text": [
      "0 함수는 복습 필수\n",
      "1 함수는 복습 필수\n",
      "2 함수는 복습 필수\n",
      "3 함수는 복습 필수\n"
     ]
    }
   ],
   "source": [
    "my_hello(4) #반드시 덮어쓴다. (오버로딩)"
   ]
  },
  {
   "cell_type": "code",
   "execution_count": 12,
   "id": "105b3b9c-83a7-4938-8651-c543aa41dd9c",
   "metadata": {},
   "outputs": [
    {
     "name": "stdout",
     "output_type": "stream",
     "text": [
      "1 2 3\n"
     ]
    }
   ],
   "source": [
    "print(\"1\",\"2\",\"3\") #하지만 같은 함수인 print는 왜 매개변수가 1, 2, 3..n개 일 때 모두 출력되는가 ?"
   ]
  },
  {
   "cell_type": "code",
   "execution_count": 15,
   "id": "6dec2dfa-f091-4aae-9774-d7da3b82c7ed",
   "metadata": {},
   "outputs": [
    {
     "name": "stdout",
     "output_type": "stream",
     "text": [
      "6\n",
      "3\n"
     ]
    }
   ],
   "source": [
    "def my_add(num1, num2, num3 = 0): # num3은 기본값을 갖는 인수 / default\n",
    "    return num1 + num2 + num3 \n",
    "print(my_add(1,2,3))\n",
    "print(my_add(1,2))"
   ]
  },
  {
   "cell_type": "code",
   "execution_count": 14,
   "id": "a04d2a9f-0b4e-49f6-bf56-34edabef1583",
   "metadata": {},
   "outputs": [
    {
     "ename": "SyntaxError",
     "evalue": "parameter without a default follows parameter with a default (1355680271.py, line 1)",
     "output_type": "error",
     "traceback": [
      "\u001b[1;36m  Cell \u001b[1;32mIn[14], line 1\u001b[1;36m\u001b[0m\n\u001b[1;33m    def my_add(num1, num2=0, num3): #\u001b[0m\n\u001b[1;37m                             ^\u001b[0m\n\u001b[1;31mSyntaxError\u001b[0m\u001b[1;31m:\u001b[0m parameter without a default follows parameter with a default\n"
     ]
    }
   ],
   "source": [
    "def my_add(num1, num2=0, num3): # num2 에 default\n",
    "    return num1 + num2 + num3 #기본 값을 갖지 않는 인수 => 순서인수 \n",
    "print(my_add(1,2,3)) #기본 값을 갖는 인수는 순서인수 뒤에 와야함 -> 에러 발생\n",
    "print(my_add(1,2))"
   ]
  },
  {
   "cell_type": "markdown",
   "id": "cd8f4f70-d764-42ef-95a2-45ce516161c8",
   "metadata": {},
   "source": [
    "## 1.2 docstring\n",
    "-함수 도움말 shift + tab"
   ]
  },
  {
   "cell_type": "code",
   "execution_count": 19,
   "id": "593d0808-e015-4325-9176-b86ad96c9bca",
   "metadata": {},
   "outputs": [],
   "source": [
    "def fibonacci(n):\n",
    "    '''\n",
    "    매개변수로 들어온 n값 미만의 피보나치 수열을 출력합니다.\n",
    "\n",
    "    ex.매개변수 10 : 0, 1, 1, 2, 3, 5, 8\n",
    "    ex.매개변수 5 : 0, 1, 1, 2, 3, 5\n",
    "    \n",
    "    \n",
    "\n",
    "    '''\n",
    "    a,b = 0,1 #(a,b) = (0,1)  내부적 튜플로 처리\n",
    "    while a<n:\n",
    "        print(a, end='.')\n",
    "        a,b = b, a+b\n",
    "    print() #개행"
   ]
  },
  {
   "cell_type": "code",
   "execution_count": 24,
   "id": "a9a6bf0d-300e-43fc-bf86-7d5d84c16f7c",
   "metadata": {},
   "outputs": [
    {
     "name": "stdout",
     "output_type": "stream",
     "text": [
      "0.1.1.2.3.5.8.13.21.34.55.89.144.233.377.610.987.1597.2584.4181.6765.10946.17711.28657.46368.75025.121393.196418.317811.514229.832040.1346269.2178309.3524578.5702887.9227465.14930352.24157817.39088169.63245986.102334155.165580141.267914296.433494437.701408733.1134903170.1836311903.2971215073.4807526976.7778742049.12586269025.20365011074.32951280099.53316291173.86267571272.139583862445.225851433717.365435296162.591286729879.956722026041.1548008755920.2504730781961.4052739537881.6557470319842.10610209857723.17167680177565.27777890035288.44945570212853.72723460248141.117669030460994.190392490709135.308061521170129.498454011879264.806515533049393.1304969544928657.2111485077978050.3416454622906707.5527939700884757.8944394323791464.14472334024676221.23416728348467685.37889062373143906.61305790721611591.99194853094755497.160500643816367088.259695496911122585.420196140727489673.679891637638612258.1100087778366101931.1779979416004714189.2880067194370816120.4660046610375530309.7540113804746346429.12200160415121876738.19740274219868223167.31940434634990099905.51680708854858323072.83621143489848422977.135301852344706746049.218922995834555169026.354224848179261915075.573147844013817084101.927372692193078999176.1500520536206896083277.2427893228399975082453.3928413764606871165730.6356306993006846248183.10284720757613717413913.16641027750620563662096.26925748508234281076009.43566776258854844738105.70492524767089125814114.114059301025943970552219.184551825793033096366333.298611126818977066918552.483162952612010163284885.781774079430987230203437.\n"
     ]
    }
   ],
   "source": [
    "fibonacci(1000000000000000000000000)"
   ]
  },
  {
   "cell_type": "code",
   "execution_count": 25,
   "id": "1d0a4b76-5621-458b-9d0a-612c37dcaa6e",
   "metadata": {},
   "outputs": [
    {
     "data": {
      "text/plain": [
       "function"
      ]
     },
     "execution_count": 25,
     "metadata": {},
     "output_type": "execute_result"
    }
   ],
   "source": [
    "type(fibonacci)"
   ]
  },
  {
   "cell_type": "code",
   "execution_count": 27,
   "id": "c9f5092d-2683-4627-bab0-b5a8de57493f",
   "metadata": {},
   "outputs": [
    {
     "data": {
      "text/plain": [
       "<function __main__.fibonacci(n)>"
      ]
     },
     "execution_count": 27,
     "metadata": {},
     "output_type": "execute_result"
    }
   ],
   "source": [
    "fibonacci #function 객체"
   ]
  },
  {
   "cell_type": "code",
   "execution_count": 30,
   "id": "cbc74a98-41ed-42c5-b9f1-8a6b3ad5876a",
   "metadata": {},
   "outputs": [
    {
     "name": "stdout",
     "output_type": "stream",
     "text": [
      "0.1.1.2.3.5.8.13.21.34.55.89.\n"
     ]
    }
   ],
   "source": [
    "if __name__=='__main__': #함수가 잘 만들어졌는지 확인하는 용도\n",
    "    fibonacci(100)"
   ]
  },
  {
   "cell_type": "code",
   "execution_count": 35,
   "id": "1d0f9cec-ab53-42bc-8091-1c7d05453ac2",
   "metadata": {},
   "outputs": [
    {
     "name": "stdout",
     "output_type": "stream",
     "text": [
      "0.1.1.2.3.5.8.13.21.34.55.89.\n"
     ]
    }
   ],
   "source": [
    "import fibonacci as fibo #같은 폴더에 fibonacci.py가 해석되서 메모리에 로드, 길면 줄일 수 있음\n",
    "fibonacci.fibonacci(100) "
   ]
  },
  {
   "cell_type": "markdown",
   "id": "a375c035-865b-4a9e-8c5e-1035a5d5875f",
   "metadata": {},
   "source": [
    "## 1.3 지역변수(local var)와 전역변수(global var)"
   ]
  },
  {
   "cell_type": "code",
   "execution_count": 37,
   "id": "23092beb-3ef4-4d09-9d42-738d056977dd",
   "metadata": {},
   "outputs": [
    {
     "name": "stdout",
     "output_type": "stream",
     "text": [
      "100\n",
      "100\n"
     ]
    }
   ],
   "source": [
    "global_var = 100 #전역변수, 커널을 끄기 전까지 셀 어디든지 사용가능\n",
    "def func1():\n",
    "    print(global_var)\n",
    "func1()\n",
    "print(global_var)"
   ]
  },
  {
   "cell_type": "code",
   "execution_count": 38,
   "id": "03008c78-f93f-400b-aaf0-ef12a135e6d6",
   "metadata": {},
   "outputs": [
    {
     "name": "stdout",
     "output_type": "stream",
     "text": [
      "100\n"
     ]
    }
   ],
   "source": [
    "#지역변수는 함수 안에서만 사용 가능, 벗어나면 사용할 수 없음\n",
    "def func2():\n",
    "    local_var = 100\n",
    "    print(local_var)\n",
    "func2()    "
   ]
  },
  {
   "cell_type": "code",
   "execution_count": 40,
   "id": "7cca35dd-ee84-4a51-b124-770cd8651cc1",
   "metadata": {},
   "outputs": [
    {
     "ename": "NameError",
     "evalue": "name 'local_var' is not defined",
     "output_type": "error",
     "traceback": [
      "\u001b[1;31m---------------------------------------------------------------------------\u001b[0m",
      "\u001b[1;31mNameError\u001b[0m                                 Traceback (most recent call last)",
      "Cell \u001b[1;32mIn[40], line 1\u001b[0m\n\u001b[1;32m----> 1\u001b[0m local_var\n",
      "\u001b[1;31mNameError\u001b[0m: name 'local_var' is not defined"
     ]
    }
   ],
   "source": [
    "local_var #지역변수를 함수 밖에서 호출하려해서 부를 수 없음"
   ]
  },
  {
   "cell_type": "code",
   "execution_count": 45,
   "id": "12dd9067-d51f-4aa7-a7c7-bb59bbeaceff",
   "metadata": {},
   "outputs": [
    {
     "name": "stdout",
     "output_type": "stream",
     "text": [
      "200\n"
     ]
    }
   ],
   "source": [
    "g_var = 100 #전역변수\n",
    "def func3():\n",
    "    \n",
    "    g_var = 200 #지역변수, 새로운 변수 \n",
    "    print(g_var)\n",
    "    \n",
    "func3()"
   ]
  },
  {
   "cell_type": "code",
   "execution_count": 46,
   "id": "0aaa7600-4346-4934-b694-1c6bd68f3d03",
   "metadata": {},
   "outputs": [
    {
     "name": "stdout",
     "output_type": "stream",
     "text": [
      "100\n"
     ]
    }
   ],
   "source": [
    "print(g_var)"
   ]
  },
  {
   "cell_type": "markdown",
   "id": "2b93d3ee-30ec-47a7-bae0-e783914f1413",
   "metadata": {},
   "source": [
    "## 1.4 Lexical 특성"
   ]
  },
  {
   "cell_type": "code",
   "execution_count": 47,
   "id": "f8cb5cb1-97d9-4328-9924-2628ffc296f0",
   "metadata": {},
   "outputs": [
    {
     "ename": "UnboundLocalError",
     "evalue": "cannot access local variable 'g_var' where it is not associated with a value",
     "output_type": "error",
     "traceback": [
      "\u001b[1;31m---------------------------------------------------------------------------\u001b[0m",
      "\u001b[1;31mUnboundLocalError\u001b[0m                         Traceback (most recent call last)",
      "Cell \u001b[1;32mIn[47], line 6\u001b[0m\n\u001b[0;32m      4\u001b[0m     g_var \u001b[38;5;241m=\u001b[39m \u001b[38;5;241m200\u001b[39m \u001b[38;5;66;03m#지역변수, 새로운 변수 \u001b[39;00m\n\u001b[0;32m      5\u001b[0m     \u001b[38;5;28mprint\u001b[39m(g_var)\n\u001b[1;32m----> 6\u001b[0m func3()\n",
      "Cell \u001b[1;32mIn[47], line 3\u001b[0m, in \u001b[0;36mfunc3\u001b[1;34m()\u001b[0m\n\u001b[0;32m      2\u001b[0m \u001b[38;5;28;01mdef\u001b[39;00m \u001b[38;5;21mfunc3\u001b[39m():\n\u001b[1;32m----> 3\u001b[0m     \u001b[38;5;28mprint\u001b[39m(g_var)\n\u001b[0;32m      4\u001b[0m     g_var \u001b[38;5;241m=\u001b[39m \u001b[38;5;241m200\u001b[39m \u001b[38;5;66;03m#지역변수, 새로운 변수 \u001b[39;00m\n\u001b[0;32m      5\u001b[0m     \u001b[38;5;28mprint\u001b[39m(g_var)\n",
      "\u001b[1;31mUnboundLocalError\u001b[0m: cannot access local variable 'g_var' where it is not associated with a value"
     ]
    }
   ],
   "source": [
    "g_var = 100 #전역변수\n",
    "def func3():\n",
    "    print(g_var) #컴파일러는 선언부를 먼저 컴파일한다.\n",
    "    g_var = 200 #지역변수, 새로운 변수 \n",
    "    print(g_var)\n",
    "func3()"
   ]
  },
  {
   "cell_type": "markdown",
   "id": "9823895e-634d-4d6d-a564-062d71f1bf45",
   "metadata": {},
   "source": [
    "## 1.5 전역변수 수정"
   ]
  },
  {
   "cell_type": "code",
   "execution_count": 55,
   "id": "e195f2b5-5492-482f-afd0-e93b9630f268",
   "metadata": {},
   "outputs": [
    {
     "name": "stdout",
     "output_type": "stream",
     "text": [
      "100\n",
      "200\n"
     ]
    }
   ],
   "source": [
    "#지역변수를 전역변수로 수정할 수 있음.\n",
    "g_var = 100\n",
    "def func3():\n",
    "    global g_var #함수내에서의 g_var 전역변수를 쓸거야\n",
    "    print(g_var) \n",
    "    g_var = 200 #전역변수의 값을 할당 \n",
    "    print(g_var)\n",
    "func3()"
   ]
  },
  {
   "cell_type": "code",
   "execution_count": 49,
   "id": "c668999c-efba-4f01-96ff-b0e5a8974f59",
   "metadata": {},
   "outputs": [
    {
     "data": {
      "text/plain": [
       "200"
      ]
     },
     "execution_count": 49,
     "metadata": {},
     "output_type": "execute_result"
    }
   ],
   "source": [
    "g_var"
   ]
  },
  {
   "cell_type": "markdown",
   "id": "e7458da8-1941-4a0e-a3f7-7bb90af388c6",
   "metadata": {},
   "source": [
    "## 1.6 값에 의한 호출 (call by value)\n",
    "-함수에 인수로 전달되는 변수가 스칼라 변수(숫자, 문자, 논리)일 경우"
   ]
  },
  {
   "cell_type": "code",
   "execution_count": 56,
   "id": "d8a4e037-3488-4ce3-9459-92c8c107af1f",
   "metadata": {},
   "outputs": [
    {
     "data": {
      "text/plain": [
       "1635264084896"
      ]
     },
     "execution_count": 56,
     "metadata": {},
     "output_type": "execute_result"
    }
   ],
   "source": [
    "foo = 'ab' #스칼라 변수\n",
    "id(foo)"
   ]
  },
  {
   "cell_type": "code",
   "execution_count": 58,
   "id": "e88dfaef-013d-4d91-93f0-1dc32e9e7c6d",
   "metadata": {},
   "outputs": [
    {
     "name": "stdout",
     "output_type": "stream",
     "text": [
      "Before : ab의 주소는 1635264084896\n",
      "After : ababab의 주소는 1635315700560\n",
      "함수 호출 foo : ab의 주소는 1635264084896\n"
     ]
    }
   ],
   "source": [
    "def func1(f):\n",
    "    print(\"Before : {}의 주소는 {}\".format(f,id(f)))\n",
    "    f *= 3 # 매개변수는 지역변수 / call by value가 되어 주소가 다름\n",
    "    print(\"After : {}의 주소는 {}\".format(f,id(f))) \n",
    "func1(foo)\n",
    "print(\"함수 호출 foo : {}의 주소는 {}\".format(foo, id(foo)))"
   ]
  },
  {
   "cell_type": "markdown",
   "id": "be9382b8-59c3-46ca-b556-c7b32b764666",
   "metadata": {},
   "source": [
    "## 1.7 참조에 의한 호출 (call by reference)\n",
    "-함수에 전달되는 인수가 리스트, 딕셔너리, 셋일 경우"
   ]
  },
  {
   "cell_type": "code",
   "execution_count": 59,
   "id": "881db664-ee09-4ce0-bdbe-08f25e912fbc",
   "metadata": {},
   "outputs": [
    {
     "name": "stdout",
     "output_type": "stream",
     "text": [
      "L의 내용은 [1, 2, 3], 주소는 1635325957504\n"
     ]
    }
   ],
   "source": [
    "L = [1,2,3]\n",
    "print(\"L의 내용은 {}, 주소는 {}\".format(L,id(L)))"
   ]
  },
  {
   "cell_type": "code",
   "execution_count": 60,
   "id": "096f9588-ce15-4c6b-a13d-d1b4c8e20b96",
   "metadata": {},
   "outputs": [
    {
     "name": "stdout",
     "output_type": "stream",
     "text": [
      "함수 내 before : L의 내용은 [1, 2, 3], 주소는 1635325957504\n",
      "함수 내 after : L의 내용은 [1, 2, 3, 4], 주소는 1635325957504\n",
      "L의 내용은 [1, 2, 3, 4], 주소는 1635325957504\n"
     ]
    }
   ],
   "source": [
    "def func2(f): #스칼라 변수가 아닐 경우 call by reference\n",
    "    print(\"함수 내 before : L의 내용은 {}, 주소는 {}\".format(L,id(L)))\n",
    "    f.append(4) \n",
    "    print(\"함수 내 after : L의 내용은 {}, 주소는 {}\".format(L,id(L)))\n",
    "    \n",
    "func2(L)\n",
    "print(\"L의 내용은 {}, 주소는 {}\".format(L,id(L)))"
   ]
  },
  {
   "cell_type": "markdown",
   "id": "81b64591-45a1-471e-9bb9-e845572fba37",
   "metadata": {},
   "source": [
    "# 2. 함수의 실행결과를 반환하는 return\n",
    "-여러 개의 값을 반환할 수 있다.(하나의 튜플로 반환)"
   ]
  },
  {
   "cell_type": "code",
   "execution_count": 61,
   "id": "ecd44382-940d-4eb6-b91a-dadad535940b",
   "metadata": {},
   "outputs": [],
   "source": [
    "# 여러값을 return\n",
    "def swap(a,b):\n",
    "    \"\"\"\n",
    "    함수설명~\n",
    "    \"\"\"\n",
    "    return b,a    "
   ]
  },
  {
   "cell_type": "code",
   "execution_count": 63,
   "id": "0d4f71dd-fa34-417f-86f4-abefa166a161",
   "metadata": {},
   "outputs": [
    {
     "name": "stdout",
     "output_type": "stream",
     "text": [
      "함수 실행 전 x = 5, y= 10\n",
      "함수 실행 후 x = 10, y= 5\n"
     ]
    }
   ],
   "source": [
    "x,y = 5,10\n",
    "print(\"함수 실행 전 x = {}, y= {}\".format(x,y))\n",
    "x,y = swap(x,y) # swap(x,y) => (10,5) 튜플로 반환이 됨\n",
    "print(\"함수 실행 후 x = {}, y= {}\".format(x,y))"
   ]
  },
  {
   "cell_type": "markdown",
   "id": "48a7cba5-25b6-4854-bd5f-4e955ff695a7",
   "metadata": {},
   "source": [
    "# 3. 함수의 매개변수 ★\n",
    "## 3.1 기본값을 갖는 매개변수"
   ]
  },
  {
   "cell_type": "code",
   "execution_count": 64,
   "id": "e6f68b3b-e1e4-4dac-854a-8c7ffd1899a2",
   "metadata": {},
   "outputs": [],
   "source": [
    "def make_url(ip,port=80): #순서인수 > 기본값을 갖는 인수 순으로 (키워드인수 아님)\n",
    "    return \"http://{}:{}\".format(ip, port) #반드시 port = 식으로 해야 키워드 인수임"
   ]
  },
  {
   "cell_type": "code",
   "execution_count": 68,
   "id": "f89bd2e3-d54c-4e5f-9079-1a9498531b5b",
   "metadata": {},
   "outputs": [
    {
     "name": "stdout",
     "output_type": "stream",
     "text": [
      "http://localhost:80\n",
      "http://localhost:8090\n",
      "http://localhost:8090\n"
     ]
    }
   ],
   "source": [
    "print(make_url(\"localhost\"))\n",
    "print(make_url(\"localhost\",8090))\n",
    "print(make_url(port=8090,ip=\"localhost\"))"
   ]
  },
  {
   "cell_type": "markdown",
   "id": "16f45ceb-7ae7-40eb-94fe-a485ccec51f1",
   "metadata": {},
   "source": [
    "## 3.2 튜플 매개변수로 이용한 가변인수(인수갯수가 가변)설정"
   ]
  },
  {
   "cell_type": "code",
   "execution_count": 69,
   "id": "5e2efa0b-f392-428c-9fdc-b0bf602d75aa",
   "metadata": {},
   "outputs": [
    {
     "name": "stdout",
     "output_type": "stream",
     "text": [
      "Hello world\n"
     ]
    }
   ],
   "source": [
    "print('Hello','world') #인수의 갯수가 가변"
   ]
  },
  {
   "cell_type": "code",
   "execution_count": 78,
   "id": "23cc8bc2-06de-429c-a93b-9d285b148e8e",
   "metadata": {},
   "outputs": [],
   "source": [
    "# args 앞에 * : args가 튜플로 전달 \n",
    "def add(*args):\n",
    "    print(\"전달받은 args :\",args)\n",
    "    print(type(args))\n",
    "    sum = 0\n",
    "    for num in args:\n",
    "        sum += num;\n",
    "    return sum    "
   ]
  },
  {
   "cell_type": "code",
   "execution_count": 73,
   "id": "ce2545ff-f948-42d8-8560-f9b454f06c0e",
   "metadata": {},
   "outputs": [
    {
     "name": "stdout",
     "output_type": "stream",
     "text": [
      "전달받은 args : (1, 2, 3)\n",
      "<class 'tuple'>\n"
     ]
    }
   ],
   "source": [
    "add((1,2,3)) # *이 없으면 튜플을 붙여줘야함"
   ]
  },
  {
   "cell_type": "code",
   "execution_count": 84,
   "id": "04ff991f-8b85-415a-9c87-2fc68bcde77c",
   "metadata": {},
   "outputs": [
    {
     "name": "stdout",
     "output_type": "stream",
     "text": [
      "전달받은 args : (1, 2, 3, 4, 5, 6)\n",
      "<class 'tuple'>\n",
      "전달받은 args : (1, 2, 3, 4, 5)\n",
      "<class 'tuple'>\n",
      "전달받은 args : (1, 2, 3)\n",
      "<class 'tuple'>\n",
      "전달받은 args : (1,)\n",
      "<class 'tuple'>\n"
     ]
    },
    {
     "data": {
      "text/plain": [
       "1"
      ]
     },
     "execution_count": 84,
     "metadata": {},
     "output_type": "execute_result"
    }
   ],
   "source": [
    "add(1,2,3,4,5,6) # * 자동적으로 괄호가 생기면서 args를 튜플로 받는다. -> 가변 매개변수 가능\n",
    "add(1,2,3,4,5) \n",
    "add(1,2,3) \n",
    "add(1) #튜플로 인식하게 ,\n"
   ]
  },
  {
   "cell_type": "code",
   "execution_count": 87,
   "id": "a093ac54-7380-41d9-a210-6414cd089c73",
   "metadata": {},
   "outputs": [],
   "source": [
    "def concat(*args, sep):\n",
    "    return sep.join(args)"
   ]
  },
  {
   "cell_type": "code",
   "execution_count": null,
   "id": "1af12be0-0142-4503-9793-2cb3e7237225",
   "metadata": {},
   "outputs": [],
   "source": [
    "concat(\"C\",\"Python\",\"Oracle\",\"~\")\n",
    "# => C~Python~Oracle"
   ]
  },
  {
   "cell_type": "code",
   "execution_count": 88,
   "id": "379c28dd-c168-4e40-87d6-664419bf6ca2",
   "metadata": {},
   "outputs": [
    {
     "data": {
      "text/plain": [
       "'C~Python~Oracle'"
      ]
     },
     "execution_count": 88,
     "metadata": {},
     "output_type": "execute_result"
    }
   ],
   "source": [
    "# 해결책 1 (추천x)\n",
    "concat(\"C\",\"Python\",\"Oracle\",sep = \"~\") #print와 비슷한 "
   ]
  },
  {
   "cell_type": "code",
   "execution_count": 89,
   "id": "8976cfed-d651-469d-a7de-e488788f4afd",
   "metadata": {},
   "outputs": [],
   "source": [
    "#해결책 2 \n",
    "def concat(sep,*args): #순서인수 > 튜플인수 순서인수를 먼저 넣고 나면 나머지는 모두 튜플인수로 들어간다.\n",
    "    return sep.join(args)"
   ]
  },
  {
   "cell_type": "code",
   "execution_count": 91,
   "id": "6432831d-5f89-4fab-98bf-d5c16599d584",
   "metadata": {},
   "outputs": [
    {
     "data": {
      "text/plain": [
       "'C~Python~Oracle'"
      ]
     },
     "execution_count": 91,
     "metadata": {},
     "output_type": "execute_result"
    }
   ],
   "source": [
    "concat(\"~\",\"C\",\"Python\",\"Oracle\")\n",
    "# => C~Python~Oracle"
   ]
  },
  {
   "cell_type": "code",
   "execution_count": 94,
   "id": "ccfed110-e41d-4240-8cd5-989a7d9eb838",
   "metadata": {},
   "outputs": [],
   "source": [
    "#해결책 3 \n",
    "def concat(*args, sep='/'): #기본값을 갖는 키워드 인수 / 튜플 인수 앞에 쓰면 안됨\n",
    "    return sep.join(args)   # 순서 (중요) : 순서인수 > 튜플인수 > 키워드인수 (기본값을갖는매개변수) \n",
    "                            # 키워드인수란? 키워드로 sep=''로 넣지 않으면 오류 발생 => 키워드 인수"
   ]
  },
  {
   "cell_type": "code",
   "execution_count": 95,
   "id": "4ccb7d49-3335-40ed-955d-e34a9c811d1b",
   "metadata": {},
   "outputs": [
    {
     "data": {
      "text/plain": [
       "'C~Python~Oracle'"
      ]
     },
     "execution_count": 95,
     "metadata": {},
     "output_type": "execute_result"
    }
   ],
   "source": [
    "concat(\"C\",\"Python\",\"Oracle\",sep = \"~\") #키워드 인수\n",
    "\n",
    "# => C~Python~Oracleconcat"
   ]
  },
  {
   "cell_type": "markdown",
   "id": "f503925a-30ed-4540-82b2-62e47e3af313",
   "metadata": {},
   "source": [
    "## 3.3 딕셔너리 매개변수"
   ]
  },
  {
   "cell_type": "code",
   "execution_count": 100,
   "id": "661167e2-e5ff-485e-8f88-b3c5d51aa699",
   "metadata": {},
   "outputs": [
    {
     "name": "stdout",
     "output_type": "stream",
     "text": [
      "{'name': '홍길동', 'age': '20'}\n",
      "<class 'dict'>\n"
     ]
    }
   ],
   "source": [
    "def func(**args): # args 딕셔너리로 전달\n",
    "#    print(args)\n",
    "#    print(type(args))\n",
    "# dic = {\"name\":'홍길동',\"age\":\"20\"}\n",
    "func(name=\"홍길동\",age=\"20\") #키워드 인수와 비슷한 느낌   #자동으로 딕셔너리 처럼 바꿔준다."
   ]
  },
  {
   "cell_type": "code",
   "execution_count": 105,
   "id": "1a278bcc-1302-441b-b98f-18b5b799d07f",
   "metadata": {},
   "outputs": [],
   "source": [
    "def func(**args): # args 딕셔너리로 전달\n",
    "\n",
    "    for key,value in args.items():\n",
    "        print(\"{}:{}\".format(key,value))"
   ]
  },
  {
   "cell_type": "code",
   "execution_count": 106,
   "id": "ed479127-439f-40e7-903d-c2a0dd7e3952",
   "metadata": {},
   "outputs": [
    {
     "name": "stdout",
     "output_type": "stream",
     "text": [
      "gameName:서바이벌C\n",
      "year:2024\n",
      "price:30000\n"
     ]
    }
   ],
   "source": [
    "func(gameName = \"서바이벌C\",year=2024,price=30000)"
   ]
  },
  {
   "cell_type": "markdown",
   "id": "6dfe16f4-8d98-42cc-a316-e96201c7ab11",
   "metadata": {
    "jp-MarkdownHeadingCollapsed": true
   },
   "source": [
    "## 3.4 함수 정의시 매개변수의 순서\n",
    "-순서인수 > 튜플인수(*) > 키워드인수(기본값만 받는 인수가 아님/매개변수이름을 반드시 명시해야하는 인수)> 딕셔너리인수(**)"
   ]
  },
  {
   "cell_type": "code",
   "execution_count": 107,
   "id": "6830cc3a-dff9-4fb5-acdf-22bfc9855d79",
   "metadata": {},
   "outputs": [],
   "source": [
    "def func(a,b,c,*d,e = 10,**f):\n",
    "    print('a =',a)\n",
    "    print('b =',b)\n",
    "    print('c =',c)\n",
    "    print('d =',d)\n",
    "    print('e =',e)\n",
    "    print('f =',f)"
   ]
  },
  {
   "cell_type": "code",
   "execution_count": 108,
   "id": "d687c0c6-8884-4628-a5e7-d28cfc8fbbab",
   "metadata": {},
   "outputs": [
    {
     "name": "stdout",
     "output_type": "stream",
     "text": [
      "a = 10\n",
      "b = 20\n",
      "c = 30\n",
      "d = (1, 2, 3, 4, 5)\n",
      "e = 100\n",
      "f = {'height': 180, 'name': '홍길동', 'address': '서울시'}\n"
     ]
    }
   ],
   "source": [
    "func(10,20,30,1,2,3,4,5,e=100,height = 180,name='홍길동',address='서울시')"
   ]
  },
  {
   "cell_type": "markdown",
   "id": "8c01f7ac-8b5f-49f8-a710-cf5d12c11080",
   "metadata": {},
   "source": [
    "## 3.5 인수의 언패킹\n",
    "-튜플 인수 언패킹"
   ]
  },
  {
   "cell_type": "code",
   "execution_count": 118,
   "id": "46ac3e2e-69c1-4e0f-ac80-402a728440c6",
   "metadata": {},
   "outputs": [],
   "source": [
    "# args 앞에 * : args가 튜플로 전달 \n",
    "def add(*args):\n",
    "    print(\"전달받은 args :\",args)\n",
    "    print(type(args))\n",
    "    sum = 0\n",
    "    for num in args:\n",
    "        sum += num;\n",
    "    return sum    "
   ]
  },
  {
   "cell_type": "code",
   "execution_count": 120,
   "id": "6ece68c3-f04d-49b3-bc6a-12efd07fd2a8",
   "metadata": {},
   "outputs": [
    {
     "name": "stdout",
     "output_type": "stream",
     "text": [
      "전달받은 args : (1, 2, 3)\n",
      "<class 'tuple'>\n"
     ]
    },
    {
     "data": {
      "text/plain": [
       "6"
      ]
     },
     "execution_count": 120,
     "metadata": {},
     "output_type": "execute_result"
    }
   ],
   "source": [
    "add(1,2,3) #패킹"
   ]
  },
  {
   "cell_type": "code",
   "execution_count": 111,
   "id": "748a5bfa-ca3c-41d5-8b54-7da4725cdea8",
   "metadata": {},
   "outputs": [
    {
     "name": "stdout",
     "output_type": "stream",
     "text": [
      "전달받은 args : (1, 2, 3, 4, 5, 6)\n",
      "<class 'tuple'>\n"
     ]
    },
    {
     "data": {
      "text/plain": [
       "21"
      ]
     },
     "execution_count": 111,
     "metadata": {},
     "output_type": "execute_result"
    }
   ],
   "source": [
    "data = (1,2,3,4,5,6)\n",
    "#add(data) => add(((1,2,3))) 튜플이 두개 생김\n",
    "add(*data) # => add(1,2,3) 튜플변수의 언패킹\n"
   ]
  },
  {
   "cell_type": "markdown",
   "id": "85fecdeb-65f1-431e-954b-5a377f9c8ba3",
   "metadata": {},
   "source": [
    "## 3.6 딕셔너리 인수 언패킹"
   ]
  },
  {
   "cell_type": "code",
   "execution_count": 117,
   "id": "ab98d2a3-8b61-4a34-ac9f-50998b7aa04e",
   "metadata": {},
   "outputs": [],
   "source": [
    "def func(**args): # args 딕셔너리로 전달\n",
    "\n",
    "    for key,value in args.items():\n",
    "        print(\"{}:{}\".format(key,value))"
   ]
  },
  {
   "cell_type": "code",
   "execution_count": 119,
   "id": "d0158c50-7c27-4cb1-bee9-6d10cdb3675f",
   "metadata": {},
   "outputs": [
    {
     "name": "stdout",
     "output_type": "stream",
     "text": [
      "name:홍길동\n",
      "age:30\n"
     ]
    }
   ],
   "source": [
    "dic = {\"name\":\"홍길동\",\"age\":30}\n",
    "func(**dic) # func(dic) => 에러 발생 => 딕셔너리 인수 언패킹"
   ]
  },
  {
   "cell_type": "markdown",
   "id": "67be5724-472a-4b75-a8e4-8dfc9dbae3d5",
   "metadata": {},
   "source": [
    "# 4. 람다식\n",
    "- 람다식은 작은 익명함수를 의미함\n",
    "- 실행할 문장을 한문장만 작성할 수 있음\n",
    "- 리스트 컴프리헨션과 같이 참조해서 학습 추천\n",
    "- ex. map(), filter()에서 사용할 예정"
   ]
  },
  {
   "cell_type": "code",
   "execution_count": 121,
   "id": "2d84fa78-5f18-4c47-ab34-fda592a8e056",
   "metadata": {},
   "outputs": [
    {
     "data": {
      "text/plain": [
       "8"
      ]
     },
     "execution_count": 121,
     "metadata": {},
     "output_type": "execute_result"
    }
   ],
   "source": [
    "# 일반함수\n",
    "def add(a,b):\n",
    "    return a+b\n",
    "add(3,5)\n"
   ]
  },
  {
   "cell_type": "code",
   "execution_count": 122,
   "id": "913f8ecb-4e12-4613-b680-df7dab283eae",
   "metadata": {},
   "outputs": [
    {
     "data": {
      "text/plain": [
       "function"
      ]
     },
     "execution_count": 122,
     "metadata": {},
     "output_type": "execute_result"
    }
   ],
   "source": [
    "type(add)"
   ]
  },
  {
   "cell_type": "code",
   "execution_count": 123,
   "id": "6648ec52-8f28-404e-a1fa-4f35f71a4f77",
   "metadata": {},
   "outputs": [],
   "source": [
    "# 람다식\n",
    "add = lambda a,b : a + b #람다식을 나타내는 예약어 변수에 대입하려고 쓰는 용도가 아님"
   ]
  },
  {
   "cell_type": "code",
   "execution_count": 124,
   "id": "1a22e4c5-0cab-49e2-9043-91e0d17fe5f1",
   "metadata": {},
   "outputs": [
    {
     "data": {
      "text/plain": [
       "10"
      ]
     },
     "execution_count": 124,
     "metadata": {},
     "output_type": "execute_result"
    }
   ],
   "source": [
    "add(5,5)"
   ]
  },
  {
   "cell_type": "code",
   "execution_count": 125,
   "id": "23ec1795-fbb6-457d-a4d8-83f2c9fd26d3",
   "metadata": {},
   "outputs": [
    {
     "data": {
      "text/plain": [
       "function"
      ]
     },
     "execution_count": 125,
     "metadata": {},
     "output_type": "execute_result"
    }
   ],
   "source": [
    "type(add)"
   ]
  },
  {
   "cell_type": "code",
   "execution_count": 127,
   "id": "79471bd9-0ed6-4049-bd37-5d30528ef747",
   "metadata": {},
   "outputs": [
    {
     "data": {
      "text/plain": [
       "30"
      ]
     },
     "execution_count": 127,
     "metadata": {},
     "output_type": "execute_result"
    }
   ],
   "source": [
    "(lambda a,b : a * b)(5,6) #매개변수로 함수를 쓰기 위해 사용"
   ]
  },
  {
   "cell_type": "markdown",
   "id": "8d5ab121-7bee-4c3d-8bc2-b1c32e9348b1",
   "metadata": {},
   "source": [
    "## *매개변수로 람다식 이용"
   ]
  },
  {
   "cell_type": "code",
   "execution_count": 128,
   "id": "d29d282b-0c56-4971-8efc-ebd9a4f980f4",
   "metadata": {},
   "outputs": [
    {
     "data": {
      "text/plain": [
       "9"
      ]
     },
     "execution_count": 128,
     "metadata": {},
     "output_type": "execute_result"
    }
   ],
   "source": [
    "f = lambda x : x**2\n",
    "f(3) #테스트 하기위해 변수에 담음"
   ]
  },
  {
   "cell_type": "code",
   "execution_count": 130,
   "id": "464bd306-999d-4655-8eaf-6a172f0f31e1",
   "metadata": {},
   "outputs": [],
   "source": [
    "def map_template(func,L=[]): #순서인수 , 기본값을 갖는 인수(리스트)\n",
    "    result = []\n",
    "    for data in L:\n",
    "        result.append(func(data))\n",
    "    return result    "
   ]
  },
  {
   "cell_type": "code",
   "execution_count": 131,
   "id": "0c6a1010-8ca9-44f8-95f9-c3fe4c34ccee",
   "metadata": {},
   "outputs": [
    {
     "data": {
      "text/plain": [
       "[1, 4, 9, 16, 25]"
      ]
     },
     "execution_count": 131,
     "metadata": {},
     "output_type": "execute_result"
    }
   ],
   "source": [
    "list_data = [1,2,3,4,5]\n",
    "map_template(lambda x:x**2,list_data) # map_template(f,list_data)"
   ]
  },
  {
   "cell_type": "code",
   "execution_count": 134,
   "id": "d535c445-f0ea-4e36-94e8-0814bbfb6f0d",
   "metadata": {},
   "outputs": [
    {
     "data": {
      "text/plain": [
       "[1, 4, 9, 16, 25]"
      ]
     },
     "execution_count": 134,
     "metadata": {},
     "output_type": "execute_result"
    }
   ],
   "source": [
    "#map_template 와 비슷한 동작을 하는 함수 import 하지 않고도 사용할 수 있게 되있음 -> map\n",
    "# -> 데이터가 너무 많고 복잡할  시 이용\n",
    "list(map(lambda x:x**2,list_data))"
   ]
  },
  {
   "cell_type": "code",
   "execution_count": 138,
   "id": "4d67fdf5-d96a-4eb7-9bd6-2aaf272dda95",
   "metadata": {},
   "outputs": [
    {
     "data": {
      "text/plain": [
       "[1, 4, 9, 16, 25]"
      ]
     },
     "execution_count": 138,
     "metadata": {},
     "output_type": "execute_result"
    }
   ],
   "source": [
    "#리스트 컴프리헨션 ->  간단한 데이터에서 이용\n",
    "[x**2 for x in list_data]"
   ]
  },
  {
   "cell_type": "code",
   "execution_count": 137,
   "id": "7077b3f9-24f0-4d3d-9405-99d2ae47eca9",
   "metadata": {},
   "outputs": [],
   "source": [
    "list_data = [1,2,3,4,5]"
   ]
  },
  {
   "cell_type": "code",
   "execution_count": 139,
   "id": "a1158855-916a-4bd8-9ade-864ef460b12d",
   "metadata": {},
   "outputs": [],
   "source": [
    "#필터 함수 논리\n",
    "def filter_template(func,L = []):\n",
    "    result = []\n",
    "    for data in L:\n",
    "        if func(data):\n",
    "            result.append(data)\n",
    "    return result        "
   ]
  },
  {
   "cell_type": "code",
   "execution_count": 140,
   "id": "c684830f-7144-4d08-8cad-2b24f75edf09",
   "metadata": {},
   "outputs": [
    {
     "data": {
      "text/plain": [
       "[2, 4]"
      ]
     },
     "execution_count": 140,
     "metadata": {},
     "output_type": "execute_result"
    }
   ],
   "source": [
    "filter_template(lambda x:x%2==0,list_data)"
   ]
  },
  {
   "cell_type": "code",
   "execution_count": 141,
   "id": "d308b543-4ae8-4411-a8e7-19d8739c85ab",
   "metadata": {},
   "outputs": [
    {
     "data": {
      "text/plain": [
       "[2, 4]"
      ]
     },
     "execution_count": 141,
     "metadata": {},
     "output_type": "execute_result"
    }
   ],
   "source": [
    "list(filter(lambda x:x%2==0,list_data))"
   ]
  },
  {
   "cell_type": "code",
   "execution_count": 142,
   "id": "904a5cf9-ad71-41be-b057-f17b15b119cb",
   "metadata": {},
   "outputs": [
    {
     "data": {
      "text/plain": [
       "[2, 4]"
      ]
     },
     "execution_count": 142,
     "metadata": {},
     "output_type": "execute_result"
    }
   ],
   "source": [
    "# 리스트컴프리헨션 이용 -> 필터\n",
    "[x for x in list_data if x%2==0]"
   ]
  },
  {
   "cell_type": "markdown",
   "id": "bc3a80af-10b1-46c3-81e0-36434aeaae29",
   "metadata": {},
   "source": [
    "# 5. 파이썬 내장함수\n",
    "- print처럼 import없이 바로 즉시 사용 가능한 함수"
   ]
  },
  {
   "cell_type": "markdown",
   "id": "0551aea0-ac22-4bdb-8b43-9df084d60494",
   "metadata": {},
   "source": [
    "# 연습문제"
   ]
  },
  {
   "cell_type": "code",
   "execution_count": 144,
   "id": "ceadda9c-e103-45cc-a0a6-01a1e2015d69",
   "metadata": {},
   "outputs": [],
   "source": [
    "# 1. 함수의인자로리스트를받은후, 리스트내에있는모든정수값에대하여 최대값과 최소값을 return하는 함수 get_max_min(data_list)를 구현하고 호출하시오.\n"
   ]
  },
  {
   "cell_type": "code",
   "execution_count": 145,
   "id": "9a45e633-fe2e-44bf-993a-6cf6f3a7e975",
   "metadata": {},
   "outputs": [],
   "source": [
    "# 2. 1~45 사이의 로또번호 6개를 반환하는 make_lotto()함수를 정의하고 호출하시오.\n"
   ]
  },
  {
   "cell_type": "code",
   "execution_count": null,
   "id": "12dfdd5a-623b-499d-997f-3a3d0c84be1e",
   "metadata": {},
   "outputs": [],
   "source": [
    "3. 369 게임은 숫자에 3,6,9가 들어가면 박수를치고, 나머지는 숫자는 그대로 이야기하는 게임이다. 369 게임을 시뮬레이션 하는 함수를 정의하라.\n",
    " ```\n",
    " 1단계: game_369([1,2,3,4,5,6,7,8,9,13,20,33])- 결과: [1,2, ‘짝’, 4,5, ‘짝’,7,8, ‘짝’, ‘짝’, 20,‘짝짝’]\n",
    " 2단계: game_369(1,2,3,4,5,6,7,8,9,13,20,33) #튜플인수이용- 결과: [1,2, ‘짝’, 4,5, ‘짝’,7,8, ‘짝’, ‘짝’, 20,‘짝짝’] \n",
    " ```"
   ]
  }
 ],
 "metadata": {
  "kernelspec": {
   "display_name": "Python 3 (ipykernel)",
   "language": "python",
   "name": "python3"
  },
  "language_info": {
   "codemirror_mode": {
    "name": "ipython",
    "version": 3
   },
   "file_extension": ".py",
   "mimetype": "text/x-python",
   "name": "python",
   "nbconvert_exporter": "python",
   "pygments_lexer": "ipython3",
   "version": "3.12.3"
  }
 },
 "nbformat": 4,
 "nbformat_minor": 5
}
