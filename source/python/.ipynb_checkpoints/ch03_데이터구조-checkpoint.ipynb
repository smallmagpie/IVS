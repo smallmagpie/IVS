{
 "cells": [
  {
   "cell_type": "markdown",
   "id": "6d54958d-641b-4f68-b5a1-6787086bc5f2",
   "metadata": {},
   "source": [
    "ch03 데이터 구조\n",
    "\n",
    "- 리스트 [], 튜플 (), 딕셔너리{구조체와 유사}, 셋(집합)\n",
    "\n",
    "# 1. 리스트\n",
    "## 1.1 리스트 만들기\n",
    "    - [] 이용\n",
    "    - 인덱스 : 0부터 시작. -1은 맨 마지막 인덱스\n",
    "    - 슬라이싱 : [from:to:stop]을 이용해 추출"
   ]
  },
  {
   "cell_type": "code",
   "execution_count": 1,
   "id": "5089a175-8531-40e0-bee2-dd17d090d710",
   "metadata": {},
   "outputs": [
    {
     "data": {
      "text/plain": [
       "list"
      ]
     },
     "execution_count": 1,
     "metadata": {},
     "output_type": "execute_result"
    }
   ],
   "source": [
    "fruits = ['banana','apple','orange','grape',0]\n",
    "type(fruits)"
   ]
  },
  {
   "cell_type": "code",
   "execution_count": 2,
   "id": "ed5784d4-10d9-4ed1-8ff9-fa413f7db854",
   "metadata": {},
   "outputs": [
    {
     "name": "stdout",
     "output_type": "stream",
     "text": [
      "['banana', 'apple', 'orange', 'grape', 0]\n"
     ]
    }
   ],
   "source": [
    "print(fruits)"
   ]
  },
  {
   "cell_type": "code",
   "execution_count": 4,
   "id": "cc74e7f0-b28c-423b-98d8-a10d39996511",
   "metadata": {},
   "outputs": [
    {
     "name": "stdout",
     "output_type": "stream",
     "text": [
      "orange\n"
     ]
    }
   ],
   "source": [
    "print(fruits[2])"
   ]
  },
  {
   "cell_type": "code",
   "execution_count": 5,
   "id": "468653a7-6b1d-43d4-8f5c-cb5fd2b74f72",
   "metadata": {},
   "outputs": [
    {
     "name": "stdout",
     "output_type": "stream",
     "text": [
      "mango\n"
     ]
    }
   ],
   "source": [
    "fruits[1]= 'mango'\n",
    "print(fruits[1])"
   ]
  },
  {
   "cell_type": "code",
   "execution_count": 8,
   "id": "0164f0f8-515a-4231-94d0-073fbf0fd168",
   "metadata": {},
   "outputs": [
    {
     "name": "stdout",
     "output_type": "stream",
     "text": [
      "banana\n",
      "mango\n",
      "orange\n",
      "grape\n",
      "0\n"
     ]
    }
   ],
   "source": [
    "for fruit in fruits:\n",
    "    print(fruit) "
   ]
  },
  {
   "cell_type": "code",
   "execution_count": 12,
   "id": "af4ef83c-f0be-47be-a86c-dcea87ed3bea",
   "metadata": {},
   "outputs": [
    {
     "name": "stdout",
     "output_type": "stream",
     "text": [
      "0번째 과일은 banana\n",
      "1번째 과일은 mango\n",
      "2번째 과일은 orange\n",
      "3번째 과일은 grape\n",
      "4번째 과일은 0\n"
     ]
    }
   ],
   "source": [
    "#인덱스가 필요할 때\n",
    "for i in range(5): \n",
    "    print(\"{}번째 과일은 {}\".format(i,fruits[i]))\n",
    "#for문 안에 들어갈 때 range()는 자동으로 리스트로 작동한다.\n",
    "#range 자리에는 꼭 리스트 타입의 데이터가 와야한다.\n",
    "#index랑 데이터를 필요로 할 때 enumerate를 사용한다."
   ]
  },
  {
   "cell_type": "code",
   "execution_count": 11,
   "id": "12e0ccda-f97f-4f4e-b950-ab67dc40ac94",
   "metadata": {},
   "outputs": [
    {
     "data": {
      "text/plain": [
       "range(0, 5)"
      ]
     },
     "execution_count": 11,
     "metadata": {},
     "output_type": "execute_result"
    }
   ],
   "source": [
    "range(5)"
   ]
  },
  {
   "cell_type": "code",
   "execution_count": 13,
   "id": "05876fa4-7475-451c-b258-e183e0de2a17",
   "metadata": {},
   "outputs": [
    {
     "data": {
      "text/plain": [
       "[0, 1, 2, 3, 4]"
      ]
     },
     "execution_count": 13,
     "metadata": {},
     "output_type": "execute_result"
    }
   ],
   "source": [
    "list(range(len(fruits)))"
   ]
  },
  {
   "cell_type": "code",
   "execution_count": 15,
   "id": "90a84912-1ce5-48f9-b89b-638e682dd8e6",
   "metadata": {},
   "outputs": [
    {
     "data": {
      "text/plain": [
       "5"
      ]
     },
     "execution_count": 15,
     "metadata": {},
     "output_type": "execute_result"
    }
   ],
   "source": [
    "len(fruits) # lits fruits 요소의 갯수"
   ]
  },
  {
   "cell_type": "code",
   "execution_count": 16,
   "id": "87cd7638-c83f-4d10-b25d-7ef3bb2a3df0",
   "metadata": {},
   "outputs": [
    {
     "name": "stdout",
     "output_type": "stream",
     "text": [
      "0번째 과일은 banana\n",
      "1번째 과일은 mango\n",
      "2번째 과일은 orange\n",
      "3번째 과일은 grape\n",
      "4번째 과일은 0\n"
     ]
    }
   ],
   "source": [
    "for i in range(len(fruits)):\n",
    "    print(\"{}번째 과일은 {}\".format(i,fruits[i]))\n",
    "    "
   ]
  },
  {
   "cell_type": "code",
   "execution_count": 19,
   "id": "97acae9f-3b89-49c2-a91d-7160e81fc36b",
   "metadata": {},
   "outputs": [
    {
     "name": "stdout",
     "output_type": "stream",
     "text": [
      "0번째 과일은 banana\n",
      "1번째 과일은 mango\n",
      "2번째 과일은 orange\n",
      "3번째 과일은 grape\n",
      "4번째 과일은 0\n"
     ]
    }
   ],
   "source": [
    "for idx, value in enumerate(fruits):\n",
    "    \n",
    "    print(\"{}번째 과일은 {}\".format(idx,value))"
   ]
  },
  {
   "cell_type": "markdown",
   "id": "7381f839-f499-46a8-ad39-970f2c691723",
   "metadata": {},
   "source": [
    "## 1.2 기본정보 조회"
   ]
  },
  {
   "cell_type": "code",
   "execution_count": 23,
   "id": "c8948bb8-f7e8-4610-98cd-8c891ef3f4a6",
   "metadata": {},
   "outputs": [
    {
     "name": "stdout",
     "output_type": "stream",
     "text": [
      "요소의 수 : 5\n",
      "최소값 : 1\n",
      "최대값 : 5\n"
     ]
    }
   ],
   "source": [
    "numbers = [1,2,3,4,5]\n",
    "print(\"요소의 수 :\",len(numbers))\n",
    "print(\"최소값 :\",min(numbers))\n",
    "print(\"최대값 :\",max(numbers))"
   ]
  },
  {
   "cell_type": "markdown",
   "id": "5b53b570-8496-4e0f-8a07-ab5c2500f879",
   "metadata": {},
   "source": [
    "## 1.3 정보 추가"
   ]
  },
  {
   "cell_type": "code",
   "execution_count": 25,
   "id": "db03dd77-620b-4ed3-bb9f-decfac2e1519",
   "metadata": {},
   "outputs": [],
   "source": [
    "#두 리스트를 연결\n",
    "# 리스트*n : 리스트를 n만큼 반복\n",
    "# append() : 요소 뒤에 추가\n",
    "# extend : 리스트에 요소별로 뒤에 추가"
   ]
  },
  {
   "cell_type": "code",
   "execution_count": 28,
   "id": "f55f91d0-562c-4fdb-802e-1af44070095b",
   "metadata": {},
   "outputs": [
    {
     "data": {
      "text/plain": [
       "[1, 2, 3, 1, 2, 3]"
      ]
     },
     "execution_count": 28,
     "metadata": {},
     "output_type": "execute_result"
    }
   ],
   "source": [
    "numbers = [1,2,3]\n",
    "numbers = numbers + numbers\n",
    "numbers "
   ]
  },
  {
   "cell_type": "code",
   "execution_count": 29,
   "id": "7f7eca4d-681d-4346-ae4f-817b72b5c8f9",
   "metadata": {},
   "outputs": [
    {
     "name": "stdout",
     "output_type": "stream",
     "text": [
      "[1, 2, 3, 1, 2, 3, 1, 2, 3]\n"
     ]
    }
   ],
   "source": [
    "numbers = [1,2,3]\n",
    "print(numbers*3) "
   ]
  },
  {
   "cell_type": "code",
   "execution_count": 37,
   "id": "8c231e48-cec3-4389-8ed7-4a3b15bb5b10",
   "metadata": {},
   "outputs": [
    {
     "data": {
      "text/plain": [
       "[1, 2, 3, 4, 4, 4, 4, 4, 4, 4, 4]"
      ]
     },
     "execution_count": 37,
     "metadata": {},
     "output_type": "execute_result"
    }
   ],
   "source": [
    "numbers.append(4) #마련되있지 않은 자리에 4를 추가함\n",
    "numbers"
   ]
  },
  {
   "cell_type": "code",
   "execution_count": 39,
   "id": "28a593e8-a2b1-44ac-96b9-9cc9fcfb1889",
   "metadata": {},
   "outputs": [
    {
     "data": {
      "text/plain": [
       "[1, 2, 3, 4, [5, 6]]"
      ]
     },
     "execution_count": 39,
     "metadata": {},
     "output_type": "execute_result"
    }
   ],
   "source": [
    "numbers = [1,2,3,4]\n",
    "num = [5,6]\n",
    "#numbers를 [1,2,3,4,5,6]으로 만들거나 [1,2,3,4,[5,6]]\n",
    "numbers.append(num)\n",
    "numbers"
   ]
  },
  {
   "cell_type": "code",
   "execution_count": 44,
   "id": "8a618d69-9edc-4652-8e0b-0ccb6f6f8f68",
   "metadata": {},
   "outputs": [
    {
     "data": {
      "text/plain": [
       "[1, 2, 3, 4, 5, 6]"
      ]
     },
     "execution_count": 44,
     "metadata": {},
     "output_type": "execute_result"
    }
   ],
   "source": [
    "numbers = [1,2,3,4]\n",
    "num = [5,6]\n",
    "numbers.extend(num)\n",
    "\n",
    "numbers"
   ]
  },
  {
   "cell_type": "code",
   "execution_count": 45,
   "id": "411ef67f-ea6e-4f5e-820e-7e7539aa29e5",
   "metadata": {},
   "outputs": [
    {
     "data": {
      "text/plain": [
       "[1, 2, 3, 4, 'hello']"
      ]
     },
     "execution_count": 45,
     "metadata": {},
     "output_type": "execute_result"
    }
   ],
   "source": [
    "numbers = [1,2,3,4]\n",
    "numbers.append('hello')\n",
    "numbers"
   ]
  },
  {
   "cell_type": "code",
   "execution_count": 47,
   "id": "83ae6e81-8cec-4518-9acf-e89892b24d66",
   "metadata": {},
   "outputs": [
    {
     "data": {
      "text/plain": [
       "[1, 2, 3, 4, 'h', 'e', 'l', 'l', 'o']"
      ]
     },
     "execution_count": 47,
     "metadata": {},
     "output_type": "execute_result"
    }
   ],
   "source": [
    "numbers = [1,2,3,4]\n",
    "numbers.extend('hello')\n",
    "numbers\n",
    "#문자열의 문자 하나하나를 배열로 받음"
   ]
  },
  {
   "cell_type": "markdown",
   "id": "2e435a3c-d462-4d9c-9ccb-a54cb7a7fc91",
   "metadata": {},
   "source": [
    "## 1.4 인덱싱\n",
    "    -index(찾고자하는 값, 1) : 찾고자하는 값이 1번 인덱스부터 찾아 그 위치를 반환 \n",
    "    -count(찾고자하는 값) : 찾고자하는 값이 몇번나오는 counter\n",
    "    "
   ]
  },
  {
   "cell_type": "code",
   "execution_count": 49,
   "id": "a072920c-8f55-4af0-8e29-749694983319",
   "metadata": {},
   "outputs": [
    {
     "name": "stdout",
     "output_type": "stream",
     "text": [
      "2가 몇개인지 : 2\n",
      "4가 몇개인지 : 0\n"
     ]
    }
   ],
   "source": [
    "numbers = [1,2,3,[1,2,3],1,2,3]\n",
    "print(\"2가 몇개인지 : {}\".format(numbers.count(2)))\n",
    "print(\"4가 몇개인지 : {}\".format(numbers.count(4))) #[1,2,3]을 정수형으로 생각하진 않는다."
   ]
  },
  {
   "cell_type": "code",
   "execution_count": 50,
   "id": "a5ae50e1-625e-4256-bc3d-c61d5567753c",
   "metadata": {},
   "outputs": [
    {
     "data": {
      "text/plain": [
       "True"
      ]
     },
     "execution_count": 50,
     "metadata": {},
     "output_type": "execute_result"
    }
   ],
   "source": [
    "2 in numbers #numbers안에 2가 있는지 여부\n"
   ]
  },
  {
   "cell_type": "code",
   "execution_count": 55,
   "id": "3b4ac41d-89c8-46aa-afd6-5d0b5d28bb23",
   "metadata": {},
   "outputs": [
    {
     "data": {
      "text/plain": [
       "5"
      ]
     },
     "execution_count": 55,
     "metadata": {},
     "output_type": "execute_result"
    }
   ],
   "source": [
    "numbers = [1,2,3,[1,2,3],1,2,3]\n",
    "numbers.index(2,3) #3번째인덱스부터 2가 처음 나오는 인덱스를 반환"
   ]
  },
  {
   "cell_type": "markdown",
   "id": "80d3b1c6-2a6e-4a50-9782-68ae55003220",
   "metadata": {},
   "source": [
    "## 1.5 리스트의 원하는 내용만 추출\n",
    "```\n",
    "-슬라이싱 [from:to:stop]을 이용 -> 원하는 인덱스의 값 추출\n",
    "-리스트 컴프리헨션을 이용 -> 원하는 인덱스의 데이터만 추출"
   ]
  },
  {
   "cell_type": "code",
   "execution_count": 56,
   "id": "f365ec37-7756-43ed-ac42-68af7a0bc726",
   "metadata": {},
   "outputs": [
    {
     "data": {
      "text/plain": [
       "[20, 19, 18, 13, 12, 10, 9, 5, 3, 1]"
      ]
     },
     "execution_count": 56,
     "metadata": {},
     "output_type": "execute_result"
    }
   ],
   "source": [
    "numbers = [1,3,5,9,10,12,13,18,19,20]\n",
    "numbers[::-1]"
   ]
  },
  {
   "cell_type": "code",
   "execution_count": 58,
   "id": "767f6c14-f6f0-48a8-be8a-f1960ad1a1a9",
   "metadata": {},
   "outputs": [
    {
     "data": {
      "text/plain": [
       "[1, 5, 10, 13, 19]"
      ]
     },
     "execution_count": 58,
     "metadata": {},
     "output_type": "execute_result"
    }
   ],
   "source": [
    "numbers[::2]"
   ]
  },
  {
   "cell_type": "code",
   "execution_count": 62,
   "id": "2e96b4e1-0c27-445a-92c4-2351ee4f54d5",
   "metadata": {},
   "outputs": [
    {
     "data": {
      "text/plain": [
       "[10, 12, 18, 20]"
      ]
     },
     "execution_count": 62,
     "metadata": {},
     "output_type": "execute_result"
    }
   ],
   "source": [
    "#값이 짝수인 데이터만 추출하고 싶다\n",
    "result = []\n",
    "for num in numbers: #[1,3,5,9,10,12,13,18,19,20]\n",
    "    if num%2 == 0:\n",
    "        result.append(num)\n",
    "result\n",
    "#리스트 컴프리헨션을 모를때"
   ]
  },
  {
   "cell_type": "code",
   "execution_count": 63,
   "id": "e53aace4-ffc6-4399-8999-6742e34f7044",
   "metadata": {},
   "outputs": [
    {
     "data": {
      "text/plain": [
       "[10, 12, 18, 20]"
      ]
     },
     "execution_count": 63,
     "metadata": {},
     "output_type": "execute_result"
    }
   ],
   "source": [
    "#리스트 컴프리헨션\n",
    "result = [num for num in numbers if num%2==0]\n",
    "result "
   ]
  },
  {
   "cell_type": "code",
   "execution_count": 64,
   "id": "ae8a6389-49b7-4c83-a094-997b2c94eacb",
   "metadata": {},
   "outputs": [
    {
     "data": {
      "text/plain": [
       "[1, 9, 25, 49, 81]"
      ]
     },
     "execution_count": 64,
     "metadata": {},
     "output_type": "execute_result"
    }
   ],
   "source": [
    "# numbers 리스트의 제곱값을 리스트로 생성하여라(컴프리헨션)\n",
    "numbers = [1,3,5,7,9]\n",
    "result = [num**2 for num in numbers]\n",
    "result"
   ]
  },
  {
   "cell_type": "code",
   "execution_count": 70,
   "id": "fa9fa571-6565-44c5-a8f5-9d6129fe9d72",
   "metadata": {},
   "outputs": [
    {
     "data": {
      "text/plain": [
       "['orange', 'apple', 'mango']"
      ]
     },
     "execution_count": 70,
     "metadata": {},
     "output_type": "execute_result"
    }
   ],
   "source": [
    "#과일의 글자가 5글자 이상인 과일을 추출하세요\n",
    "fruits = [\"orange\",\"apple\",\"mango\",\"kiwi\"]\n",
    "[fruit for fruit in fruits if len(fruit)>=5]"
   ]
  },
  {
   "cell_type": "code",
   "execution_count": 76,
   "id": "23304e08-0799-4fe7-8835-4cbe66464bb7",
   "metadata": {},
   "outputs": [
    {
     "data": {
      "text/plain": [
       "[6, 5, 5]"
      ]
     },
     "execution_count": 76,
     "metadata": {},
     "output_type": "execute_result"
    }
   ],
   "source": [
    "#과일의 글자가 5글자 이상인 과일의 글자수를 출력하시오\n",
    "fruits = [\"orange\",\"apple\",\"mango\",\"kiwi\"]\n",
    "[len(f) for f in fruits if len(f)>=5]"
   ]
  },
  {
   "cell_type": "markdown",
   "id": "b6fe7d8d-5282-4440-b5ca-06a256bd2d11",
   "metadata": {},
   "source": [
    "## 1.6 삭제하기 \n",
    "- remove(data) : 해당 data가 제거\n",
    "- del 리스트변수[idx] : idx번째 요소 제거\n",
    "- pop() : 가장 마지막 인덱스 요소가 return 되고 삭제\n"
   ]
  },
  {
   "cell_type": "code",
   "execution_count": 78,
   "id": "78ae4567-70cb-4de7-b611-89dd900eb45d",
   "metadata": {},
   "outputs": [
    {
     "data": {
      "text/plain": [
       "4"
      ]
     },
     "execution_count": 78,
     "metadata": {},
     "output_type": "execute_result"
    }
   ],
   "source": [
    "numbers = [1,2,3,4]\n",
    "numbers.pop() #뽑은 숫자가 리턴되기 때문에 화면에 출력됨"
   ]
  },
  {
   "cell_type": "code",
   "execution_count": 79,
   "id": "19b1b9f1-8992-48b2-b1ca-efebb057fd92",
   "metadata": {},
   "outputs": [
    {
     "data": {
      "text/plain": [
       "[1, 2, 3]"
      ]
     },
     "execution_count": 79,
     "metadata": {},
     "output_type": "execute_result"
    }
   ],
   "source": [
    "numbers"
   ]
  },
  {
   "cell_type": "code",
   "execution_count": 80,
   "id": "d316c4f8-13a5-4aeb-bf8e-db57a07cdd17",
   "metadata": {},
   "outputs": [],
   "source": [
    "numbers.remove(2) #없는 데이터 remove시 에러 발생"
   ]
  },
  {
   "cell_type": "code",
   "execution_count": 81,
   "id": "d4bf7f12-358a-4414-991b-1f8e1ab40956",
   "metadata": {},
   "outputs": [
    {
     "data": {
      "text/plain": [
       "[1, 3]"
      ]
     },
     "execution_count": 81,
     "metadata": {},
     "output_type": "execute_result"
    }
   ],
   "source": [
    "numbers "
   ]
  },
  {
   "cell_type": "code",
   "execution_count": 83,
   "id": "254f792d-9090-49b7-aebe-53e3cab69acb",
   "metadata": {},
   "outputs": [],
   "source": [
    "numbers = [1,2,3,4]\n",
    "\n",
    "del numbers[3]"
   ]
  },
  {
   "cell_type": "code",
   "execution_count": 84,
   "id": "08f0edcb-d356-4d71-b68c-838883366ed0",
   "metadata": {},
   "outputs": [
    {
     "data": {
      "text/plain": [
       "[1, 2, 3]"
      ]
     },
     "execution_count": 84,
     "metadata": {},
     "output_type": "execute_result"
    }
   ],
   "source": [
    "numbers"
   ]
  },
  {
   "cell_type": "code",
   "execution_count": 85,
   "id": "78a22397-7a0e-4e86-b880-0a4943c7b54d",
   "metadata": {},
   "outputs": [],
   "source": [
    "del numbers"
   ]
  },
  {
   "cell_type": "code",
   "execution_count": 86,
   "id": "2eafbe1a-8e67-4af8-aa68-533a921f3cae",
   "metadata": {},
   "outputs": [
    {
     "ename": "NameError",
     "evalue": "name 'numbers' is not defined",
     "output_type": "error",
     "traceback": [
      "\u001b[1;31m---------------------------------------------------------------------------\u001b[0m",
      "\u001b[1;31mNameError\u001b[0m                                 Traceback (most recent call last)",
      "Cell \u001b[1;32mIn[86], line 1\u001b[0m\n\u001b[1;32m----> 1\u001b[0m numbers\n",
      "\u001b[1;31mNameError\u001b[0m: name 'numbers' is not defined"
     ]
    }
   ],
   "source": [
    "numbers"
   ]
  },
  {
   "cell_type": "markdown",
   "id": "4efc20ae-959a-45b7-896a-638dafa1dde6",
   "metadata": {},
   "source": [
    "## 1.7 정렬하기 "
   ]
  },
  {
   "cell_type": "code",
   "execution_count": 93,
   "id": "970b2943-2e58-488c-bb6c-713fbfa25a86",
   "metadata": {},
   "outputs": [
    {
     "data": {
      "text/plain": [
       "[25, 30, 30, 50, 65, 75, 100]"
      ]
     },
     "execution_count": 93,
     "metadata": {},
     "output_type": "execute_result"
    }
   ],
   "source": [
    "numbers = [100,50,75,25,30,30,65]\n",
    "numbers.sort()\n",
    "numbers"
   ]
  },
  {
   "cell_type": "code",
   "execution_count": 94,
   "id": "50c203d9-10b8-4262-80c6-50ea09f77ad1",
   "metadata": {},
   "outputs": [
    {
     "data": {
      "text/plain": [
       "[100, 75, 65, 50, 30, 30, 25]"
      ]
     },
     "execution_count": 94,
     "metadata": {},
     "output_type": "execute_result"
    }
   ],
   "source": [
    "numbers = [100,50,75,25,30,30,65]\n",
    "numbers.sort(reverse=True)#내림차순 정렬\n",
    "numbers"
   ]
  },
  {
   "cell_type": "markdown",
   "id": "23182c70-976f-44d0-a555-2ab081bb74cf",
   "metadata": {},
   "source": [
    "## 1.8리스트 복제"
   ]
  },
  {
   "cell_type": "code",
   "execution_count": 97,
   "id": "fae885ca-3633-46fc-9144-79443be6e916",
   "metadata": {},
   "outputs": [
    {
     "name": "stdout",
     "output_type": "stream",
     "text": [
      "정렬 전 데이터: [1, 2, 6]\n",
      "정렬 전 데이터: [1, 2, 6]\n"
     ]
    }
   ],
   "source": [
    "#얉은 복사\n",
    "numbers = [6,1,2] \n",
    "new_numbers = numbers; #얉은 복사 numbers, new-numbers 모두 값이 들어가 있는 주소값을 값으로 받고 가리킨다.\n",
    "numbers.sort()\n",
    "print(\"정렬 전 데이터:\", new_numbers)\n",
    "print(\"정렬 전 데이터:\", numbers)\n",
    "#같은 번지수를 가리키고 있기 때문에 numbers를 정렬하면 같은 곳을 가리키기 때문에 같은 데이터 값이 출력된다."
   ]
  },
  {
   "cell_type": "code",
   "execution_count": 98,
   "id": "1cd7210c-8333-497a-af31-2114f632f11c",
   "metadata": {},
   "outputs": [
    {
     "name": "stdout",
     "output_type": "stream",
     "text": [
      "정렬 전 데이터: [6, 1, 2]\n",
      "정렬 전 데이터: [1, 2, 6]\n"
     ]
    }
   ],
   "source": [
    "#깊은 복사\n",
    "numbers = [6,1,2] \n",
    "new_numbers = numbers.copy(); #new_number는 새로운 주소값을 할당하고, numbers에 들어있는 새로생긴 배열에 할당한다.\n",
    "numbers.sort()\n",
    "print(\"정렬 전 데이터:\", new_numbers)\n",
    "print(\"정렬 전 데이터:\", numbers)\n",
    "\n"
   ]
  },
  {
   "cell_type": "markdown",
   "id": "333cdf38-1176-4e58-9968-0ad868b163a7",
   "metadata": {},
   "source": [
    "# 2. 튜플\n",
    "\n",
    "```\n",
    "- 리스트와 유사하지만 읽기전용\n",
    "- () 이용해서 생성\n",
    "- 수정 불가"
   ]
  },
  {
   "cell_type": "code",
   "execution_count": 102,
   "id": "af7be549-7afa-4314-858f-69aca54edc7e",
   "metadata": {},
   "outputs": [
    {
     "name": "stdout",
     "output_type": "stream",
     "text": [
      "<class 'tuple'>\n",
      "('서울', '부산', '광주', '울산')\n"
     ]
    }
   ],
   "source": [
    "city = ('서울','부산','광주','울산')\n",
    "print(type(city))\n",
    "print(city)"
   ]
  },
  {
   "cell_type": "code",
   "execution_count": 104,
   "id": "2cacf37c-8be2-45b9-9081-6ce5bad2f663",
   "metadata": {},
   "outputs": [
    {
     "data": {
      "text/plain": [
       "'서울부산광주울산'"
      ]
     },
     "execution_count": 104,
     "metadata": {},
     "output_type": "execute_result"
    }
   ],
   "source": [
    "''.join(city)"
   ]
  },
  {
   "cell_type": "code",
   "execution_count": 106,
   "id": "fc03ae3e-a75b-475c-9aef-1201d664de6e",
   "metadata": {},
   "outputs": [
    {
     "data": {
      "text/plain": [
       "list"
      ]
     },
     "execution_count": 106,
     "metadata": {},
     "output_type": "execute_result"
    }
   ],
   "source": [
    "list_ = ['서울']\n",
    "type(list_)\n"
   ]
  },
  {
   "cell_type": "code",
   "execution_count": 109,
   "id": "41a5f5ae-ec86-4dc9-916d-60cb4dc08193",
   "metadata": {},
   "outputs": [
    {
     "data": {
      "text/plain": [
       "str"
      ]
     },
     "execution_count": 109,
     "metadata": {},
     "output_type": "execute_result"
    }
   ],
   "source": [
    "t = (\"서울\")\n",
    "type(t)"
   ]
  },
  {
   "cell_type": "code",
   "execution_count": 108,
   "id": "e2e7c199-aee8-4c9c-82d7-a27751f9f0b8",
   "metadata": {},
   "outputs": [
    {
     "data": {
      "text/plain": [
       "tuple"
      ]
     },
     "execution_count": 108,
     "metadata": {},
     "output_type": "execute_result"
    }
   ],
   "source": [
    "t = (\"서울\",)#요소가 하나인 튜플은 뒤에 ,가 필요하다.\n",
    "type(t)"
   ]
  },
  {
   "cell_type": "markdown",
   "id": "6e1564a3-9952-44d0-b075-5fe672774914",
   "metadata": {},
   "source": [
    "# 3. 딕셔너리\n",
    "- 구조체와 유사\n",
    "- {}를 이용해서 생성. key-value쌍으로 구성\n",
    "- 값은 중복이 가능하나 key는 중복이 불가능하다.\n",
    "- index를 이용한 참조 불가. -> index가 없음\n",
    "- 수정가능"
   ]
  },
  {
   "cell_type": "code",
   "execution_count": 110,
   "id": "92deacc3-ed9a-40a7-b63a-db24a84a74ec",
   "metadata": {},
   "outputs": [],
   "source": [
    "dic = {'name':'홍길동', 'address':'서울시 금천구'}"
   ]
  },
  {
   "cell_type": "code",
   "execution_count": 111,
   "id": "2fc69745-14f4-4438-a503-f60a38670240",
   "metadata": {},
   "outputs": [
    {
     "name": "stdout",
     "output_type": "stream",
     "text": [
      "<class 'dict'>\n"
     ]
    }
   ],
   "source": [
    "print(type(dic))"
   ]
  },
  {
   "cell_type": "code",
   "execution_count": 112,
   "id": "45076830-195c-4c1e-8483-970f4e2f5565",
   "metadata": {},
   "outputs": [
    {
     "data": {
      "text/plain": [
       "'홍길동'"
      ]
     },
     "execution_count": 112,
     "metadata": {},
     "output_type": "execute_result"
    }
   ],
   "source": [
    "dic['name']#value에 access할때 ''를 무조건 넣어줘야함"
   ]
  },
  {
   "cell_type": "code",
   "execution_count": 113,
   "id": "8199fdad-3f7c-4554-891a-30825b77b669",
   "metadata": {},
   "outputs": [
    {
     "data": {
      "text/plain": [
       "'서울시 금천구'"
      ]
     },
     "execution_count": 113,
     "metadata": {},
     "output_type": "execute_result"
    }
   ],
   "source": [
    "dic['address']"
   ]
  },
  {
   "cell_type": "code",
   "execution_count": 114,
   "id": "f8fd7e3e-60bf-4c44-a085-c0e7e8c80eab",
   "metadata": {},
   "outputs": [
    {
     "data": {
      "text/plain": [
       "('홍길동', '서울시 금천구')"
      ]
     },
     "execution_count": 114,
     "metadata": {},
     "output_type": "execute_result"
    }
   ],
   "source": [
    "dic['name'],dic['address']# 자동으로 튜플로 인식하여 괄호가 생김"
   ]
  },
  {
   "cell_type": "code",
   "execution_count": 115,
   "id": "b2a678a1-fe6d-4e7b-9f00-d09f72d3c351",
   "metadata": {},
   "outputs": [
    {
     "ename": "KeyError",
     "evalue": "'score'",
     "output_type": "error",
     "traceback": [
      "\u001b[1;31m---------------------------------------------------------------------------\u001b[0m",
      "\u001b[1;31mKeyError\u001b[0m                                  Traceback (most recent call last)",
      "Cell \u001b[1;32mIn[115], line 1\u001b[0m\n\u001b[1;32m----> 1\u001b[0m dic[\u001b[38;5;124m'\u001b[39m\u001b[38;5;124mscore\u001b[39m\u001b[38;5;124m'\u001b[39m]\n",
      "\u001b[1;31mKeyError\u001b[0m: 'score'"
     ]
    }
   ],
   "source": [
    "dic['score'] #없는 key는 당연히 error"
   ]
  },
  {
   "cell_type": "code",
   "execution_count": 117,
   "id": "9b135b2e-dd0a-4215-a3b4-0f2ffdabb3c7",
   "metadata": {},
   "outputs": [
    {
     "data": {
      "text/plain": [
       "('홍길동', '서울시 금천구', None)"
      ]
     },
     "execution_count": 117,
     "metadata": {},
     "output_type": "execute_result"
    }
   ],
   "source": [
    "dic.get('name'),dic.get('address'),dic.get('score') #없는 데이터는 None으로 뿌려짐"
   ]
  },
  {
   "cell_type": "code",
   "execution_count": 118,
   "id": "f921312b-1b00-44cf-9f72-ac193696ff36",
   "metadata": {},
   "outputs": [
    {
     "name": "stdout",
     "output_type": "stream",
     "text": [
      "{'name': '홍길동', 'address': '서울시 금천구', 'score': 100, 'age': 25}\n"
     ]
    }
   ],
   "source": [
    "#수정\n",
    "dic['score']= 100\n",
    "dic['age'] = 25\n",
    "print(dic)"
   ]
  },
  {
   "cell_type": "code",
   "execution_count": 120,
   "id": "b624f248-27ce-4f7c-8445-315d1cc69f88",
   "metadata": {},
   "outputs": [
    {
     "data": {
      "text/plain": [
       "25"
      ]
     },
     "execution_count": 120,
     "metadata": {},
     "output_type": "execute_result"
    }
   ],
   "source": [
    "#제거\n",
    "dic.pop('age')"
   ]
  },
  {
   "cell_type": "code",
   "execution_count": 121,
   "id": "20cc51fa-8748-44a6-95bc-c5d5831b73f8",
   "metadata": {},
   "outputs": [
    {
     "name": "stdout",
     "output_type": "stream",
     "text": [
      "{'name': '홍길동', 'address': '서울시 금천구', 'score': 100}\n"
     ]
    }
   ],
   "source": [
    "print(dic)"
   ]
  },
  {
   "cell_type": "code",
   "execution_count": 123,
   "id": "12f6d298-6452-4dda-a929-a58c30d817e9",
   "metadata": {},
   "outputs": [
    {
     "name": "stdout",
     "output_type": "stream",
     "text": [
      "name\n",
      "address\n",
      "score\n"
     ]
    }
   ],
   "source": [
    "for data in dic:\n",
    "    print(data) #key만 출력"
   ]
  },
  {
   "cell_type": "code",
   "execution_count": 126,
   "id": "6c0ded09-179c-467f-b370-7aa1ca1123db",
   "metadata": {},
   "outputs": [
    {
     "name": "stdout",
     "output_type": "stream",
     "text": [
      "0 name\n",
      "1 address\n",
      "2 score\n"
     ]
    }
   ],
   "source": [
    "for idx,value in enumerate(dic):\n",
    " \n",
    "    print(idx,value) #리스트 방식으로는 키와 값을 모두 접근할 수 없음"
   ]
  },
  {
   "cell_type": "code",
   "execution_count": 136,
   "id": "474d5b4f-d2f0-405f-b77b-9790d053d05e",
   "metadata": {},
   "outputs": [
    {
     "data": {
      "text/plain": [
       "dict_keys(['name', 'address', 'score'])"
      ]
     },
     "execution_count": 136,
     "metadata": {},
     "output_type": "execute_result"
    }
   ],
   "source": [
    "dic.keys()"
   ]
  },
  {
   "cell_type": "code",
   "execution_count": 133,
   "id": "df7b6564-d709-4c54-8d68-79e3791399ab",
   "metadata": {},
   "outputs": [
    {
     "data": {
      "text/plain": [
       "dict_values(['홍길동', '서울시 금천구', 100])"
      ]
     },
     "execution_count": 133,
     "metadata": {},
     "output_type": "execute_result"
    }
   ],
   "source": [
    "dic.values()"
   ]
  },
  {
   "cell_type": "code",
   "execution_count": 135,
   "id": "134c2463-8132-4219-bf9c-75e3e7c5b82f",
   "metadata": {},
   "outputs": [
    {
     "data": {
      "text/plain": [
       "dict_items([('name', '홍길동'), ('address', '서울시 금천구'), ('score', 100)])"
      ]
     },
     "execution_count": 135,
     "metadata": {},
     "output_type": "execute_result"
    }
   ],
   "source": [
    "dic.items() #dic에서 키와 밸류를 모두 접근하기위해 사용하는 함수 "
   ]
  },
  {
   "cell_type": "code",
   "execution_count": 134,
   "id": "a80eb0f4-9937-40a4-a4c4-eb711e7c4d9b",
   "metadata": {},
   "outputs": [
    {
     "name": "stdout",
     "output_type": "stream",
     "text": [
      "홍길동\n",
      "서울시 금천구\n",
      "100\n"
     ]
    }
   ],
   "source": [
    "for data in dic.values():\n",
    "    print(data)"
   ]
  },
  {
   "cell_type": "code",
   "execution_count": 138,
   "id": "ce22db78-ed28-4ae8-8b0f-4c664f66ef8b",
   "metadata": {},
   "outputs": [
    {
     "name": "stdout",
     "output_type": "stream",
     "text": [
      "name 홍길동\n",
      "address 서울시 금천구\n",
      "score 100\n"
     ]
    }
   ],
   "source": [
    "for key, value in dic.items():\n",
    "    print(key,value)"
   ]
  },
  {
   "cell_type": "code",
   "execution_count": 140,
   "id": "5a03d727-caa2-436c-baa2-b395d9a4a1f7",
   "metadata": {},
   "outputs": [
    {
     "data": {
      "text/plain": [
       "True"
      ]
     },
     "execution_count": 140,
     "metadata": {},
     "output_type": "execute_result"
    }
   ],
   "source": [
    "l = ['a','b','c']\n",
    "'c' in l\n"
   ]
  },
  {
   "cell_type": "code",
   "execution_count": 142,
   "id": "9e55f1a7-4d99-418d-86f8-16c75f600a9c",
   "metadata": {},
   "outputs": [
    {
     "data": {
      "text/plain": [
       "True"
      ]
     },
     "execution_count": 142,
     "metadata": {},
     "output_type": "execute_result"
    }
   ],
   "source": [
    "dic = {'name':'홍길동', 'address':'서울시 금천구'}\n",
    "'name' in dic"
   ]
  },
  {
   "cell_type": "code",
   "execution_count": 144,
   "id": "7cb953c7-0479-44b2-889d-9332a7f529ef",
   "metadata": {},
   "outputs": [
    {
     "data": {
      "text/plain": [
       "False"
      ]
     },
     "execution_count": 144,
     "metadata": {},
     "output_type": "execute_result"
    }
   ],
   "source": [
    "'홍길동' in dic #dictionary에서는 in은 key값의 데이터를 취급한다."
   ]
  },
  {
   "cell_type": "markdown",
   "id": "2c97a70c-26b6-478b-bc54-d98c0111a5bf",
   "metadata": {},
   "source": [
    "# 4. 셋\n",
    "-중복을 허용하지 않는 집합(순서x = 인덱스x)\n"
   ]
  },
  {
   "cell_type": "code",
   "execution_count": 151,
   "id": "034f58b9-b801-45e8-917c-7fe62e3ebb48",
   "metadata": {},
   "outputs": [
    {
     "name": "stdout",
     "output_type": "stream",
     "text": [
      "{0, '악', 'orange', 'banana', 'apple'}\n",
      "<class 'set'>\n"
     ]
    }
   ],
   "source": [
    "fruits = {'apple','orange','banana','banana',0,0,'악'}\n",
    "print(fruits) #중복되어있는 데이터가 사라짐\n",
    "print(type(fruits))"
   ]
  },
  {
   "cell_type": "code",
   "execution_count": 152,
   "id": "cc8a49c1-384a-4554-9ea3-67f156a3eddd",
   "metadata": {},
   "outputs": [
    {
     "name": "stdout",
     "output_type": "stream",
     "text": [
      "{0, '악', 'kiwi', 'orange', 'banana', 'apple'}\n"
     ]
    }
   ],
   "source": [
    "fruits.add('kiwi')\n",
    "print(fruits)"
   ]
  },
  {
   "cell_type": "code",
   "execution_count": 153,
   "id": "117e186f-f6cc-4d1d-8c6d-68e2b0f614f2",
   "metadata": {},
   "outputs": [
    {
     "name": "stdout",
     "output_type": "stream",
     "text": [
      "{0, '악', 'kiwi', 'orange', 'banana', 'apple'}\n"
     ]
    }
   ],
   "source": [
    "fruits.add('banana')\n",
    "print(fruits) #중복 허용 x"
   ]
  },
  {
   "cell_type": "code",
   "execution_count": 155,
   "id": "b231a701-13fb-41be-95a8-0e449ed6199e",
   "metadata": {},
   "outputs": [
    {
     "name": "stdout",
     "output_type": "stream",
     "text": [
      "0\t0\n",
      "1\t악\n",
      "2\tkiwi\n",
      "3\torange\n",
      "4\tbanana\n",
      "5\tapple\n"
     ]
    }
   ],
   "source": [
    "for i, value in enumerate(fruits):\n",
    "    print(\"{}\\t{}\".format(i,value)) #index가 없기 때문에 내가 입력한 데이터 순이 아니다"
   ]
  },
  {
   "cell_type": "code",
   "execution_count": 156,
   "id": "52029508-7840-4c66-80b2-337e771bf985",
   "metadata": {},
   "outputs": [
    {
     "name": "stdout",
     "output_type": "stream",
     "text": [
      "0\n",
      "악\n",
      "kiwi\n",
      "orange\n",
      "banana\n",
      "apple\n"
     ]
    }
   ],
   "source": [
    "for data in fruits:\n",
    "    print(data)"
   ]
  },
  {
   "cell_type": "code",
   "execution_count": 157,
   "id": "04bb4cd0-3403-4535-bebe-78b157068e79",
   "metadata": {},
   "outputs": [],
   "source": [
    "numbers = [1,2,3,4,5,6,7,8,9,10]\n",
    "numbers.append(100)"
   ]
  },
  {
   "cell_type": "code",
   "execution_count": 158,
   "id": "89b09db7-614d-4dbc-9204-f76b9beffdf7",
   "metadata": {},
   "outputs": [
    {
     "data": {
      "text/plain": [
       "[1, 2, 3, 4, 5, 6, 7, 8, 9, 10, 100]"
      ]
     },
     "execution_count": 158,
     "metadata": {},
     "output_type": "execute_result"
    }
   ],
   "source": [
    "numbers"
   ]
  },
  {
   "cell_type": "code",
   "execution_count": 159,
   "id": "21ef907c-4b23-40f9-88b8-b1199056609d",
   "metadata": {},
   "outputs": [],
   "source": [
    "data = [200,300,400,500]\n",
    "numbers.append(data)"
   ]
  },
  {
   "cell_type": "code",
   "execution_count": 160,
   "id": "b9660992-f5bb-40c6-b86c-410f20cc225e",
   "metadata": {},
   "outputs": [
    {
     "data": {
      "text/plain": [
       "[1, 2, 3, 4, 5, 6, 7, 8, 9, 10, 100, [200, 300, 400, 500]]"
      ]
     },
     "execution_count": 160,
     "metadata": {},
     "output_type": "execute_result"
    }
   ],
   "source": [
    "numbers"
   ]
  },
  {
   "cell_type": "code",
   "execution_count": 161,
   "id": "9488dc65-bbb8-4602-81cf-b8fbf16163bb",
   "metadata": {},
   "outputs": [
    {
     "data": {
      "text/plain": [
       "[1, 2, 3, 4]"
      ]
     },
     "execution_count": 161,
     "metadata": {},
     "output_type": "execute_result"
    }
   ],
   "source": [
    "numbers[0:4]"
   ]
  },
  {
   "cell_type": "code",
   "execution_count": 163,
   "id": "44d086e7-eacb-45db-b6cf-0d9091224a63",
   "metadata": {},
   "outputs": [
    {
     "data": {
      "text/plain": [
       "[1, 3, 5, 7, 9, 100]"
      ]
     },
     "execution_count": 163,
     "metadata": {},
     "output_type": "execute_result"
    }
   ],
   "source": [
    "numbers[0::2]"
   ]
  },
  {
   "cell_type": "code",
   "execution_count": 169,
   "id": "fc074d89-8e99-4936-802f-300d4e0d2fb3",
   "metadata": {},
   "outputs": [
    {
     "ename": "TypeError",
     "evalue": "unsupported operand type(s) for %: 'list' and 'int'",
     "output_type": "error",
     "traceback": [
      "\u001b[1;31m---------------------------------------------------------------------------\u001b[0m",
      "\u001b[1;31mTypeError\u001b[0m                                 Traceback (most recent call last)",
      "Cell \u001b[1;32mIn[169], line 2\u001b[0m\n\u001b[0;32m      1\u001b[0m result \u001b[38;5;241m=\u001b[39m []\n\u001b[1;32m----> 2\u001b[0m result \u001b[38;5;241m=\u001b[39m [num \u001b[38;5;28;01mfor\u001b[39;00m num \u001b[38;5;129;01min\u001b[39;00m numbers \u001b[38;5;28;01mif\u001b[39;00m num\u001b[38;5;241m%\u001b[39m\u001b[38;5;241m2\u001b[39m\u001b[38;5;241m==\u001b[39m\u001b[38;5;241m0\u001b[39m]\n\u001b[0;32m      3\u001b[0m result\n",
      "\u001b[1;31mTypeError\u001b[0m: unsupported operand type(s) for %: 'list' and 'int'"
     ]
    }
   ],
   "source": [
    "\n",
    "result = []\n",
    "result = [num for num in numbers if num%2==0]\n",
    "result"
   ]
  },
  {
   "cell_type": "code",
   "execution_count": 170,
   "id": "37b6e70d-d537-494c-a34d-c0c88c3b171f",
   "metadata": {},
   "outputs": [
    {
     "data": {
      "text/plain": [
       "[[200, 300, 400, 500], 100, 10, 9, 8, 7, 6, 5, 4, 3, 2, 1]"
      ]
     },
     "execution_count": 170,
     "metadata": {},
     "output_type": "execute_result"
    }
   ],
   "source": [
    "numbers[::-1]"
   ]
  },
  {
   "cell_type": "code",
   "execution_count": 186,
   "id": "deee25ce-afb4-4d1a-9d38-6fbd43c55282",
   "metadata": {},
   "outputs": [],
   "source": [
    "member = {'name':'홍길동,\"age\":20','address':'서울시 금천구','score':'90'}\n"
   ]
  },
  {
   "cell_type": "code",
   "execution_count": 187,
   "id": "38e2c71a-ba82-4c01-b3e1-e53828406a42",
   "metadata": {},
   "outputs": [
    {
     "name": "stdout",
     "output_type": "stream",
     "text": [
      "서울시 금천구\n"
     ]
    }
   ],
   "source": [
    "print(dic['address'])"
   ]
  },
  {
   "cell_type": "code",
   "execution_count": 188,
   "id": "5cfea378-8287-43ea-b752-bd7cbfa54a27",
   "metadata": {},
   "outputs": [
    {
     "ename": "KeyError",
     "evalue": "'score'",
     "output_type": "error",
     "traceback": [
      "\u001b[1;31m---------------------------------------------------------------------------\u001b[0m",
      "\u001b[1;31mKeyError\u001b[0m                                  Traceback (most recent call last)",
      "Cell \u001b[1;32mIn[188], line 1\u001b[0m\n\u001b[1;32m----> 1\u001b[0m \u001b[38;5;28mprint\u001b[39m(dic[\u001b[38;5;124m'\u001b[39m\u001b[38;5;124mscore\u001b[39m\u001b[38;5;124m'\u001b[39m])\n",
      "\u001b[1;31mKeyError\u001b[0m: 'score'"
     ]
    }
   ],
   "source": [
    "print(dic['score'])\n"
   ]
  },
  {
   "cell_type": "code",
   "execution_count": 185,
   "id": "74de2dcf-512c-4668-8bb4-2bacdf611e4a",
   "metadata": {},
   "outputs": [
    {
     "ename": "KeyError",
     "evalue": "'score'",
     "output_type": "error",
     "traceback": [
      "\u001b[1;31m---------------------------------------------------------------------------\u001b[0m",
      "\u001b[1;31mKeyError\u001b[0m                                  Traceback (most recent call last)",
      "Cell \u001b[1;32mIn[185], line 1\u001b[0m\n\u001b[1;32m----> 1\u001b[0m \u001b[38;5;28;01mdel\u001b[39;00m dic[\u001b[38;5;124m'\u001b[39m\u001b[38;5;124mscore\u001b[39m\u001b[38;5;124m'\u001b[39m]\n",
      "\u001b[1;31mKeyError\u001b[0m: 'score'"
     ]
    }
   ],
   "source": [
    "del dic['score']"
   ]
  },
  {
   "cell_type": "code",
   "execution_count": null,
   "id": "dcc719a6-6e90-4494-b05a-2e6dcc19b84d",
   "metadata": {},
   "outputs": [],
   "source": []
  }
 ],
 "metadata": {
  "kernelspec": {
   "display_name": "Python 3 (ipykernel)",
   "language": "python",
   "name": "python3"
  },
  "language_info": {
   "codemirror_mode": {
    "name": "ipython",
    "version": 3
   },
   "file_extension": ".py",
   "mimetype": "text/x-python",
   "name": "python",
   "nbconvert_exporter": "python",
   "pygments_lexer": "ipython3",
   "version": "3.12.3"
  }
 },
 "nbformat": 4,
 "nbformat_minor": 5
}
