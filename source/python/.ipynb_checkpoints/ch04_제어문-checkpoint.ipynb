{
 "cells": [
  {
   "cell_type": "markdown",
   "id": "37b6ca9c-f3f0-45fe-aad9-79026321ad68",
   "metadata": {},
   "source": [
    "ch04. 제어문\n",
    "\n",
    "-if문, for-in문, while문\n"
   ]
  },
  {
   "cell_type": "markdown",
   "id": "035a0133-116c-4973-9adc-815587de4ae0",
   "metadata": {},
   "source": [
    "## 1. if문\n"
   ]
  },
  {
   "cell_type": "code",
   "execution_count": 30,
   "id": "96383ca1-d539-4df3-8196-546d12918a7f",
   "metadata": {},
   "outputs": [
    {
     "name": "stdin",
     "output_type": "stream",
     "text": [
      "hong Enter your score >> 65\n"
     ]
    },
    {
     "name": "stdout",
     "output_type": "stream",
     "text": [
      "입력하신 점수는 65점이고, 등급은 D등급입니다.\n"
     ]
    }
   ],
   "source": [
    "#점수를 입력받아 학점출력\n",
    "name = 'hong'\n",
    "score =int(input(name +' Enter your score >>')) #이럴 경우는 어쩔 수 없이 이 형태로 출력\n",
    "if 90 <= score <= 100:\n",
    "    grade = 'A'\n",
    "elif 80 <= score < 90:\n",
    "    grade = 'B' #들여쓰기 유의하자\n",
    "elif 70 <= score < 80:\n",
    "    grade = 'C'\n",
    "elif 60 <= score < 70:\n",
    "    grade = 'D'\n",
    "elif 0 <= score < 60:\n",
    "    grade = 'F'\n",
    "else:\n",
    "    grade = '유효하지 않은 점수'\n",
    "print(\"입력하신 점수는 {}점이고, 등급은 {}등급입니다.\".format(score,grade))"
   ]
  },
  {
   "cell_type": "markdown",
   "id": "b316ecae-2935-42e5-9f2a-559d7cfef335",
   "metadata": {},
   "source": [
    "# 2. for - in 문\n",
    "```\n",
    "for 변수 in 나열이가능한 자료형:\n",
    "    반복할 문장1\n",
    "    반복할 문장2  들여쓰기에 유의하자\n",
    "else:  변수에 값이 할당되지 않은 경우 한번 실행할 문장 /else구문은 선택사항\n",
    "       for문 안에 break가 있을 경우 else블럭 수행되지 않음   \n",
    "```"
   ]
  },
  {
   "cell_type": "code",
   "execution_count": 15,
   "id": "5f77b0da-264d-4b57-b3f1-1eb7a19e6733",
   "metadata": {},
   "outputs": [
    {
     "data": {
      "text/plain": [
       "[1, 3, 5, 7, 9]"
      ]
     },
     "execution_count": 15,
     "metadata": {},
     "output_type": "execute_result"
    }
   ],
   "source": [
    "list(range(1,10,2))"
   ]
  },
  {
   "cell_type": "code",
   "execution_count": 18,
   "id": "55af1def-7ed5-4b7e-91d0-30aa7e793874",
   "metadata": {},
   "outputs": [
    {
     "name": "stdout",
     "output_type": "stream",
     "text": [
      "1\t3\t5\t7\t9\t\n",
      "Done\n",
      "END\n"
     ]
    }
   ],
   "source": [
    "for i in range(1,10,2):\n",
    "    print(i, end='\\t')\n",
    "else : \n",
    "    print(\"\\nDone\")\n",
    "print(\"END\")"
   ]
  },
  {
   "cell_type": "code",
   "execution_count": 21,
   "id": "320274f8-06bc-480f-a859-caf3ac3198c9",
   "metadata": {},
   "outputs": [
    {
     "name": "stdout",
     "output_type": "stream",
     "text": [
      "1\n",
      "3\n",
      "5\n",
      "7\n",
      "9\n",
      "Done\n",
      "END\n"
     ]
    }
   ],
   "source": [
    "for i in range(1,10,2):\n",
    "    print(i) #end = \\t가 아니면 default로 end='\\n'할당\n",
    "else : \n",
    "    print(\"Done\")\n",
    "print(\"END\")"
   ]
  },
  {
   "cell_type": "code",
   "execution_count": 22,
   "id": "53015008-3d15-4724-9fad-8ab3ebeb5889",
   "metadata": {},
   "outputs": [
    {
     "name": "stdout",
     "output_type": "stream",
     "text": [
      "1 입니다\n",
      "3 입니다\n",
      "5 입니다\n",
      "7 입니다\n",
      "9 입니다\n",
      "Done\n",
      "END\n"
     ]
    }
   ],
   "source": [
    "for i in range(1,10,2):\n",
    "    print(i,\"입니다\") #end = \\t가 아니면 default로 end='\\n'할당\n",
    "else : \n",
    "    print(\"Done\")\n",
    "print(\"END\")"
   ]
  },
  {
   "cell_type": "code",
   "execution_count": 29,
   "id": "2772c23d-1fdf-48ed-890e-0010d9be2bb5",
   "metadata": {},
   "outputs": [
    {
     "name": "stdout",
     "output_type": "stream",
     "text": [
      "1부터 100까지의 짝수의 합은? 2550\n"
     ]
    }
   ],
   "source": [
    "# 1~100까지 짝수의 합을 계산하고 출력하시오\n",
    "sum = 0\n",
    "for num in range(1,101):\n",
    "    if num%2==0:\n",
    "        sum += num\n",
    "print(\"1부터 100까지의 짝수의 합은?\",sum)"
   ]
  },
  {
   "cell_type": "markdown",
   "id": "a2d78b80-7e1b-48fb-8770-aae12d7ff447",
   "metadata": {},
   "source": [
    "# 3. while문\n",
    "```\n",
    "while 조건:\n",
    "    반복문장 1\n",
    "    반복문장 2\n",
    "else:\n",
    "    조건이 거짓일 경우 한번 수행할 문장(else 선택사항)\n",
    "    break를 통해 빠져 나올때는 else블럭은 수행하지 않음\n",
    "```"
   ]
  },
  {
   "cell_type": "code",
   "execution_count": 35,
   "id": "ac62424c-09ee-4d4c-9c32-8bb43f6ee4de",
   "metadata": {},
   "outputs": [
    {
     "name": "stdin",
     "output_type": "stream",
     "text": [
      "첫번째 정수를 입력하세요 2\n",
      "첫번째 정수보다 큰 정수를 입력하세요 10\n"
     ]
    },
    {
     "name": "stdout",
     "output_type": "stream",
     "text": [
      "400\n"
     ]
    }
   ],
   "source": [
    "#사용자에게 두수를 입력받아 첫번째(작은수)수부터 두번째(큰수)입력한 수까지 홀 수의 합을 누적합니다.\n",
    "num1 = int(input(\"첫번째 정수를 입력하세요\"))\n",
    "num2 = int(input(\"첫번째 정수보다 큰 정수를 입력하세요\"))\n",
    "sum = 0 #누적변수\n",
    "while(num1):\n",
    "    if(num1%2==1):\n",
    "        sum += num\n",
    "\n",
    "    num1 +=1\n",
    "    if(num1==num2):\n",
    "        break;\n",
    "print(sum)"
   ]
  },
  {
   "cell_type": "code",
   "execution_count": 42,
   "id": "09ca743f-cb41-4ab8-aa9b-81445b5f5711",
   "metadata": {},
   "outputs": [
    {
     "name": "stdin",
     "output_type": "stream",
     "text": [
      "첫번째 정수를 입력하세요 1\n",
      "첫번째 정수보다 큰 정수를 입력하세요 5\n"
     ]
    },
    {
     "name": "stdout",
     "output_type": "stream",
     "text": [
      "1부터 5까지 누적합은 9입니다\n"
     ]
    }
   ],
   "source": [
    "#사용자에게 두수를 입력받아 첫번째(작은수)수부터 두번째(큰수)입력한 수까지 홀 수의 합을 누적합니다.\n",
    "n1 = int(input(\"첫번째 정수를 입력하세요\"))\n",
    "n2 = int(input(\"첫번째 정수보다 큰 정수를 입력하세요\"))\n",
    "sum = 0 #누적변수\n",
    "i = n1;\n",
    "while(i<=n2):\n",
    "    if i%2 != 0: #(i%2==1)|(i%2==-1): #i%2 != 0\n",
    "        sum += i\n",
    "    i += 1   \n",
    "    \n",
    "print(\"{}부터 {}까지 누적합은 {}입니다\".format(n1,n2,sum))"
   ]
  },
  {
   "cell_type": "markdown",
   "id": "988b60ba-e5ee-4b13-a28b-2cc0a1658c46",
   "metadata": {},
   "source": [
    "# 4. break, continue"
   ]
  },
  {
   "cell_type": "code",
   "execution_count": 46,
   "id": "d0d54daf-3859-44a7-9eb0-311a8bed1f2d",
   "metadata": {},
   "outputs": [
    {
     "name": "stdout",
     "output_type": "stream",
     "text": [
      "num=1\tnum=2\t"
     ]
    }
   ],
   "source": [
    "num = 0\n",
    "while num <= 10:\n",
    "    num += 1\n",
    "    if num == 3:\n",
    "        break;\n",
    "    print(\"num={}\".format(num),end='\\t')"
   ]
  },
  {
   "cell_type": "code",
   "execution_count": 48,
   "id": "b7880ab6-477c-4709-b978-03030e887e41",
   "metadata": {},
   "outputs": [
    {
     "name": "stdout",
     "output_type": "stream",
     "text": [
      "num=1\tnum=2\tnum=4\tnum=5\tnum=6\tnum=7\tnum=8\tnum=9\tnum=10\tnum=11\t"
     ]
    }
   ],
   "source": [
    "num = 0\n",
    "while num <= 10:\n",
    "    num += 1\n",
    "    if num == 3:\n",
    "        continue;\n",
    "    print(\"num={}\".format(num),end='\\t')"
   ]
  },
  {
   "cell_type": "markdown",
   "id": "fd5498a8-a2fb-40d8-a703-f2382dd8f3ad",
   "metadata": {},
   "source": [
    "# 5. 이중 loop "
   ]
  },
  {
   "cell_type": "code",
   "execution_count": 50,
   "id": "aaff63bd-f051-4e35-9749-ed39e7a29f19",
   "metadata": {},
   "outputs": [
    {
     "name": "stdout",
     "output_type": "stream",
     "text": [
      "2 x 1 =  2\t3 x 1 =  3\t4 x 1 =  4\t5 x 1 =  5\t6 x 1 =  6\t7 x 1 =  7\t8 x 1 =  8\t9 x 1 =  9\t\n",
      "2 x 2 =  4\t3 x 2 =  6\t4 x 2 =  8\t5 x 2 = 10\t6 x 2 = 12\t7 x 2 = 14\t8 x 2 = 16\t9 x 2 = 18\t\n",
      "2 x 3 =  6\t3 x 3 =  9\t4 x 3 = 12\t5 x 3 = 15\t6 x 3 = 18\t7 x 3 = 21\t8 x 3 = 24\t9 x 3 = 27\t\n",
      "2 x 4 =  8\t3 x 4 = 12\t4 x 4 = 16\t5 x 4 = 20\t6 x 4 = 24\t7 x 4 = 28\t8 x 4 = 32\t9 x 4 = 36\t\n",
      "2 x 5 = 10\t3 x 5 = 15\t4 x 5 = 20\t5 x 5 = 25\t6 x 5 = 30\t7 x 5 = 35\t8 x 5 = 40\t9 x 5 = 45\t\n",
      "2 x 6 = 12\t3 x 6 = 18\t4 x 6 = 24\t5 x 6 = 30\t6 x 6 = 36\t7 x 6 = 42\t8 x 6 = 48\t9 x 6 = 54\t\n",
      "2 x 7 = 14\t3 x 7 = 21\t4 x 7 = 28\t5 x 7 = 35\t6 x 7 = 42\t7 x 7 = 49\t8 x 7 = 56\t9 x 7 = 63\t\n",
      "2 x 8 = 16\t3 x 8 = 24\t4 x 8 = 32\t5 x 8 = 40\t6 x 8 = 48\t7 x 8 = 56\t8 x 8 = 64\t9 x 8 = 72\t\n",
      "2 x 9 = 18\t3 x 9 = 27\t4 x 9 = 36\t5 x 9 = 45\t6 x 9 = 54\t7 x 9 = 63\t8 x 9 = 72\t9 x 9 = 81\t\n"
     ]
    }
   ],
   "source": [
    "for i in range(1,10):\n",
    "    for j in range (2,10):\n",
    "        print(\"{} x {} = {:>2}\\t\".format(j,i,i*j),end='') # end='' 키워드 인수\n",
    "    print() #개행용도"
   ]
  },
  {
   "cell_type": "markdown",
   "id": "1ef1c852-b9cb-4821-aa23-9872d059bdc5",
   "metadata": {},
   "source": [
    "# 연습문제"
   ]
  },
  {
   "cell_type": "code",
   "execution_count": 105,
   "id": "3dec0dd2-c189-4b9f-b705-b540a5edf1dd",
   "metadata": {},
   "outputs": [
    {
     "name": "stdout",
     "output_type": "stream",
     "text": [
      "5번 남았습니다.\n",
      "1~100사이의 숫자를 넣어주세요\n"
     ]
    },
    {
     "name": "stdin",
     "output_type": "stream",
     "text": [
      "숫자를 입력해주세요 5\n"
     ]
    },
    {
     "name": "stdout",
     "output_type": "stream",
     "text": [
      "숫자가 더 작습니다 up\n",
      "4번 남았습니다.\n",
      "6~100사이의 숫자를 넣어주세요\n"
     ]
    },
    {
     "name": "stdin",
     "output_type": "stream",
     "text": [
      "숫자를 입력해주세요 4\n"
     ]
    },
    {
     "name": "stdout",
     "output_type": "stream",
     "text": [
      "잘못된 입력입니다 6~100 사이의 숫자를 넣어주세요\n",
      "3번 남았습니다.\n",
      "6~100사이의 숫자를 넣어주세요\n"
     ]
    },
    {
     "name": "stdin",
     "output_type": "stream",
     "text": [
      "숫자를 입력해주세요 42\n"
     ]
    },
    {
     "name": "stdout",
     "output_type": "stream",
     "text": [
      "정답입니다.\n",
      "축하합니다. 3번 만에 맞췄습니다.\n"
     ]
    }
   ],
   "source": [
    "# 1~100까지 컴퓨터가 발생한 난수 알아맞추기(최소값과 최대값을 줄여가며 범위 출력)\n",
    "import random\n",
    "random.seed(7) #\n",
    "rand = random.randint(1,100) #1~100 난수 발생\n",
    "\n",
    "max = 100\n",
    "min = 1\n",
    "\n",
    "\n",
    "for i in range(5,0,-1):\n",
    "    print(\"({}번 남았습니다.)\".format(i))\n",
    "    print(\"{}~{}사이의 숫자를 넣어주세요\".format(min,max))\n",
    "    \n",
    "    num = int(input(\"숫자를 입력해주세요\"))\n",
    "    if (num > max) | (num < min):\n",
    "        print(\"잘못된 입력입니다 {}~{} 사이의 숫자를 넣어주세요\".format(min,max))\n",
    "    elif num>rand:\n",
    "        print(\"숫자가 더 큽니다. Down\")\n",
    "        max = num - 1\n",
    "    elif num<rand:\n",
    "        print(\"숫자가 더 작습니다 up\")\n",
    "        min = num + 1\n",
    "    elif num == rand:\n",
    "        print(\"정답입니다.\")\n",
    "        print(\"축하합니다. {}번 만에 맞췄습니다.\".format(6-i)) \n",
    "        break\n",
    "else:\n",
    "    print(\"기회를 모두 사용하였습니다.\")"
   ]
  },
  {
   "cell_type": "code",
   "execution_count": 100,
   "id": "8887e425-3a39-4f4d-9ae8-2d00aec82033",
   "metadata": {},
   "outputs": [
    {
     "name": "stdout",
     "output_type": "stream",
     "text": [
      "{}\n"
     ]
    }
   ],
   "source": [
    "# 2. 중복되지 않은 로또 번호를 오름차순 정렬하여 출력하시오\n",
    "# (set.add())\n",
    "# 정렬시에는 list.sort함수 이용\n",
    "# while 이용 \n",
    "\n",
    "import random\n",
    "random.seed(7) #\n",
    "rand = {}\n",
    "num = 0\n",
    "\n",
    "while(len(rand)):\n",
    "    num = (random.randint(1,100))\n",
    "    rand.add(num)\n",
    "    \n",
    "    if len(rand) == 6:\n",
    "        break\n",
    "            \n",
    "print(rand)\n",
    "\n",
    "             "
   ]
  },
  {
   "cell_type": "code",
   "execution_count": null,
   "id": "6bc3ed63-221c-4b9c-af96-e2ade1d927a1",
   "metadata": {},
   "outputs": [],
   "source": []
  }
 ],
 "metadata": {
  "kernelspec": {
   "display_name": "Python 3 (ipykernel)",
   "language": "python",
   "name": "python3"
  },
  "language_info": {
   "codemirror_mode": {
    "name": "ipython",
    "version": 3
   },
   "file_extension": ".py",
   "mimetype": "text/x-python",
   "name": "python",
   "nbconvert_exporter": "python",
   "pygments_lexer": "ipython3",
   "version": "3.12.3"
  }
 },
 "nbformat": 4,
 "nbformat_minor": 5
}
