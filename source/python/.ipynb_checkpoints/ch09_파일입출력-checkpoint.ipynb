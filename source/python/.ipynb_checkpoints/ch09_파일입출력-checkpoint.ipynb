{
 "cells": [
  {
   "cell_type": "markdown",
   "id": "f93dd083-1473-4965-a370-fc9dbb458262",
   "metadata": {},
   "source": [
    "ch 09 파일 입출력"
   ]
  },
  {
   "cell_type": "markdown",
   "id": "655a8222-f6f1-4aa6-9460-300d8879d1a9",
   "metadata": {},
   "source": [
    "# 1. 파일에 데이터를 저장하고 불러오기\n",
    "입력 스트림은 입력만, 출력 스트림은 출력만 가능하다."
   ]
  },
  {
   "cell_type": "code",
   "execution_count": 12,
   "id": "3c7b6e83-ea2b-4a58-a970-c9c536a9841d",
   "metadata": {},
   "outputs": [
    {
     "name": "stdout",
     "output_type": "stream",
     "text": [
      "True\n"
     ]
    }
   ],
   "source": [
    "# w : 있는 파일은 기존의 파일에 덮어쓰고 없는 파일은 생성\n",
    "# a : 있는 파일은 추가 / 없는 파일은 \n",
    "# r : 읽기 전용\n",
    "f = open('data/ch09.txt','a') #새롭게 파일을 하나 만들어서 스트림 연결  w (출력)모드 -> read는 불가능\n",
    "print(f.writable())           # encoding 기본값 CP949"
   ]
  },
  {
   "cell_type": "code",
   "execution_count": 13,
   "id": "6231603b-0d20-4fef-9a07-60039e47e9b6",
   "metadata": {},
   "outputs": [],
   "source": [
    "f.write('Hello\\nworld\\nHello\\nPython\\n') # 한글은 CP949\n",
    "f.write('여러번 write 가능\\n')\n",
    "# close를 하지 않으면 텍스트가 추가되지 않음\n",
    "f.close()"
   ]
  },
  {
   "cell_type": "code",
   "execution_count": 14,
   "id": "39f8935e-5d08-4952-a0a4-04599ea5d390",
   "metadata": {},
   "outputs": [
    {
     "name": "stdout",
     "output_type": "stream",
     "text": [
      "['Hello\\n', 'world\\n', 'Hello\\n', 'Python\\n', '여러번 write 가능\\n', 'Hello\\n', 'world\\n', 'Hello\\n', 'Python\\n', '여러번 write 가능\\n']\n"
     ]
    }
   ],
   "source": [
    "with open('data/ch09.txt','r') as f:\n",
    "    data = f.readlines()\n",
    "    print(data)"
   ]
  },
  {
   "cell_type": "code",
   "execution_count": 15,
   "id": "d1caddeb-ac91-4471-831c-4cd19fb0b4b2",
   "metadata": {},
   "outputs": [],
   "source": [
    "with open('data/ch09.txt','w') as f:\n",
    "    print('Python is easy\\n',file=f)"
   ]
  },
  {
   "cell_type": "code",
   "execution_count": 10,
   "id": "a4834a45-d81f-409a-abb6-3c29c9ebb0d8",
   "metadata": {},
   "outputs": [
    {
     "name": "stdout",
     "output_type": "stream",
     "text": [
      "홍길동,20,hong@hong.com,서울시 강동구\n",
      "윤길서,31,yun@hong.com,서울시 강서구\n",
      "양길남,31,yang@hong.com,서울시 강남구\n",
      "이길북,26,lee@hong.com,서울시 강서구\n",
      "김길동,31,kimk@hong.com,서울시 강북구\n",
      "\n"
     ]
    }
   ],
   "source": [
    "# UTF-8 인코딩 된 CSV파일을 read\n",
    "with open('data/ch09_member1.csv','r',encoding = 'utf-8') as f:\n",
    "    data = f.readlines()\n",
    "    for row in data:\n",
    "        print(row,end='')"
   ]
  },
  {
   "cell_type": "code",
   "execution_count": 12,
   "id": "97cd3ce4-6a00-48da-beaf-8497da42a993",
   "metadata": {},
   "outputs": [
    {
     "data": {
      "text/html": [
       "<div>\n",
       "<style scoped>\n",
       "    .dataframe tbody tr th:only-of-type {\n",
       "        vertical-align: middle;\n",
       "    }\n",
       "\n",
       "    .dataframe tbody tr th {\n",
       "        vertical-align: top;\n",
       "    }\n",
       "\n",
       "    .dataframe thead th {\n",
       "        text-align: right;\n",
       "    }\n",
       "</style>\n",
       "<table border=\"1\" class=\"dataframe\">\n",
       "  <thead>\n",
       "    <tr style=\"text-align: right;\">\n",
       "      <th></th>\n",
       "      <th>이름</th>\n",
       "      <th>나이</th>\n",
       "      <th>이메일</th>\n",
       "      <th>주소</th>\n",
       "    </tr>\n",
       "  </thead>\n",
       "  <tbody>\n",
       "    <tr>\n",
       "      <th>0</th>\n",
       "      <td>윤길서</td>\n",
       "      <td>31</td>\n",
       "      <td>yun@hong.com</td>\n",
       "      <td>서울시 강서구</td>\n",
       "    </tr>\n",
       "    <tr>\n",
       "      <th>1</th>\n",
       "      <td>양길남</td>\n",
       "      <td>31</td>\n",
       "      <td>yang@hong.com</td>\n",
       "      <td>서울시 강남구</td>\n",
       "    </tr>\n",
       "    <tr>\n",
       "      <th>2</th>\n",
       "      <td>이길북</td>\n",
       "      <td>26</td>\n",
       "      <td>lee@hong.com</td>\n",
       "      <td>서울시 강서구</td>\n",
       "    </tr>\n",
       "    <tr>\n",
       "      <th>3</th>\n",
       "      <td>김길동</td>\n",
       "      <td>31</td>\n",
       "      <td>kimk@hong.com</td>\n",
       "      <td>서울시 강북구</td>\n",
       "    </tr>\n",
       "  </tbody>\n",
       "</table>\n",
       "</div>"
      ],
      "text/plain": [
       "    이름  나이            이메일       주소\n",
       "0  윤길서  31   yun@hong.com  서울시 강서구\n",
       "1  양길남  31  yang@hong.com  서울시 강남구\n",
       "2  이길북  26   lee@hong.com  서울시 강서구\n",
       "3  김길동  31  kimk@hong.com  서울시 강북구"
      ]
     },
     "execution_count": 12,
     "metadata": {},
     "output_type": "execute_result"
    }
   ],
   "source": [
    "import pandas as pd\n",
    "member1 = pd.read_csv(\"data/ch09_member1.csv\")\n",
    "member1.columns=['이름','나이','이메일','주소']\n",
    "member1"
   ]
  },
  {
   "cell_type": "code",
   "execution_count": 20,
   "id": "c46ada2e-7df6-4fb1-9c6a-bba7f0c786d5",
   "metadata": {},
   "outputs": [
    {
     "data": {
      "text/html": [
       "<div>\n",
       "<style scoped>\n",
       "    .dataframe tbody tr th:only-of-type {\n",
       "        vertical-align: middle;\n",
       "    }\n",
       "\n",
       "    .dataframe tbody tr th {\n",
       "        vertical-align: top;\n",
       "    }\n",
       "\n",
       "    .dataframe thead th {\n",
       "        text-align: right;\n",
       "    }\n",
       "</style>\n",
       "<table border=\"1\" class=\"dataframe\">\n",
       "  <thead>\n",
       "    <tr style=\"text-align: right;\">\n",
       "      <th></th>\n",
       "      <th>name</th>\n",
       "      <th>age</th>\n",
       "      <th>email</th>\n",
       "      <th>address</th>\n",
       "    </tr>\n",
       "  </thead>\n",
       "  <tbody>\n",
       "    <tr>\n",
       "      <th>0</th>\n",
       "      <td>윤길서</td>\n",
       "      <td>31</td>\n",
       "      <td>yun@hong.com</td>\n",
       "      <td>서울시 강서구</td>\n",
       "    </tr>\n",
       "    <tr>\n",
       "      <th>1</th>\n",
       "      <td>양길남</td>\n",
       "      <td>31</td>\n",
       "      <td>yang@hong.com</td>\n",
       "      <td>서울시 강남구</td>\n",
       "    </tr>\n",
       "    <tr>\n",
       "      <th>2</th>\n",
       "      <td>이길북</td>\n",
       "      <td>26</td>\n",
       "      <td>lee@hong.com</td>\n",
       "      <td>서울시 강서구</td>\n",
       "    </tr>\n",
       "    <tr>\n",
       "      <th>3</th>\n",
       "      <td>김길동</td>\n",
       "      <td>31</td>\n",
       "      <td>kimk@hong.com</td>\n",
       "      <td>서울시 강북구</td>\n",
       "    </tr>\n",
       "  </tbody>\n",
       "</table>\n",
       "</div>"
      ],
      "text/plain": [
       "  name  age          email  address\n",
       "0  윤길서   31   yun@hong.com  서울시 강서구\n",
       "1  양길남   31  yang@hong.com  서울시 강남구\n",
       "2  이길북   26   lee@hong.com  서울시 강서구\n",
       "3  김길동   31  kimk@hong.com  서울시 강북구"
      ]
     },
     "execution_count": 20,
     "metadata": {},
     "output_type": "execute_result"
    }
   ],
   "source": [
    "import pandas as pd\n",
    "member1 = pd.read_csv(\"data/ch09_member1.csv\")\n",
    "member1.columns=['name','age','email','address']\n",
    "member1"
   ]
  },
  {
   "cell_type": "code",
   "execution_count": 21,
   "id": "79bf678e-d23a-4332-9400-b92007e92efd",
   "metadata": {},
   "outputs": [
    {
     "data": {
      "text/plain": [
       "pandas.core.frame.DataFrame"
      ]
     },
     "execution_count": 21,
     "metadata": {},
     "output_type": "execute_result"
    }
   ],
   "source": [
    "type(member1)"
   ]
  },
  {
   "cell_type": "code",
   "execution_count": 18,
   "id": "1546fcc3-7e7e-4e6a-8665-4e4e66cc2893",
   "metadata": {},
   "outputs": [],
   "source": [
    "member2 = pd.read_csv('data/ch09_member2.csv',nrows=3)"
   ]
  },
  {
   "cell_type": "code",
   "execution_count": 19,
   "id": "13fa4f31-0ce0-4994-91ed-a02c82c025ba",
   "metadata": {},
   "outputs": [
    {
     "data": {
      "text/html": [
       "<div>\n",
       "<style scoped>\n",
       "    .dataframe tbody tr th:only-of-type {\n",
       "        vertical-align: middle;\n",
       "    }\n",
       "\n",
       "    .dataframe tbody tr th {\n",
       "        vertical-align: top;\n",
       "    }\n",
       "\n",
       "    .dataframe thead th {\n",
       "        text-align: right;\n",
       "    }\n",
       "</style>\n",
       "<table border=\"1\" class=\"dataframe\">\n",
       "  <thead>\n",
       "    <tr style=\"text-align: right;\">\n",
       "      <th></th>\n",
       "      <th>name</th>\n",
       "      <th>age</th>\n",
       "      <th>email</th>\n",
       "      <th>address</th>\n",
       "    </tr>\n",
       "  </thead>\n",
       "  <tbody>\n",
       "    <tr>\n",
       "      <th>0</th>\n",
       "      <td>홍길동</td>\n",
       "      <td>20</td>\n",
       "      <td>hong@hong.com</td>\n",
       "      <td>서울시 강동구</td>\n",
       "    </tr>\n",
       "    <tr>\n",
       "      <th>1</th>\n",
       "      <td>윤길서</td>\n",
       "      <td>31</td>\n",
       "      <td>yun@hong.com</td>\n",
       "      <td>서울시 강서구</td>\n",
       "    </tr>\n",
       "    <tr>\n",
       "      <th>2</th>\n",
       "      <td>양길남</td>\n",
       "      <td>31</td>\n",
       "      <td>yang@hong.com</td>\n",
       "      <td>서울시 강남구</td>\n",
       "    </tr>\n",
       "  </tbody>\n",
       "</table>\n",
       "</div>"
      ],
      "text/plain": [
       "  name  age          email  address\n",
       "0  홍길동   20  hong@hong.com  서울시 강동구\n",
       "1  윤길서   31   yun@hong.com  서울시 강서구\n",
       "2  양길남   31  yang@hong.com  서울시 강남구"
      ]
     },
     "execution_count": 19,
     "metadata": {},
     "output_type": "execute_result"
    }
   ],
   "source": [
    "member2"
   ]
  },
  {
   "cell_type": "code",
   "execution_count": 25,
   "id": "6ffd6453-585a-4fb3-a214-7d89d97b9c8e",
   "metadata": {},
   "outputs": [
    {
     "data": {
      "text/html": [
       "<div>\n",
       "<style scoped>\n",
       "    .dataframe tbody tr th:only-of-type {\n",
       "        vertical-align: middle;\n",
       "    }\n",
       "\n",
       "    .dataframe tbody tr th {\n",
       "        vertical-align: top;\n",
       "    }\n",
       "\n",
       "    .dataframe thead th {\n",
       "        text-align: right;\n",
       "    }\n",
       "</style>\n",
       "<table border=\"1\" class=\"dataframe\">\n",
       "  <thead>\n",
       "    <tr style=\"text-align: right;\">\n",
       "      <th></th>\n",
       "      <th>name</th>\n",
       "      <th>age</th>\n",
       "      <th>email</th>\n",
       "      <th>address</th>\n",
       "    </tr>\n",
       "  </thead>\n",
       "  <tbody>\n",
       "    <tr>\n",
       "      <th>0</th>\n",
       "      <td>윤길서</td>\n",
       "      <td>31</td>\n",
       "      <td>yun@hong.com</td>\n",
       "      <td>서울시 강서구</td>\n",
       "    </tr>\n",
       "    <tr>\n",
       "      <th>1</th>\n",
       "      <td>양길남</td>\n",
       "      <td>31</td>\n",
       "      <td>yang@hong.com</td>\n",
       "      <td>서울시 강남구</td>\n",
       "    </tr>\n",
       "    <tr>\n",
       "      <th>2</th>\n",
       "      <td>이길북</td>\n",
       "      <td>26</td>\n",
       "      <td>lee@hong.com</td>\n",
       "      <td>서울시 강서구</td>\n",
       "    </tr>\n",
       "    <tr>\n",
       "      <th>3</th>\n",
       "      <td>김길동</td>\n",
       "      <td>31</td>\n",
       "      <td>kimk@hong.com</td>\n",
       "      <td>서울시 강북구</td>\n",
       "    </tr>\n",
       "    <tr>\n",
       "      <th>0</th>\n",
       "      <td>홍길동</td>\n",
       "      <td>20</td>\n",
       "      <td>hong@hong.com</td>\n",
       "      <td>서울시 강동구</td>\n",
       "    </tr>\n",
       "    <tr>\n",
       "      <th>1</th>\n",
       "      <td>윤길서</td>\n",
       "      <td>31</td>\n",
       "      <td>yun@hong.com</td>\n",
       "      <td>서울시 강서구</td>\n",
       "    </tr>\n",
       "    <tr>\n",
       "      <th>2</th>\n",
       "      <td>양길남</td>\n",
       "      <td>31</td>\n",
       "      <td>yang@hong.com</td>\n",
       "      <td>서울시 강남구</td>\n",
       "    </tr>\n",
       "  </tbody>\n",
       "</table>\n",
       "</div>"
      ],
      "text/plain": [
       "  name  age          email  address\n",
       "0  윤길서   31   yun@hong.com  서울시 강서구\n",
       "1  양길남   31  yang@hong.com  서울시 강남구\n",
       "2  이길북   26   lee@hong.com  서울시 강서구\n",
       "3  김길동   31  kimk@hong.com  서울시 강북구\n",
       "0  홍길동   20  hong@hong.com  서울시 강동구\n",
       "1  윤길서   31   yun@hong.com  서울시 강서구\n",
       "2  양길남   31  yang@hong.com  서울시 강남구"
      ]
     },
     "execution_count": 25,
     "metadata": {},
     "output_type": "execute_result"
    }
   ],
   "source": [
    "member = pd.concat([member1,member2])\n",
    "member"
   ]
  },
  {
   "cell_type": "code",
   "execution_count": 26,
   "id": "ca684b79-a67a-42ee-9654-9784ee46641c",
   "metadata": {},
   "outputs": [],
   "source": [
    "member.to_csv('data/ch09_member.csv',index=False)"
   ]
  },
  {
   "cell_type": "code",
   "execution_count": null,
   "id": "de84039f-80a2-4dc3-bd1a-f803a30ee88e",
   "metadata": {},
   "outputs": [],
   "source": []
  }
 ],
 "metadata": {
  "kernelspec": {
   "display_name": "Python 3 (ipykernel)",
   "language": "python",
   "name": "python3"
  },
  "language_info": {
   "codemirror_mode": {
    "name": "ipython",
    "version": 3
   },
   "file_extension": ".py",
   "mimetype": "text/x-python",
   "name": "python",
   "nbconvert_exporter": "python",
   "pygments_lexer": "ipython3",
   "version": "3.12.3"
  }
 },
 "nbformat": 4,
 "nbformat_minor": 5
}
