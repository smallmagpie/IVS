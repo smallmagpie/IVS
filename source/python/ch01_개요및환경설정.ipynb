{
 "cells": [
  {
   "cell_type": "markdown",
   "id": "4700c6df",
   "metadata": {},
   "source": [
    "# 1.주피터 노트북 사용법(큰 제목)\n",
    "    - shift + enter : 포커스된 셀이 실행되고 다음셀로 이동\n",
    "    - alt + enter : 포커스된 셀이 실행되고 다음셀이 생성된 후 이동\n",
    "    - ctrl + enter : 포커스된 셀이 실행되고 포커스 이동 없음\n",
    "    - Enter : 셀이 포커스됨(편집 상태)"
   ]
  },
  {
   "cell_type": "code",
   "execution_count": null,
   "id": "a6e79599",
   "metadata": {},
   "outputs": [],
   "source": [
    "print(\"hello\")"
   ]
  },
  {
   "cell_type": "code",
   "execution_count": null,
   "id": "818202f0",
   "metadata": {},
   "outputs": [],
   "source": [
    "a = 1\n",
    "b = '2'\n",
    "a + int(b) #문자 + 숫가 불가능"
   ]
  },
  {
   "cell_type": "code",
   "execution_count": null,
   "id": "3a358b77",
   "metadata": {},
   "outputs": [],
   "source": [
    "# for i in  range (1000):\n",
    "#     print(i)\n",
    "# ctrl + / 주석처리"
   ]
  },
  {
   "cell_type": "markdown",
   "id": "e0dc8fbe",
   "metadata": {},
   "source": [
    "# 2. ESC키 누르고 핫키\n",
    "- dd : 셀삭제\n",
    "- a :윗셀추가\n",
    "- b : 아랫셀 추가\n",
    "- m : 마크업셀로 전환\n",
    "- y : 코드셀로 전환"
   ]
  },
  {
   "cell_type": "markdown",
   "id": "ca0f2e87",
   "metadata": {},
   "source": [
    "# 3. 마크다운이란?\n",
    "    - 코드와 함께 문서화 할 수 있다.\n",
    "    \n",
    "    여러줄 설명은 \n",
    "    줄바꿈으로 할 수 있습니다.\n",
    "    \n",
    "    ``` #마크업셀 \n",
    "    여러줄 설명은\n",
    "    줄바꿈으로 할 수 있습니다\n",
    "    ```"
   ]
  },
  {
   "cell_type": "markdown",
   "id": "24c812fe",
   "metadata": {},
   "source": [
    "4. Table of content \n",
    "view에서 이용"
   ]
  },
  {
   "cell_type": "markdown",
   "id": "70d64d81",
   "metadata": {},
   "source": [
    "!dir #주피터노트북에서 !는 cmd명령어 수행 가능"
   ]
  }
 ],
 "metadata": {
  "kernelspec": {
   "display_name": "Python 3 (ipykernel)",
   "language": "python",
   "name": "python3"
  },
  "language_info": {
   "codemirror_mode": {
    "name": "ipython",
    "version": 3
   },
   "file_extension": ".py",
   "mimetype": "text/x-python",
   "name": "python",
   "nbconvert_exporter": "python",
   "pygments_lexer": "ipython3",
   "version": "3.12.3"
  }
 },
 "nbformat": 4,
 "nbformat_minor": 5
}
