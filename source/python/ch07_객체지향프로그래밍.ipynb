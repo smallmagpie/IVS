{
 "cells": [
  {
   "cell_type": "markdown",
   "id": "6338b4d4-be66-4a1a-9e08-4781ae8a89b2",
   "metadata": {},
   "source": [
    "ch07 객체지향 프로그래밍\n"
   ]
  },
  {
   "cell_type": "markdown",
   "id": "0138d0be-55a1-44a5-bc1e-848492a604e5",
   "metadata": {},
   "source": [
    "# 1절. 객체와 클래스 \n",
    "```\n",
    "class 클래스명(상속받을 클래스명):\n",
    "    변수나 함수들을 선언\n",
    "```"
   ]
  },
  {
   "cell_type": "code",
   "execution_count": 2,
   "id": "d903fe0e-6449-4567-8ec6-b8e2a079e183",
   "metadata": {},
   "outputs": [],
   "source": [
    "class Person: #대문자로 시작\n",
    "    \"Person 클래스는 ~ dox string.\"\n",
    "    pass\n",
    "p1 = Person()"
   ]
  },
  {
   "cell_type": "code",
   "execution_count": 38,
   "id": "07c9f33b-4c9f-491f-9f16-5794f81a1937",
   "metadata": {},
   "outputs": [],
   "source": [
    "class Person: #객체에는 멤버변수와 값말고 다양한 함수 또한 존재한다.\n",
    "    'Person 클래스는 이름과 성별 멤버변수가 있는 객체타입입니다.'\n",
    "    def __init__(self, name='홍길동', gender = '남자'): #생성자함수 지역변수 gender\n",
    "        self.name = name\n",
    "        self.gender = gender # (객체안의 gender) = (매개변수 gender)\n",
    "        print(\"{},{} Person 객체가 생성되었습니다.\".format(self.name, self.gender))\n",
    "        \n",
    "    def print_info(self): #self를 넣지 않으면 객체안에서의 함수로 작동하지 않는다. / 객체안에 있는 함수.\n",
    "        print(\"{}님은 {}입니다.\".format(self.name, self.gender), end= '\\t')\n",
    "        \n",
    "    def printCnt(self,cnt): #객체 안에 함수는 무조건 self를 넣는다. 매개변수는 cnt만 넣으면 된다. 객체안에 함수가 하나 더 생성\n",
    "        for i in range(cnt):\n",
    "            print(self.name,end='\\t')\n",
    "            \n",
    "    # 클래스에서 상속 받은 __str__을 수정하려함\n",
    "    def __str__(self):\n",
    "        return \"{}\\t 성별은 {}\".format(self.name, self.gender)\n",
    "        "
   ]
  },
  {
   "cell_type": "code",
   "execution_count": 23,
   "id": "5465017f-fab3-4ba3-b3d7-cb18d0029da8",
   "metadata": {},
   "outputs": [
    {
     "name": "stdout",
     "output_type": "stream",
     "text": [
      "성춘향,여자 Person 객체가 생성되었습니다.\n"
     ]
    }
   ],
   "source": [
    "p1 = Person(\"성춘향\",\"여자\") #메모리에 객체 생성"
   ]
  },
  {
   "cell_type": "code",
   "execution_count": 24,
   "id": "ee1089a9-ae6a-4f2e-aff8-58ce7e58e4e9",
   "metadata": {},
   "outputs": [
    {
     "name": "stdout",
     "output_type": "stream",
     "text": [
      "성춘향 여자\n"
     ]
    }
   ],
   "source": [
    "print(p1.name,p1.gender)"
   ]
  },
  {
   "cell_type": "code",
   "execution_count": 25,
   "id": "51df0f9a-c1e9-49a1-9d0f-7d09231fbb83",
   "metadata": {},
   "outputs": [
    {
     "name": "stdout",
     "output_type": "stream",
     "text": [
      "성춘향님은 여자입니다.\n"
     ]
    }
   ],
   "source": [
    "p1.print_info() #매개변수가 없는 메소드"
   ]
  },
  {
   "cell_type": "code",
   "execution_count": 26,
   "id": "8686fa14-e057-44d4-b5e1-82da06352a3a",
   "metadata": {},
   "outputs": [
    {
     "name": "stdout",
     "output_type": "stream",
     "text": [
      "성춘향\t성춘향\t성춘향\t성춘향\t성춘향\t"
     ]
    }
   ],
   "source": [
    "p1.printCnt(5)"
   ]
  },
  {
   "cell_type": "code",
   "execution_count": 27,
   "id": "204c9a2c-7bf9-449a-9159-277b21d52772",
   "metadata": {},
   "outputs": [
    {
     "name": "stdout",
     "output_type": "stream",
     "text": [
      "1\n"
     ]
    }
   ],
   "source": [
    "print(1)"
   ]
  },
  {
   "cell_type": "code",
   "execution_count": 28,
   "id": "fba3dc48-3ad1-4c47-904d-e4d494e16924",
   "metadata": {},
   "outputs": [
    {
     "name": "stdout",
     "output_type": "stream",
     "text": [
      "성춘향\t 성별은 여자\n"
     ]
    }
   ],
   "source": [
    "print(p1.__str__()) #p1을 문자로 바꾸고 싶어한다. 내부적으로 __str__를 호출한다. "
   ]
  },
  {
   "cell_type": "code",
   "execution_count": 21,
   "id": "28d6d0d3-253a-4c93-aa8b-71f57069bfaf",
   "metadata": {},
   "outputs": [
    {
     "ename": "AttributeError",
     "evalue": "'Person' object has no attribute '__abc__'",
     "output_type": "error",
     "traceback": [
      "\u001b[1;31m---------------------------------------------------------------------------\u001b[0m",
      "\u001b[1;31mAttributeError\u001b[0m                            Traceback (most recent call last)",
      "Cell \u001b[1;32mIn[21], line 1\u001b[0m\n\u001b[1;32m----> 1\u001b[0m \u001b[38;5;28mprint\u001b[39m(p1\u001b[38;5;241m.\u001b[39m__abc__())\n",
      "\u001b[1;31mAttributeError\u001b[0m: 'Person' object has no attribute '__abc__'"
     ]
    }
   ],
   "source": [
    "print(p1.__abc__()) #없는 함수는 발생 시 에러 -> 클래스 안에 __str__라는 함수가 존재한다. (상속받아져 있음.)"
   ]
  },
  {
   "cell_type": "code",
   "execution_count": 29,
   "id": "a1bc856d-b96d-4c3e-b461-54cfb17eae36",
   "metadata": {},
   "outputs": [
    {
     "name": "stdout",
     "output_type": "stream",
     "text": [
      "성춘향\t 성별은 여자\n"
     ]
    }
   ],
   "source": [
    "print(p1)"
   ]
  },
  {
   "cell_type": "code",
   "execution_count": 30,
   "id": "6d609065-da84-4cfd-90f8-186f53ef7e76",
   "metadata": {},
   "outputs": [],
   "source": [
    "#새로운 멤버 score, member 같은 것을 추가하고 싶다.\n",
    "# 새로운 클래스를 만들어도 되지만 이미 만들어진 클래스에는 이미 검증된 데이터와 함수들이 다수 존재한다.\n",
    "# -> 검증하는 시간을 매우 많이 줄일 수 있다."
   ]
  },
  {
   "cell_type": "markdown",
   "id": "3b717219-8971-4eb8-b48c-15c6530b988f",
   "metadata": {},
   "source": [
    "# 2. 상속과 재정의(override)"
   ]
  },
  {
   "cell_type": "code",
   "execution_count": 39,
   "id": "3211e1e1-1d31-4901-9abf-32fc60937417",
   "metadata": {},
   "outputs": [],
   "source": [
    "class Student(Person): #Person 을 상속받을 수 있다.\n",
    "    'name,gender,major 멤버변수를 갖는 Student타입'\n",
    "    def __init__(self,name,gender,major): #기본값이 없는 변수이기 때문에 다 넣어주자.\n",
    "        #부모클래스의 생성자 함수로 name, gender 초기화.  super() -> 부모클래스의\n",
    "        #self.name -> 상속받았기 때문에 넣을 필요가 없음.\n",
    "        super().__init__(name,gender) #부모클래스\n",
    "        Person.__init__(name,gender)\n",
    "        self.major = major\n",
    "        \n",
    "#print_info()는 상속받은 거기 때문에 name과 gender 출력됨\n",
    "# -> major만 추가될 수 있도록 세팅해주자\n",
    "    def print_info(self):\n",
    "        super().print_info()\n",
    "        print(\"그리고 전공은 {}입니다.\".format(self.major))\n",
    "    def __str__(self):\n",
    "        return super().__str___() + \"그리고 전공은 {}\".format(self.major) #부모클래스에 스트링을 이미 만들어줘서 가져온다.\n",
    "    "
   ]
  },
  {
   "cell_type": "code",
   "execution_count": 40,
   "id": "c72eb375-2813-4378-835a-c799dd49365e",
   "metadata": {},
   "outputs": [
    {
     "name": "stdout",
     "output_type": "stream",
     "text": [
      "김철수,남자 Person 객체가 생성되었습니다.\n"
     ]
    },
    {
     "ename": "AttributeError",
     "evalue": "'str' object has no attribute 'name'",
     "output_type": "error",
     "traceback": [
      "\u001b[1;31m---------------------------------------------------------------------------\u001b[0m",
      "\u001b[1;31mAttributeError\u001b[0m                            Traceback (most recent call last)",
      "Cell \u001b[1;32mIn[40], line 1\u001b[0m\n\u001b[1;32m----> 1\u001b[0m s1 \u001b[38;5;241m=\u001b[39m Student(\u001b[38;5;124m\"\u001b[39m\u001b[38;5;124m김철수\u001b[39m\u001b[38;5;124m\"\u001b[39m,\u001b[38;5;124m\"\u001b[39m\u001b[38;5;124m남자\u001b[39m\u001b[38;5;124m\"\u001b[39m,\u001b[38;5;124m\"\u001b[39m\u001b[38;5;124m컴공\u001b[39m\u001b[38;5;124m\"\u001b[39m)\n",
      "Cell \u001b[1;32mIn[39], line 7\u001b[0m, in \u001b[0;36mStudent.__init__\u001b[1;34m(self, name, gender, major)\u001b[0m\n\u001b[0;32m      3\u001b[0m \u001b[38;5;28;01mdef\u001b[39;00m \u001b[38;5;21m__init__\u001b[39m(\u001b[38;5;28mself\u001b[39m,name,gender,major): \u001b[38;5;66;03m#기본값이 없는 변수이기 때문에 다 넣어주자.\u001b[39;00m\n\u001b[0;32m      4\u001b[0m     \u001b[38;5;66;03m#부모클래스의 생성자 함수로 name, gender 초기화.  super() -> 부모클래스의\u001b[39;00m\n\u001b[0;32m      5\u001b[0m     \u001b[38;5;66;03m#self.name -> 상속받았기 때문에 넣을 필요가 없음.\u001b[39;00m\n\u001b[0;32m      6\u001b[0m     \u001b[38;5;28msuper\u001b[39m()\u001b[38;5;241m.\u001b[39m\u001b[38;5;21m__init__\u001b[39m(name,gender) \u001b[38;5;66;03m#부모클래스\u001b[39;00m\n\u001b[1;32m----> 7\u001b[0m     Person\u001b[38;5;241m.\u001b[39m\u001b[38;5;21m__init__\u001b[39m(name,gender)\n\u001b[0;32m      8\u001b[0m     \u001b[38;5;28mself\u001b[39m\u001b[38;5;241m.\u001b[39mmajor \u001b[38;5;241m=\u001b[39m major\n",
      "Cell \u001b[1;32mIn[38], line 4\u001b[0m, in \u001b[0;36mPerson.__init__\u001b[1;34m(self, name, gender)\u001b[0m\n\u001b[0;32m      3\u001b[0m \u001b[38;5;28;01mdef\u001b[39;00m \u001b[38;5;21m__init__\u001b[39m(\u001b[38;5;28mself\u001b[39m, name\u001b[38;5;241m=\u001b[39m\u001b[38;5;124m'\u001b[39m\u001b[38;5;124m홍길동\u001b[39m\u001b[38;5;124m'\u001b[39m, gender \u001b[38;5;241m=\u001b[39m \u001b[38;5;124m'\u001b[39m\u001b[38;5;124m남자\u001b[39m\u001b[38;5;124m'\u001b[39m): \u001b[38;5;66;03m#생성자함수 지역변수 gender\u001b[39;00m\n\u001b[1;32m----> 4\u001b[0m     \u001b[38;5;28mself\u001b[39m\u001b[38;5;241m.\u001b[39mname \u001b[38;5;241m=\u001b[39m name\n\u001b[0;32m      5\u001b[0m     \u001b[38;5;28mself\u001b[39m\u001b[38;5;241m.\u001b[39mgender \u001b[38;5;241m=\u001b[39m gender \u001b[38;5;66;03m# (객체안의 gender) = (매개변수 gender)\u001b[39;00m\n\u001b[0;32m      6\u001b[0m     \u001b[38;5;28mprint\u001b[39m(\u001b[38;5;124m\"\u001b[39m\u001b[38;5;132;01m{}\u001b[39;00m\u001b[38;5;124m,\u001b[39m\u001b[38;5;132;01m{}\u001b[39;00m\u001b[38;5;124m Person 객체가 생성되었습니다.\u001b[39m\u001b[38;5;124m\"\u001b[39m\u001b[38;5;241m.\u001b[39mformat(\u001b[38;5;28mself\u001b[39m\u001b[38;5;241m.\u001b[39mname, \u001b[38;5;28mself\u001b[39m\u001b[38;5;241m.\u001b[39mgender))\n",
      "\u001b[1;31mAttributeError\u001b[0m: 'str' object has no attribute 'name'"
     ]
    }
   ],
   "source": [
    "s1 = Student(\"김철수\",\"남자\",\"컴공\") #변수 메소드 함수 다 상속받는다.\n",
    "                                    \n",
    "\n",
    "    "
   ]
  },
  {
   "cell_type": "code",
   "execution_count": 41,
   "id": "ec423d8a-ed1a-4b5d-8473-6d561fabf530",
   "metadata": {},
   "outputs": [
    {
     "ename": "NameError",
     "evalue": "name 's1' is not defined",
     "output_type": "error",
     "traceback": [
      "\u001b[1;31m---------------------------------------------------------------------------\u001b[0m",
      "\u001b[1;31mNameError\u001b[0m                                 Traceback (most recent call last)",
      "Cell \u001b[1;32mIn[41], line 1\u001b[0m\n\u001b[1;32m----> 1\u001b[0m s1\u001b[38;5;241m.\u001b[39mname\n",
      "\u001b[1;31mNameError\u001b[0m: name 's1' is not defined"
     ]
    }
   ],
   "source": [
    "s1.name, s1.gender, s1.major"
   ]
  },
  {
   "cell_type": "code",
   "execution_count": 42,
   "id": "d1b8d018-f79c-44b7-824a-314340c35ba3",
   "metadata": {},
   "outputs": [
    {
     "ename": "NameError",
     "evalue": "name 's1' is not defined",
     "output_type": "error",
     "traceback": [
      "\u001b[1;31m---------------------------------------------------------------------------\u001b[0m",
      "\u001b[1;31mNameError\u001b[0m                                 Traceback (most recent call last)",
      "Cell \u001b[1;32mIn[42], line 1\u001b[0m\n\u001b[1;32m----> 1\u001b[0m s1\u001b[38;5;241m.\u001b[39mprint_info()\n",
      "\u001b[1;31mNameError\u001b[0m: name 's1' is not defined"
     ]
    }
   ],
   "source": [
    "s1.print_info()"
   ]
  },
  {
   "cell_type": "code",
   "execution_count": 43,
   "id": "8b7ebba2-e4ee-42b6-918e-a49af309b128",
   "metadata": {},
   "outputs": [
    {
     "ename": "NameError",
     "evalue": "name 's1' is not defined",
     "output_type": "error",
     "traceback": [
      "\u001b[1;31m---------------------------------------------------------------------------\u001b[0m",
      "\u001b[1;31mNameError\u001b[0m                                 Traceback (most recent call last)",
      "Cell \u001b[1;32mIn[43], line 1\u001b[0m\n\u001b[1;32m----> 1\u001b[0m s1\u001b[38;5;241m.\u001b[39mprintcnt(\u001b[38;5;241m5\u001b[39m)\n",
      "\u001b[1;31mNameError\u001b[0m: name 's1' is not defined"
     ]
    }
   ],
   "source": [
    "s1.printcnt(5)"
   ]
  },
  {
   "cell_type": "code",
   "execution_count": 44,
   "id": "08c079b1-4f4f-487e-a4a5-725878060944",
   "metadata": {},
   "outputs": [
    {
     "ename": "NameError",
     "evalue": "name 's1' is not defined",
     "output_type": "error",
     "traceback": [
      "\u001b[1;31m---------------------------------------------------------------------------\u001b[0m",
      "\u001b[1;31mNameError\u001b[0m                                 Traceback (most recent call last)",
      "Cell \u001b[1;32mIn[44], line 1\u001b[0m\n\u001b[1;32m----> 1\u001b[0m \u001b[38;5;28mprint\u001b[39m(s1)\n",
      "\u001b[1;31mNameError\u001b[0m: name 's1' is not defined"
     ]
    }
   ],
   "source": [
    "print(s1)"
   ]
  },
  {
   "cell_type": "code",
   "execution_count": null,
   "id": "798be3fe-92dc-4604-b9c1-e3542e018150",
   "metadata": {},
   "outputs": [],
   "source": []
  }
 ],
 "metadata": {
  "kernelspec": {
   "display_name": "Python 3 (ipykernel)",
   "language": "python",
   "name": "python3"
  },
  "language_info": {
   "codemirror_mode": {
    "name": "ipython",
    "version": 3
   },
   "file_extension": ".py",
   "mimetype": "text/x-python",
   "name": "python",
   "nbconvert_exporter": "python",
   "pygments_lexer": "ipython3",
   "version": "3.12.3"
  }
 },
 "nbformat": 4,
 "nbformat_minor": 5
}
